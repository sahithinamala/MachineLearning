{
  "nbformat": 4,
  "nbformat_minor": 0,
  "metadata": {
    "colab": {
      "name": "Bacteria.ipynb",
      "provenance": [],
      "mount_file_id": "1_A0o9lkQp8Xy5hwb9ZSIIlh0_6vqCLwH",
      "authorship_tag": "ABX9TyPHvrP9AXQ+AhkYRZGsAC5J",
      "include_colab_link": true
    },
    "kernelspec": {
      "name": "python3",
      "display_name": "Python 3"
    },
    "language_info": {
      "name": "python"
    },
    "accelerator": "GPU",
    "widgets": {
      "application/vnd.jupyter.widget-state+json": {
        "2007b310b4dd421a9cc458238fb34959": {
          "model_module": "@jupyter-widgets/controls",
          "model_name": "HBoxModel",
          "model_module_version": "1.5.0",
          "state": {
            "_view_name": "HBoxView",
            "_dom_classes": [],
            "_model_name": "HBoxModel",
            "_view_module": "@jupyter-widgets/controls",
            "_model_module_version": "1.5.0",
            "_view_count": null,
            "_view_module_version": "1.5.0",
            "box_style": "",
            "layout": "IPY_MODEL_1c342c5874554f1aafb7a5547bfb06a6",
            "_model_module": "@jupyter-widgets/controls",
            "children": [
              "IPY_MODEL_d59e5d5c9e094a1286001c5f982f90cb",
              "IPY_MODEL_2e6b8e0228e04b25994cd5ba6fcbb088",
              "IPY_MODEL_6983912670e64c69bae6e8bcfc844e94"
            ]
          }
        },
        "1c342c5874554f1aafb7a5547bfb06a6": {
          "model_module": "@jupyter-widgets/base",
          "model_name": "LayoutModel",
          "model_module_version": "1.2.0",
          "state": {
            "_view_name": "LayoutView",
            "grid_template_rows": null,
            "right": null,
            "justify_content": null,
            "_view_module": "@jupyter-widgets/base",
            "overflow": null,
            "_model_module_version": "1.2.0",
            "_view_count": null,
            "flex_flow": null,
            "width": null,
            "min_width": null,
            "border": null,
            "align_items": null,
            "bottom": null,
            "_model_module": "@jupyter-widgets/base",
            "top": null,
            "grid_column": null,
            "overflow_y": null,
            "overflow_x": null,
            "grid_auto_flow": null,
            "grid_area": null,
            "grid_template_columns": null,
            "flex": null,
            "_model_name": "LayoutModel",
            "justify_items": null,
            "grid_row": null,
            "max_height": null,
            "align_content": null,
            "visibility": null,
            "align_self": null,
            "height": null,
            "min_height": null,
            "padding": null,
            "grid_auto_rows": null,
            "grid_gap": null,
            "max_width": null,
            "order": null,
            "_view_module_version": "1.2.0",
            "grid_template_areas": null,
            "object_position": null,
            "object_fit": null,
            "grid_auto_columns": null,
            "margin": null,
            "display": null,
            "left": null
          }
        },
        "d59e5d5c9e094a1286001c5f982f90cb": {
          "model_module": "@jupyter-widgets/controls",
          "model_name": "HTMLModel",
          "model_module_version": "1.5.0",
          "state": {
            "_view_name": "HTMLView",
            "style": "IPY_MODEL_073ef03eb93d483f97379bd2398920ea",
            "_dom_classes": [],
            "description": "",
            "_model_name": "HTMLModel",
            "placeholder": "​",
            "_view_module": "@jupyter-widgets/controls",
            "_model_module_version": "1.5.0",
            "value": "100%",
            "_view_count": null,
            "_view_module_version": "1.5.0",
            "description_tooltip": null,
            "_model_module": "@jupyter-widgets/controls",
            "layout": "IPY_MODEL_8695d2cf49264bde8033df3bf6742638"
          }
        },
        "2e6b8e0228e04b25994cd5ba6fcbb088": {
          "model_module": "@jupyter-widgets/controls",
          "model_name": "FloatProgressModel",
          "model_module_version": "1.5.0",
          "state": {
            "_view_name": "ProgressView",
            "style": "IPY_MODEL_b8691782e87d403f880ec8adec4d41f0",
            "_dom_classes": [],
            "description": "",
            "_model_name": "FloatProgressModel",
            "bar_style": "success",
            "max": 87306240,
            "_view_module": "@jupyter-widgets/controls",
            "_model_module_version": "1.5.0",
            "value": 87306240,
            "_view_count": null,
            "_view_module_version": "1.5.0",
            "orientation": "horizontal",
            "min": 0,
            "description_tooltip": null,
            "_model_module": "@jupyter-widgets/controls",
            "layout": "IPY_MODEL_8133a131dfc6410692ddca795b76672c"
          }
        },
        "6983912670e64c69bae6e8bcfc844e94": {
          "model_module": "@jupyter-widgets/controls",
          "model_name": "HTMLModel",
          "model_module_version": "1.5.0",
          "state": {
            "_view_name": "HTMLView",
            "style": "IPY_MODEL_c148e71ef55f46eaa0ed1b20d043f0af",
            "_dom_classes": [],
            "description": "",
            "_model_name": "HTMLModel",
            "placeholder": "​",
            "_view_module": "@jupyter-widgets/controls",
            "_model_module_version": "1.5.0",
            "value": " 83.3M/83.3M [00:00&lt;00:00, 109MB/s]",
            "_view_count": null,
            "_view_module_version": "1.5.0",
            "description_tooltip": null,
            "_model_module": "@jupyter-widgets/controls",
            "layout": "IPY_MODEL_18be0e03101741cdb86b508ff0ef36d7"
          }
        },
        "073ef03eb93d483f97379bd2398920ea": {
          "model_module": "@jupyter-widgets/controls",
          "model_name": "DescriptionStyleModel",
          "model_module_version": "1.5.0",
          "state": {
            "_view_name": "StyleView",
            "_model_name": "DescriptionStyleModel",
            "description_width": "",
            "_view_module": "@jupyter-widgets/base",
            "_model_module_version": "1.5.0",
            "_view_count": null,
            "_view_module_version": "1.2.0",
            "_model_module": "@jupyter-widgets/controls"
          }
        },
        "8695d2cf49264bde8033df3bf6742638": {
          "model_module": "@jupyter-widgets/base",
          "model_name": "LayoutModel",
          "model_module_version": "1.2.0",
          "state": {
            "_view_name": "LayoutView",
            "grid_template_rows": null,
            "right": null,
            "justify_content": null,
            "_view_module": "@jupyter-widgets/base",
            "overflow": null,
            "_model_module_version": "1.2.0",
            "_view_count": null,
            "flex_flow": null,
            "width": null,
            "min_width": null,
            "border": null,
            "align_items": null,
            "bottom": null,
            "_model_module": "@jupyter-widgets/base",
            "top": null,
            "grid_column": null,
            "overflow_y": null,
            "overflow_x": null,
            "grid_auto_flow": null,
            "grid_area": null,
            "grid_template_columns": null,
            "flex": null,
            "_model_name": "LayoutModel",
            "justify_items": null,
            "grid_row": null,
            "max_height": null,
            "align_content": null,
            "visibility": null,
            "align_self": null,
            "height": null,
            "min_height": null,
            "padding": null,
            "grid_auto_rows": null,
            "grid_gap": null,
            "max_width": null,
            "order": null,
            "_view_module_version": "1.2.0",
            "grid_template_areas": null,
            "object_position": null,
            "object_fit": null,
            "grid_auto_columns": null,
            "margin": null,
            "display": null,
            "left": null
          }
        },
        "b8691782e87d403f880ec8adec4d41f0": {
          "model_module": "@jupyter-widgets/controls",
          "model_name": "ProgressStyleModel",
          "model_module_version": "1.5.0",
          "state": {
            "_view_name": "StyleView",
            "_model_name": "ProgressStyleModel",
            "description_width": "",
            "_view_module": "@jupyter-widgets/base",
            "_model_module_version": "1.5.0",
            "_view_count": null,
            "_view_module_version": "1.2.0",
            "bar_color": null,
            "_model_module": "@jupyter-widgets/controls"
          }
        },
        "8133a131dfc6410692ddca795b76672c": {
          "model_module": "@jupyter-widgets/base",
          "model_name": "LayoutModel",
          "model_module_version": "1.2.0",
          "state": {
            "_view_name": "LayoutView",
            "grid_template_rows": null,
            "right": null,
            "justify_content": null,
            "_view_module": "@jupyter-widgets/base",
            "overflow": null,
            "_model_module_version": "1.2.0",
            "_view_count": null,
            "flex_flow": null,
            "width": null,
            "min_width": null,
            "border": null,
            "align_items": null,
            "bottom": null,
            "_model_module": "@jupyter-widgets/base",
            "top": null,
            "grid_column": null,
            "overflow_y": null,
            "overflow_x": null,
            "grid_auto_flow": null,
            "grid_area": null,
            "grid_template_columns": null,
            "flex": null,
            "_model_name": "LayoutModel",
            "justify_items": null,
            "grid_row": null,
            "max_height": null,
            "align_content": null,
            "visibility": null,
            "align_self": null,
            "height": null,
            "min_height": null,
            "padding": null,
            "grid_auto_rows": null,
            "grid_gap": null,
            "max_width": null,
            "order": null,
            "_view_module_version": "1.2.0",
            "grid_template_areas": null,
            "object_position": null,
            "object_fit": null,
            "grid_auto_columns": null,
            "margin": null,
            "display": null,
            "left": null
          }
        },
        "c148e71ef55f46eaa0ed1b20d043f0af": {
          "model_module": "@jupyter-widgets/controls",
          "model_name": "DescriptionStyleModel",
          "model_module_version": "1.5.0",
          "state": {
            "_view_name": "StyleView",
            "_model_name": "DescriptionStyleModel",
            "description_width": "",
            "_view_module": "@jupyter-widgets/base",
            "_model_module_version": "1.5.0",
            "_view_count": null,
            "_view_module_version": "1.2.0",
            "_model_module": "@jupyter-widgets/controls"
          }
        },
        "18be0e03101741cdb86b508ff0ef36d7": {
          "model_module": "@jupyter-widgets/base",
          "model_name": "LayoutModel",
          "model_module_version": "1.2.0",
          "state": {
            "_view_name": "LayoutView",
            "grid_template_rows": null,
            "right": null,
            "justify_content": null,
            "_view_module": "@jupyter-widgets/base",
            "overflow": null,
            "_model_module_version": "1.2.0",
            "_view_count": null,
            "flex_flow": null,
            "width": null,
            "min_width": null,
            "border": null,
            "align_items": null,
            "bottom": null,
            "_model_module": "@jupyter-widgets/base",
            "top": null,
            "grid_column": null,
            "overflow_y": null,
            "overflow_x": null,
            "grid_auto_flow": null,
            "grid_area": null,
            "grid_template_columns": null,
            "flex": null,
            "_model_name": "LayoutModel",
            "justify_items": null,
            "grid_row": null,
            "max_height": null,
            "align_content": null,
            "visibility": null,
            "align_self": null,
            "height": null,
            "min_height": null,
            "padding": null,
            "grid_auto_rows": null,
            "grid_gap": null,
            "max_width": null,
            "order": null,
            "_view_module_version": "1.2.0",
            "grid_template_areas": null,
            "object_position": null,
            "object_fit": null,
            "grid_auto_columns": null,
            "margin": null,
            "display": null,
            "left": null
          }
        }
      }
    }
  },
  "cells": [
    {
      "cell_type": "markdown",
      "metadata": {
        "id": "view-in-github",
        "colab_type": "text"
      },
      "source": [
        "<a href=\"https://colab.research.google.com/github/sahithinamala/MachineLearning/blob/main/Bacteria.ipynb\" target=\"_parent\"><img src=\"https://colab.research.google.com/assets/colab-badge.svg\" alt=\"Open In Colab\"/></a>"
      ]
    },
    {
      "cell_type": "code",
      "metadata": {
        "colab": {
          "base_uri": "https://localhost:8080/"
        },
        "id": "c4qyDCyISvmk",
        "outputId": "d97e2c0c-7ba6-43a0-9617-5d1c0f4d6237"
      },
      "source": [
        "from google.colab import drive\n",
        "drive.mount('/content/drive')"
      ],
      "execution_count": null,
      "outputs": [
        {
          "output_type": "stream",
          "name": "stdout",
          "text": [
            "Drive already mounted at /content/drive; to attempt to forcibly remount, call drive.mount(\"/content/drive\", force_remount=True).\n"
          ]
        }
      ]
    },
    {
      "cell_type": "code",
      "metadata": {
        "id": "pMB2OxKSipB7"
      },
      "source": [
        "import torchvision.models as models"
      ],
      "execution_count": null,
      "outputs": []
    },
    {
      "cell_type": "code",
      "metadata": {
        "id": "KuySU2xTwZ8d"
      },
      "source": [
        "import torch\n",
        "import torchvision\n",
        "import cv2\n",
        "import pandas as pd\n",
        "from PIL import Image\n",
        "from torch.utils.data import Dataset, DataLoader\n",
        "from torchvision import transforms, utils\n",
        "from glob import glob\n",
        "import torch\n",
        "import torch.nn as nn\n",
        "import torch.nn.functional as F\n",
        "import torch.optim as optim\n",
        "import numpy as np\n",
        "import matplotlib.pyplot as plt\n",
        "from sklearn.model_selection import train_test_split\n",
        "from torchvision.transforms.functional import to_tensor\n",
        "import shutil\n",
        "import os\n",
        "import random"
      ],
      "execution_count": null,
      "outputs": []
    },
    {
      "cell_type": "code",
      "metadata": {
        "colab": {
          "base_uri": "https://localhost:8080/"
        },
        "id": "5qE2KX9-lgos",
        "outputId": "bc10c789-c819-494f-9c35-cf9ca8718757"
      },
      "source": [
        "!pip install segmentation-models-pytorch\n"
      ],
      "execution_count": null,
      "outputs": [
        {
          "output_type": "stream",
          "name": "stdout",
          "text": [
            "Collecting segmentation-models-pytorch\n",
            "  Downloading segmentation_models_pytorch-0.2.1-py3-none-any.whl (88 kB)\n",
            "\u001b[?25l\r\u001b[K     |███▊                            | 10 kB 11.9 MB/s eta 0:00:01\r\u001b[K     |███████▍                        | 20 kB 14.2 MB/s eta 0:00:01\r\u001b[K     |███████████                     | 30 kB 18.3 MB/s eta 0:00:01\r\u001b[K     |██████████████▉                 | 40 kB 20.9 MB/s eta 0:00:01\r\u001b[K     |██████████████████▌             | 51 kB 21.2 MB/s eta 0:00:01\r\u001b[K     |██████████████████████▏         | 61 kB 12.4 MB/s eta 0:00:01\r\u001b[K     |██████████████████████████      | 71 kB 12.3 MB/s eta 0:00:01\r\u001b[K     |█████████████████████████████▋  | 81 kB 13.5 MB/s eta 0:00:01\r\u001b[K     |████████████████████████████████| 88 kB 5.4 MB/s \n",
            "\u001b[?25hCollecting efficientnet-pytorch==0.6.3\n",
            "  Downloading efficientnet_pytorch-0.6.3.tar.gz (16 kB)\n",
            "Collecting pretrainedmodels==0.7.4\n",
            "  Downloading pretrainedmodels-0.7.4.tar.gz (58 kB)\n",
            "\u001b[K     |████████████████████████████████| 58 kB 6.3 MB/s \n",
            "\u001b[?25hCollecting timm==0.4.12\n",
            "  Downloading timm-0.4.12-py3-none-any.whl (376 kB)\n",
            "\u001b[K     |████████████████████████████████| 376 kB 51.3 MB/s \n",
            "\u001b[?25hRequirement already satisfied: torchvision>=0.5.0 in /usr/local/lib/python3.7/dist-packages (from segmentation-models-pytorch) (0.11.1+cu111)\n",
            "Requirement already satisfied: torch in /usr/local/lib/python3.7/dist-packages (from efficientnet-pytorch==0.6.3->segmentation-models-pytorch) (1.10.0+cu111)\n",
            "Collecting munch\n",
            "  Downloading munch-2.5.0-py2.py3-none-any.whl (10 kB)\n",
            "Requirement already satisfied: tqdm in /usr/local/lib/python3.7/dist-packages (from pretrainedmodels==0.7.4->segmentation-models-pytorch) (4.62.3)\n",
            "Requirement already satisfied: typing-extensions in /usr/local/lib/python3.7/dist-packages (from torch->efficientnet-pytorch==0.6.3->segmentation-models-pytorch) (3.10.0.2)\n",
            "Requirement already satisfied: numpy in /usr/local/lib/python3.7/dist-packages (from torchvision>=0.5.0->segmentation-models-pytorch) (1.19.5)\n",
            "Requirement already satisfied: pillow!=8.3.0,>=5.3.0 in /usr/local/lib/python3.7/dist-packages (from torchvision>=0.5.0->segmentation-models-pytorch) (7.1.2)\n",
            "Requirement already satisfied: six in /usr/local/lib/python3.7/dist-packages (from munch->pretrainedmodels==0.7.4->segmentation-models-pytorch) (1.15.0)\n",
            "Building wheels for collected packages: efficientnet-pytorch, pretrainedmodels\n",
            "  Building wheel for efficientnet-pytorch (setup.py) ... \u001b[?25l\u001b[?25hdone\n",
            "  Created wheel for efficientnet-pytorch: filename=efficientnet_pytorch-0.6.3-py3-none-any.whl size=12421 sha256=001e59f78fcf928f45af933cfa7651be19f34a3aab789454db88bfbd49bbcdb5\n",
            "  Stored in directory: /root/.cache/pip/wheels/90/6b/0c/f0ad36d00310e65390b0d4c9218ae6250ac579c92540c9097a\n",
            "  Building wheel for pretrainedmodels (setup.py) ... \u001b[?25l\u001b[?25hdone\n",
            "  Created wheel for pretrainedmodels: filename=pretrainedmodels-0.7.4-py3-none-any.whl size=60965 sha256=22e37ef6d5dd999c75475e4dca51277cdd39dbd110f46d65239406284b346c4d\n",
            "  Stored in directory: /root/.cache/pip/wheels/ed/27/e8/9543d42de2740d3544db96aefef63bda3f2c1761b3334f4873\n",
            "Successfully built efficientnet-pytorch pretrainedmodels\n",
            "Installing collected packages: munch, timm, pretrainedmodels, efficientnet-pytorch, segmentation-models-pytorch\n",
            "Successfully installed efficientnet-pytorch-0.6.3 munch-2.5.0 pretrainedmodels-0.7.4 segmentation-models-pytorch-0.2.1 timm-0.4.12\n"
          ]
        }
      ]
    },
    {
      "cell_type": "code",
      "metadata": {
        "colab": {
          "base_uri": "https://localhost:8080/"
        },
        "id": "MmE3PHKIyDdq",
        "outputId": "606b6197-4f26-453a-fe6c-0e309e51e236"
      },
      "source": [
        "images_path = sorted(os.listdir(\"/content/drive/MyDrive/images\"))\n",
        "masks_path = sorted(os.listdir(\"/content/drive/MyDrive/masks\"))\n",
        "len(masks_path)"
      ],
      "execution_count": null,
      "outputs": [
        {
          "output_type": "execute_result",
          "data": {
            "text/plain": [
              "366"
            ]
          },
          "metadata": {},
          "execution_count": 5
        }
      ]
    },
    {
      "cell_type": "code",
      "metadata": {
        "colab": {
          "base_uri": "https://localhost:8080/"
        },
        "id": "PIy9t3PfwhZG",
        "outputId": "8e25d9e8-20cc-43db-c2ac-e56604192866"
      },
      "source": [
        "len(images_path)"
      ],
      "execution_count": null,
      "outputs": [
        {
          "output_type": "execute_result",
          "data": {
            "text/plain": [
              "366"
            ]
          },
          "metadata": {},
          "execution_count": 6
        }
      ]
    },
    {
      "cell_type": "code",
      "metadata": {
        "id": "OoGy2bmdwsCJ"
      },
      "source": [
        "# for i in range(len(images_path)):\n",
        "#    img = cv2.cvtColor(cv2.imread(os.path.join('/content/drive/MyDrive/images/',images_path[i])),cv2.COLOR_BGR2RGB)\n",
        "#    mask =  cv2.cvtColor(cv2.imread(os.path.join('/content/drive/MyDrive/masks/',masks_path[i])),cv2.COLOR_BGR2RGB)\n",
        "#    im = cv2.cvtColor(img,cv2.COLOR_BGR2GRAY)\n",
        "#    mas = cv2.cvtColor(mask,cv2.COLOR_BGR2GRAY)\n"
      ],
      "execution_count": null,
      "outputs": []
    },
    {
      "cell_type": "code",
      "metadata": {
        "id": "1kMDoanKxJil"
      },
      "source": [
        "class Bacteria(Dataset):\n",
        "  def __init__(self,images_path,masks_path, size,transform = False):\n",
        "    #self.dataDirectory = data_dir\n",
        "    \n",
        "    self.images_path = images_path\n",
        "    self.masks_path = masks_path\n",
        "    self.transform = False\n",
        "    self.size = size\n",
        "    print(self.images_path)\n",
        "    print(self.masks_path)\n",
        "    # self.images_path = images\n",
        "\n",
        "  def __getitem__(self, idx):\n",
        "    # path_img = self.images_path[idx]\n",
        "    # path_mask = self.masks_path[idx]\n",
        "    # print(self.path_mask)\n",
        "    # img = cv2.cvtColor(cv2.imread(os.path.join(self.images_path,path_img)),cv2.COLOR_BGR2RGB)\n",
        "    # mask =  cv2.cvtColor(cv2.imread(os.path.join(self.masks_path,path_mask)),cv2.COLOR_BGR2RGB)\n",
        "    img = cv2.cvtColor(cv2.imread(self.images_path[idx]),cv2.COLOR_BGR2RGB)\n",
        "    mask = cv2.cvtColor(cv2.imread(self.masks_path[idx]),cv2.COLOR_BGR2RGB)\n",
        "\n",
        "   # print(img, mask, img.shape, mask.shape)\n",
        "    img= cv2.resize(img, self.size)\n",
        "    mask =  cv2.resize(mask, self.size)\n",
        "    # image, mask = cv2.cvtColor(img, cv2.COLOR_BGR2RGB), split(mask,\"/\")\n",
        "    image, mask = cv2.cvtColor(img, cv2.COLOR_BGR2RGB), cv2.cvtColor(mask, cv2.COLOR_BGR2RGB)\n",
        "    if self.transform:\n",
        "        trans = self.transforms(image=image, mask=mask)\n",
        "        image, mask = trans['image'], trans['mask']\n",
        "    image = image/255.0\n",
        "    image=image.transpose(2,1,0)\n",
        "    mask=mask.transpose(2,1,0)\n",
        "    # print(image.shape, mask.shape)\n",
        "    return torch.tensor(image),torch.tensor(mask)\n",
        "\n",
        "  def __len__(self):\n",
        "    return len(self.images_path)\n"
      ],
      "execution_count": null,
      "outputs": []
    },
    {
      "cell_type": "code",
      "metadata": {
        "id": "eaLHXQ_Ju-Fx"
      },
      "source": [
        "# train_dataset_0 = Bacteria(X_train,y_train, (512,512))"
      ],
      "execution_count": null,
      "outputs": []
    },
    {
      "cell_type": "code",
      "metadata": {
        "colab": {
          "base_uri": "https://localhost:8080/"
        },
        "id": "L0HcwO2UOihI",
        "outputId": "162fcf1c-e491-43aa-8321-892347a8f2a2"
      },
      "source": [
        "# dataset = Bacteria(\"/content/drive/MyDrive/images/\", \"/content/drive/MyDrive/masks/\", (1500,1500))\n",
        "import glob\n",
        "images_path = glob.glob(\"/content/drive/MyDrive/images/*\")\n",
        "masks_path = glob.glob(\"/content/drive/MyDrive/masks/*\")\n",
        "\n",
        "from sklearn.model_selection import train_test_split\n",
        "X_train, X_test, y_train, y_test = train_test_split(images_path, masks_path, test_size=0.33, random_state=42)\n",
        "\n",
        "test_dataset = Bacteria(X_test,y_test, (512,512))\n"
      ],
      "execution_count": null,
      "outputs": [
        {
          "output_type": "stream",
          "name": "stdout",
          "text": [
            "['/content/drive/MyDrive/images/191.png', '/content/drive/MyDrive/images/037.png', '/content/drive/MyDrive/images/009.png', '/content/drive/MyDrive/images/344.png', '/content/drive/MyDrive/images/054.png', '/content/drive/MyDrive/images/210.png', '/content/drive/MyDrive/images/050.png', '/content/drive/MyDrive/images/134.png', '/content/drive/MyDrive/images/147.png', '/content/drive/MyDrive/images/123.png', '/content/drive/MyDrive/images/299.png', '/content/drive/MyDrive/images/047.png', '/content/drive/MyDrive/images/280.png', '/content/drive/MyDrive/images/084.png', '/content/drive/MyDrive/images/127.png', '/content/drive/MyDrive/images/309.png', '/content/drive/MyDrive/images/003.png', '/content/drive/MyDrive/images/293.png', '/content/drive/MyDrive/images/305.png', '/content/drive/MyDrive/images/100.png', '/content/drive/MyDrive/images/020.png', '/content/drive/MyDrive/images/172.png', '/content/drive/MyDrive/images/064.png', '/content/drive/MyDrive/images/259.png', '/content/drive/MyDrive/images/227.png', '/content/drive/MyDrive/images/208.png', '/content/drive/MyDrive/images/236.png', '/content/drive/MyDrive/images/319.png', '/content/drive/MyDrive/images/326.png', '/content/drive/MyDrive/images/365.png', '/content/drive/MyDrive/images/031.png', '/content/drive/MyDrive/images/096.png', '/content/drive/MyDrive/images/076.png', '/content/drive/MyDrive/images/306.png', '/content/drive/MyDrive/images/197.png', '/content/drive/MyDrive/images/142.png', '/content/drive/MyDrive/images/062.png', '/content/drive/MyDrive/images/036.png', '/content/drive/MyDrive/images/287.png', '/content/drive/MyDrive/images/332.png', '/content/drive/MyDrive/images/255.png', '/content/drive/MyDrive/images/336.png', '/content/drive/MyDrive/images/026.png', '/content/drive/MyDrive/images/278.png', '/content/drive/MyDrive/images/110.png', '/content/drive/MyDrive/images/260.png', '/content/drive/MyDrive/images/105.png', '/content/drive/MyDrive/images/046.png', '/content/drive/MyDrive/images/016.png', '/content/drive/MyDrive/images/083.png', '/content/drive/MyDrive/images/248.png', '/content/drive/MyDrive/images/352.png', '/content/drive/MyDrive/images/290.png', '/content/drive/MyDrive/images/331.png', '/content/drive/MyDrive/images/152.png', '/content/drive/MyDrive/images/323.png', '/content/drive/MyDrive/images/099.png', '/content/drive/MyDrive/images/013.png', '/content/drive/MyDrive/images/366.png', '/content/drive/MyDrive/images/079.png', '/content/drive/MyDrive/images/249.png', '/content/drive/MyDrive/images/362.png', '/content/drive/MyDrive/images/073.png', '/content/drive/MyDrive/images/043.png', '/content/drive/MyDrive/images/279.png', '/content/drive/MyDrive/images/068.png', '/content/drive/MyDrive/images/252.png', '/content/drive/MyDrive/images/136.png', '/content/drive/MyDrive/images/192.png', '/content/drive/MyDrive/images/048.png', '/content/drive/MyDrive/images/092.png', '/content/drive/MyDrive/images/204.png', '/content/drive/MyDrive/images/356.png', '/content/drive/MyDrive/images/198.png', '/content/drive/MyDrive/images/269.png', '/content/drive/MyDrive/images/186.png', '/content/drive/MyDrive/images/067.png', '/content/drive/MyDrive/images/057.png', '/content/drive/MyDrive/images/282.png', '/content/drive/MyDrive/images/004.png', '/content/drive/MyDrive/images/081.png', '/content/drive/MyDrive/images/291.png', '/content/drive/MyDrive/images/005.png', '/content/drive/MyDrive/images/128.png', '/content/drive/MyDrive/images/121.png', '/content/drive/MyDrive/images/304.png', '/content/drive/MyDrive/images/310.png', '/content/drive/MyDrive/images/217.png', '/content/drive/MyDrive/images/342.png', '/content/drive/MyDrive/images/130.png', '/content/drive/MyDrive/images/345.png', '/content/drive/MyDrive/images/041.png', '/content/drive/MyDrive/images/143.png', '/content/drive/MyDrive/images/246.png', '/content/drive/MyDrive/images/122.png', '/content/drive/MyDrive/images/253.png', '/content/drive/MyDrive/images/114.png', '/content/drive/MyDrive/images/006.png', '/content/drive/MyDrive/images/157.png', '/content/drive/MyDrive/images/024.png', '/content/drive/MyDrive/images/190.png', '/content/drive/MyDrive/images/289.png', '/content/drive/MyDrive/images/358.png', '/content/drive/MyDrive/images/288.png', '/content/drive/MyDrive/images/111.png', '/content/drive/MyDrive/images/156.png', '/content/drive/MyDrive/images/240.png', '/content/drive/MyDrive/images/361.png', '/content/drive/MyDrive/images/216.png', '/content/drive/MyDrive/images/307.png', '/content/drive/MyDrive/images/338.png', '/content/drive/MyDrive/images/257.png', '/content/drive/MyDrive/images/169.png', '/content/drive/MyDrive/images/014.png', '/content/drive/MyDrive/images/170.png', '/content/drive/MyDrive/images/065.png', '/content/drive/MyDrive/images/226.png', '/content/drive/MyDrive/images/010.png', '/content/drive/MyDrive/images/276.png', '/content/drive/MyDrive/images/103.png', '/content/drive/MyDrive/images/308.png']\n",
            "['/content/drive/MyDrive/masks/061.png', '/content/drive/MyDrive/masks/094.png', '/content/drive/MyDrive/masks/158.png', '/content/drive/MyDrive/masks/330.png', '/content/drive/MyDrive/masks/104.png', '/content/drive/MyDrive/masks/073.png', '/content/drive/MyDrive/masks/349.png', '/content/drive/MyDrive/masks/275.png', '/content/drive/MyDrive/masks/197.png', '/content/drive/MyDrive/masks/239.png', '/content/drive/MyDrive/masks/069.png', '/content/drive/MyDrive/masks/074.png', '/content/drive/MyDrive/masks/115.png', '/content/drive/MyDrive/masks/363.png', '/content/drive/MyDrive/masks/301.png', '/content/drive/MyDrive/masks/213.png', '/content/drive/MyDrive/masks/248.png', '/content/drive/MyDrive/masks/250.png', '/content/drive/MyDrive/masks/078.png', '/content/drive/MyDrive/masks/044.png', '/content/drive/MyDrive/masks/017.png', '/content/drive/MyDrive/masks/264.png', '/content/drive/MyDrive/masks/223.png', '/content/drive/MyDrive/masks/222.png', '/content/drive/MyDrive/masks/224.png', '/content/drive/MyDrive/masks/247.png', '/content/drive/MyDrive/masks/176.png', '/content/drive/MyDrive/masks/277.png', '/content/drive/MyDrive/masks/332.png', '/content/drive/MyDrive/masks/283.png', '/content/drive/MyDrive/masks/365.png', '/content/drive/MyDrive/masks/341.png', '/content/drive/MyDrive/masks/196.png', '/content/drive/MyDrive/masks/269.png', '/content/drive/MyDrive/masks/143.png', '/content/drive/MyDrive/masks/358.png', '/content/drive/MyDrive/masks/238.png', '/content/drive/MyDrive/masks/065.png', '/content/drive/MyDrive/masks/292.png', '/content/drive/MyDrive/masks/324.png', '/content/drive/MyDrive/masks/178.png', '/content/drive/MyDrive/masks/102.png', '/content/drive/MyDrive/masks/328.png', '/content/drive/MyDrive/masks/035.png', '/content/drive/MyDrive/masks/220.png', '/content/drive/MyDrive/masks/340.png', '/content/drive/MyDrive/masks/299.png', '/content/drive/MyDrive/masks/202.png', '/content/drive/MyDrive/masks/314.png', '/content/drive/MyDrive/masks/260.png', '/content/drive/MyDrive/masks/171.png', '/content/drive/MyDrive/masks/309.png', '/content/drive/MyDrive/masks/186.png', '/content/drive/MyDrive/masks/353.png', '/content/drive/MyDrive/masks/311.png', '/content/drive/MyDrive/masks/198.png', '/content/drive/MyDrive/masks/156.png', '/content/drive/MyDrive/masks/360.png', '/content/drive/MyDrive/masks/240.png', '/content/drive/MyDrive/masks/018.png', '/content/drive/MyDrive/masks/068.png', '/content/drive/MyDrive/masks/062.png', '/content/drive/MyDrive/masks/149.png', '/content/drive/MyDrive/masks/280.png', '/content/drive/MyDrive/masks/133.png', '/content/drive/MyDrive/masks/249.png', '/content/drive/MyDrive/masks/117.png', '/content/drive/MyDrive/masks/270.png', '/content/drive/MyDrive/masks/294.png', '/content/drive/MyDrive/masks/103.png', '/content/drive/MyDrive/masks/199.png', '/content/drive/MyDrive/masks/317.png', '/content/drive/MyDrive/masks/099.png', '/content/drive/MyDrive/masks/218.png', '/content/drive/MyDrive/masks/236.png', '/content/drive/MyDrive/masks/023.png', '/content/drive/MyDrive/masks/225.png', '/content/drive/MyDrive/masks/079.png', '/content/drive/MyDrive/masks/351.png', '/content/drive/MyDrive/masks/216.png', '/content/drive/MyDrive/masks/122.png', '/content/drive/MyDrive/masks/129.png', '/content/drive/MyDrive/masks/261.png', '/content/drive/MyDrive/masks/312.png', '/content/drive/MyDrive/masks/085.png', '/content/drive/MyDrive/masks/058.png', '/content/drive/MyDrive/masks/252.png', '/content/drive/MyDrive/masks/217.png', '/content/drive/MyDrive/masks/059.png', '/content/drive/MyDrive/masks/007.png', '/content/drive/MyDrive/masks/265.png', '/content/drive/MyDrive/masks/138.png', '/content/drive/MyDrive/masks/161.png', '/content/drive/MyDrive/masks/284.png', '/content/drive/MyDrive/masks/128.png', '/content/drive/MyDrive/masks/016.png', '/content/drive/MyDrive/masks/209.png', '/content/drive/MyDrive/masks/339.png', '/content/drive/MyDrive/masks/172.png', '/content/drive/MyDrive/masks/241.png', '/content/drive/MyDrive/masks/281.png', '/content/drive/MyDrive/masks/113.png', '/content/drive/MyDrive/masks/306.png', '/content/drive/MyDrive/masks/279.png', '/content/drive/MyDrive/masks/362.png', '/content/drive/MyDrive/masks/354.png', '/content/drive/MyDrive/masks/050.png', '/content/drive/MyDrive/masks/337.png', '/content/drive/MyDrive/masks/022.png', '/content/drive/MyDrive/masks/212.png', '/content/drive/MyDrive/masks/215.png', '/content/drive/MyDrive/masks/200.png', '/content/drive/MyDrive/masks/134.png', '/content/drive/MyDrive/masks/166.png', '/content/drive/MyDrive/masks/036.png', '/content/drive/MyDrive/masks/153.png', '/content/drive/MyDrive/masks/148.png', '/content/drive/MyDrive/masks/316.png', '/content/drive/MyDrive/masks/271.png', '/content/drive/MyDrive/masks/278.png', '/content/drive/MyDrive/masks/191.png']\n"
          ]
        }
      ]
    },
    {
      "cell_type": "code",
      "metadata": {
        "colab": {
          "base_uri": "https://localhost:8080/"
        },
        "id": "KVH1exHuB2qZ",
        "outputId": "bfc9f1d6-0439-48a6-9c18-53a082596fc8"
      },
      "source": [
        "\n",
        "train_dataset = Bacteria(X_train,y_train, (512,512))"
      ],
      "execution_count": null,
      "outputs": [
        {
          "output_type": "stream",
          "name": "stdout",
          "text": [
            "['/content/drive/MyDrive/images/133.png', '/content/drive/MyDrive/images/039.png', '/content/drive/MyDrive/images/034.png', '/content/drive/MyDrive/images/283.png', '/content/drive/MyDrive/images/206.png', '/content/drive/MyDrive/images/268.png', '/content/drive/MyDrive/images/295.png', '/content/drive/MyDrive/images/166.png', '/content/drive/MyDrive/images/161.png', '/content/drive/MyDrive/images/168.png', '/content/drive/MyDrive/images/040.png', '/content/drive/MyDrive/images/115.png', '/content/drive/MyDrive/images/162.png', '/content/drive/MyDrive/images/011.png', '/content/drive/MyDrive/images/312.png', '/content/drive/MyDrive/images/247.png', '/content/drive/MyDrive/images/018.png', '/content/drive/MyDrive/images/155.png', '/content/drive/MyDrive/images/097.png', '/content/drive/MyDrive/images/078.png', '/content/drive/MyDrive/images/209.png', '/content/drive/MyDrive/images/187.png', '/content/drive/MyDrive/images/182.png', '/content/drive/MyDrive/images/229.png', '/content/drive/MyDrive/images/218.png', '/content/drive/MyDrive/images/164.png', '/content/drive/MyDrive/images/195.png', '/content/drive/MyDrive/images/091.png', '/content/drive/MyDrive/images/063.png', '/content/drive/MyDrive/images/219.png', '/content/drive/MyDrive/images/086.png', '/content/drive/MyDrive/images/171.png', '/content/drive/MyDrive/images/277.png', '/content/drive/MyDrive/images/094.png', '/content/drive/MyDrive/images/267.png', '/content/drive/MyDrive/images/053.png', '/content/drive/MyDrive/images/035.png', '/content/drive/MyDrive/images/032.png', '/content/drive/MyDrive/images/153.png', '/content/drive/MyDrive/images/139.png', '/content/drive/MyDrive/images/059.png', '/content/drive/MyDrive/images/177.png', '/content/drive/MyDrive/images/286.png', '/content/drive/MyDrive/images/292.png', '/content/drive/MyDrive/images/302.png', '/content/drive/MyDrive/images/116.png', '/content/drive/MyDrive/images/165.png', '/content/drive/MyDrive/images/274.png', '/content/drive/MyDrive/images/109.png', '/content/drive/MyDrive/images/270.png', '/content/drive/MyDrive/images/194.png', '/content/drive/MyDrive/images/318.png', '/content/drive/MyDrive/images/175.png', '/content/drive/MyDrive/images/297.png', '/content/drive/MyDrive/images/176.png', '/content/drive/MyDrive/images/354.png', '/content/drive/MyDrive/images/254.png', '/content/drive/MyDrive/images/224.png', '/content/drive/MyDrive/images/124.png', '/content/drive/MyDrive/images/025.png', '/content/drive/MyDrive/images/008.png', '/content/drive/MyDrive/images/230.png', '/content/drive/MyDrive/images/213.png', '/content/drive/MyDrive/images/138.png', '/content/drive/MyDrive/images/180.png', '/content/drive/MyDrive/images/250.png', '/content/drive/MyDrive/images/222.png', '/content/drive/MyDrive/images/112.png', '/content/drive/MyDrive/images/300.png', '/content/drive/MyDrive/images/264.png', '/content/drive/MyDrive/images/337.png', '/content/drive/MyDrive/images/298.png', '/content/drive/MyDrive/images/167.png', '/content/drive/MyDrive/images/234.png', '/content/drive/MyDrive/images/225.png', '/content/drive/MyDrive/images/148.png', '/content/drive/MyDrive/images/189.png', '/content/drive/MyDrive/images/328.png', '/content/drive/MyDrive/images/002.png', '/content/drive/MyDrive/images/140.png', '/content/drive/MyDrive/images/228.png', '/content/drive/MyDrive/images/243.png', '/content/drive/MyDrive/images/346.png', '/content/drive/MyDrive/images/137.png', '/content/drive/MyDrive/images/348.png', '/content/drive/MyDrive/images/185.png', '/content/drive/MyDrive/images/321.png', '/content/drive/MyDrive/images/129.png', '/content/drive/MyDrive/images/055.png', '/content/drive/MyDrive/images/272.png', '/content/drive/MyDrive/images/027.png', '/content/drive/MyDrive/images/060.png', '/content/drive/MyDrive/images/334.png', '/content/drive/MyDrive/images/089.png', '/content/drive/MyDrive/images/335.png', '/content/drive/MyDrive/images/251.png', '/content/drive/MyDrive/images/141.png', '/content/drive/MyDrive/images/181.png', '/content/drive/MyDrive/images/317.png', '/content/drive/MyDrive/images/070.png', '/content/drive/MyDrive/images/275.png', '/content/drive/MyDrive/images/069.png', '/content/drive/MyDrive/images/327.png', '/content/drive/MyDrive/images/093.png', '/content/drive/MyDrive/images/212.png', '/content/drive/MyDrive/images/077.png', '/content/drive/MyDrive/images/160.png', '/content/drive/MyDrive/images/007.png', '/content/drive/MyDrive/images/030.png', '/content/drive/MyDrive/images/022.png', '/content/drive/MyDrive/images/144.png', '/content/drive/MyDrive/images/145.png', '/content/drive/MyDrive/images/233.png', '/content/drive/MyDrive/images/151.png', '/content/drive/MyDrive/images/235.png', '/content/drive/MyDrive/images/238.png', '/content/drive/MyDrive/images/120.png', '/content/drive/MyDrive/images/349.png', '/content/drive/MyDrive/images/052.png', '/content/drive/MyDrive/images/343.png', '/content/drive/MyDrive/images/102.png', '/content/drive/MyDrive/images/285.png', '/content/drive/MyDrive/images/211.png', '/content/drive/MyDrive/images/193.png', '/content/drive/MyDrive/images/126.png', '/content/drive/MyDrive/images/049.png', '/content/drive/MyDrive/images/090.png', '/content/drive/MyDrive/images/266.png', '/content/drive/MyDrive/images/203.png', '/content/drive/MyDrive/images/125.png', '/content/drive/MyDrive/images/033.png', '/content/drive/MyDrive/images/359.png', '/content/drive/MyDrive/images/131.png', '/content/drive/MyDrive/images/242.png', '/content/drive/MyDrive/images/315.png', '/content/drive/MyDrive/images/012.png', '/content/drive/MyDrive/images/258.png', '/content/drive/MyDrive/images/341.png', '/content/drive/MyDrive/images/087.png', '/content/drive/MyDrive/images/241.png', '/content/drive/MyDrive/images/355.png', '/content/drive/MyDrive/images/199.png', '/content/drive/MyDrive/images/150.png', '/content/drive/MyDrive/images/108.png', '/content/drive/MyDrive/images/215.png', '/content/drive/MyDrive/images/082.png', '/content/drive/MyDrive/images/042.png', '/content/drive/MyDrive/images/038.png', '/content/drive/MyDrive/images/324.png', '/content/drive/MyDrive/images/188.png', '/content/drive/MyDrive/images/273.png', '/content/drive/MyDrive/images/021.png', '/content/drive/MyDrive/images/330.png', '/content/drive/MyDrive/images/256.png', '/content/drive/MyDrive/images/223.png', '/content/drive/MyDrive/images/146.png', '/content/drive/MyDrive/images/353.png', '/content/drive/MyDrive/images/117.png', '/content/drive/MyDrive/images/056.png', '/content/drive/MyDrive/images/135.png', '/content/drive/MyDrive/images/119.png', '/content/drive/MyDrive/images/015.png', '/content/drive/MyDrive/images/075.png', '/content/drive/MyDrive/images/017.png', '/content/drive/MyDrive/images/173.png', '/content/drive/MyDrive/images/066.png', '/content/drive/MyDrive/images/263.png', '/content/drive/MyDrive/images/314.png', '/content/drive/MyDrive/images/245.png', '/content/drive/MyDrive/images/265.png', '/content/drive/MyDrive/images/284.png', '/content/drive/MyDrive/images/237.png', '/content/drive/MyDrive/images/207.png', '/content/drive/MyDrive/images/184.png', '/content/drive/MyDrive/images/311.png', '/content/drive/MyDrive/images/281.png', '/content/drive/MyDrive/images/262.png', '/content/drive/MyDrive/images/360.png', '/content/drive/MyDrive/images/294.png', '/content/drive/MyDrive/images/313.png', '/content/drive/MyDrive/images/201.png', '/content/drive/MyDrive/images/174.png', '/content/drive/MyDrive/images/074.png', '/content/drive/MyDrive/images/232.png', '/content/drive/MyDrive/images/179.png', '/content/drive/MyDrive/images/231.png', '/content/drive/MyDrive/images/106.png', '/content/drive/MyDrive/images/072.png', '/content/drive/MyDrive/images/001.png', '/content/drive/MyDrive/images/045.png', '/content/drive/MyDrive/images/061.png', '/content/drive/MyDrive/images/205.png', '/content/drive/MyDrive/images/028.png', '/content/drive/MyDrive/images/329.png', '/content/drive/MyDrive/images/101.png', '/content/drive/MyDrive/images/044.png', '/content/drive/MyDrive/images/339.png', '/content/drive/MyDrive/images/239.png', '/content/drive/MyDrive/images/019.png', '/content/drive/MyDrive/images/322.png', '/content/drive/MyDrive/images/104.png', '/content/drive/MyDrive/images/347.png', '/content/drive/MyDrive/images/154.png', '/content/drive/MyDrive/images/357.png', '/content/drive/MyDrive/images/113.png', '/content/drive/MyDrive/images/316.png', '/content/drive/MyDrive/images/340.png', '/content/drive/MyDrive/images/301.png', '/content/drive/MyDrive/images/221.png', '/content/drive/MyDrive/images/058.png', '/content/drive/MyDrive/images/071.png', '/content/drive/MyDrive/images/163.png', '/content/drive/MyDrive/images/202.png', '/content/drive/MyDrive/images/363.png', '/content/drive/MyDrive/images/200.png', '/content/drive/MyDrive/images/149.png', '/content/drive/MyDrive/images/051.png', '/content/drive/MyDrive/images/080.png', '/content/drive/MyDrive/images/220.png', '/content/drive/MyDrive/images/261.png', '/content/drive/MyDrive/images/023.png', '/content/drive/MyDrive/images/351.png', '/content/drive/MyDrive/images/159.png', '/content/drive/MyDrive/images/271.png', '/content/drive/MyDrive/images/183.png', '/content/drive/MyDrive/images/350.png', '/content/drive/MyDrive/images/325.png', '/content/drive/MyDrive/images/244.png', '/content/drive/MyDrive/images/303.png', '/content/drive/MyDrive/images/178.png', '/content/drive/MyDrive/images/118.png', '/content/drive/MyDrive/images/158.png', '/content/drive/MyDrive/images/088.png', '/content/drive/MyDrive/images/098.png', '/content/drive/MyDrive/images/320.png', '/content/drive/MyDrive/images/214.png', '/content/drive/MyDrive/images/132.png', '/content/drive/MyDrive/images/364.png', '/content/drive/MyDrive/images/029.png', '/content/drive/MyDrive/images/196.png', '/content/drive/MyDrive/images/085.png', '/content/drive/MyDrive/images/107.png', '/content/drive/MyDrive/images/296.png', '/content/drive/MyDrive/images/333.png', '/content/drive/MyDrive/images/095.png']\n",
            "['/content/drive/MyDrive/masks/141.png', '/content/drive/MyDrive/masks/251.png', '/content/drive/MyDrive/masks/106.png', '/content/drive/MyDrive/masks/180.png', '/content/drive/MyDrive/masks/267.png', '/content/drive/MyDrive/masks/072.png', '/content/drive/MyDrive/masks/313.png', '/content/drive/MyDrive/masks/315.png', '/content/drive/MyDrive/masks/031.png', '/content/drive/MyDrive/masks/021.png', '/content/drive/MyDrive/masks/338.png', '/content/drive/MyDrive/masks/356.png', '/content/drive/MyDrive/masks/296.png', '/content/drive/MyDrive/masks/013.png', '/content/drive/MyDrive/masks/203.png', '/content/drive/MyDrive/masks/243.png', '/content/drive/MyDrive/masks/228.png', '/content/drive/MyDrive/masks/063.png', '/content/drive/MyDrive/masks/257.png', '/content/drive/MyDrive/masks/344.png', '/content/drive/MyDrive/masks/114.png', '/content/drive/MyDrive/masks/052.png', '/content/drive/MyDrive/masks/025.png', '/content/drive/MyDrive/masks/287.png', '/content/drive/MyDrive/masks/262.png', '/content/drive/MyDrive/masks/105.png', '/content/drive/MyDrive/masks/364.png', '/content/drive/MyDrive/masks/126.png', '/content/drive/MyDrive/masks/110.png', '/content/drive/MyDrive/masks/064.png', '/content/drive/MyDrive/masks/256.png', '/content/drive/MyDrive/masks/244.png', '/content/drive/MyDrive/masks/350.png', '/content/drive/MyDrive/masks/146.png', '/content/drive/MyDrive/masks/054.png', '/content/drive/MyDrive/masks/227.png', '/content/drive/MyDrive/masks/282.png', '/content/drive/MyDrive/masks/043.png', '/content/drive/MyDrive/masks/302.png', '/content/drive/MyDrive/masks/144.png', '/content/drive/MyDrive/masks/170.png', '/content/drive/MyDrive/masks/130.png', '/content/drive/MyDrive/masks/124.png', '/content/drive/MyDrive/masks/173.png', '/content/drive/MyDrive/masks/028.png', '/content/drive/MyDrive/masks/100.png', '/content/drive/MyDrive/masks/185.png', '/content/drive/MyDrive/masks/002.png', '/content/drive/MyDrive/masks/274.png', '/content/drive/MyDrive/masks/093.png', '/content/drive/MyDrive/masks/042.png', '/content/drive/MyDrive/masks/096.png', '/content/drive/MyDrive/masks/305.png', '/content/drive/MyDrive/masks/038.png', '/content/drive/MyDrive/masks/288.png', '/content/drive/MyDrive/masks/293.png', '/content/drive/MyDrive/masks/159.png', '/content/drive/MyDrive/masks/169.png', '/content/drive/MyDrive/masks/187.png', '/content/drive/MyDrive/masks/201.png', '/content/drive/MyDrive/masks/322.png', '/content/drive/MyDrive/masks/157.png', '/content/drive/MyDrive/masks/291.png', '/content/drive/MyDrive/masks/116.png', '/content/drive/MyDrive/masks/233.png', '/content/drive/MyDrive/masks/118.png', '/content/drive/MyDrive/masks/041.png', '/content/drive/MyDrive/masks/334.png', '/content/drive/MyDrive/masks/308.png', '/content/drive/MyDrive/masks/300.png', '/content/drive/MyDrive/masks/091.png', '/content/drive/MyDrive/masks/181.png', '/content/drive/MyDrive/masks/204.png', '/content/drive/MyDrive/masks/179.png', '/content/drive/MyDrive/masks/254.png', '/content/drive/MyDrive/masks/086.png', '/content/drive/MyDrive/masks/246.png', '/content/drive/MyDrive/masks/132.png', '/content/drive/MyDrive/masks/321.png', '/content/drive/MyDrive/masks/011.png', '/content/drive/MyDrive/masks/255.png', '/content/drive/MyDrive/masks/168.png', '/content/drive/MyDrive/masks/182.png', '/content/drive/MyDrive/masks/081.png', '/content/drive/MyDrive/masks/345.png', '/content/drive/MyDrive/masks/027.png', '/content/drive/MyDrive/masks/111.png', '/content/drive/MyDrive/masks/164.png', '/content/drive/MyDrive/masks/070.png', '/content/drive/MyDrive/masks/206.png', '/content/drive/MyDrive/masks/005.png', '/content/drive/MyDrive/masks/219.png', '/content/drive/MyDrive/masks/152.png', '/content/drive/MyDrive/masks/135.png', '/content/drive/MyDrive/masks/136.png', '/content/drive/MyDrive/masks/329.png', '/content/drive/MyDrive/masks/221.png', '/content/drive/MyDrive/masks/010.png', '/content/drive/MyDrive/masks/053.png', '/content/drive/MyDrive/masks/080.png', '/content/drive/MyDrive/masks/088.png', '/content/drive/MyDrive/masks/231.png', '/content/drive/MyDrive/masks/174.png', '/content/drive/MyDrive/masks/177.png', '/content/drive/MyDrive/masks/092.png', '/content/drive/MyDrive/masks/195.png', '/content/drive/MyDrive/masks/140.png', '/content/drive/MyDrive/masks/097.png', '/content/drive/MyDrive/masks/210.png', '/content/drive/MyDrive/masks/268.png', '/content/drive/MyDrive/masks/359.png', '/content/drive/MyDrive/masks/259.png', '/content/drive/MyDrive/masks/235.png', '/content/drive/MyDrive/masks/331.png', '/content/drive/MyDrive/masks/029.png', '/content/drive/MyDrive/masks/120.png', '/content/drive/MyDrive/masks/230.png', '/content/drive/MyDrive/masks/033.png', '/content/drive/MyDrive/masks/046.png', '/content/drive/MyDrive/masks/024.png', '/content/drive/MyDrive/masks/066.png', '/content/drive/MyDrive/masks/242.png', '/content/drive/MyDrive/masks/163.png', '/content/drive/MyDrive/masks/320.png', '/content/drive/MyDrive/masks/119.png', '/content/drive/MyDrive/masks/039.png', '/content/drive/MyDrive/masks/150.png', '/content/drive/MyDrive/masks/323.png', '/content/drive/MyDrive/masks/347.png', '/content/drive/MyDrive/masks/297.png', '/content/drive/MyDrive/masks/008.png', '/content/drive/MyDrive/masks/019.png', '/content/drive/MyDrive/masks/319.png', '/content/drive/MyDrive/masks/175.png', '/content/drive/MyDrive/masks/160.png', '/content/drive/MyDrive/masks/348.png', '/content/drive/MyDrive/masks/145.png', '/content/drive/MyDrive/masks/003.png', '/content/drive/MyDrive/masks/101.png', '/content/drive/MyDrive/masks/147.png', '/content/drive/MyDrive/masks/232.png', '/content/drive/MyDrive/masks/190.png', '/content/drive/MyDrive/masks/151.png', '/content/drive/MyDrive/masks/211.png', '/content/drive/MyDrive/masks/015.png', '/content/drive/MyDrive/masks/290.png', '/content/drive/MyDrive/masks/205.png', '/content/drive/MyDrive/masks/214.png', '/content/drive/MyDrive/masks/040.png', '/content/drive/MyDrive/masks/304.png', '/content/drive/MyDrive/masks/095.png', '/content/drive/MyDrive/masks/357.png', '/content/drive/MyDrive/masks/084.png', '/content/drive/MyDrive/masks/193.png', '/content/drive/MyDrive/masks/037.png', '/content/drive/MyDrive/masks/137.png', '/content/drive/MyDrive/masks/285.png', '/content/drive/MyDrive/masks/208.png', '/content/drive/MyDrive/masks/342.png', '/content/drive/MyDrive/masks/355.png', '/content/drive/MyDrive/masks/030.png', '/content/drive/MyDrive/masks/034.png', '/content/drive/MyDrive/masks/226.png', '/content/drive/MyDrive/masks/325.png', '/content/drive/MyDrive/masks/310.png', '/content/drive/MyDrive/masks/245.png', '/content/drive/MyDrive/masks/326.png', '/content/drive/MyDrive/masks/026.png', '/content/drive/MyDrive/masks/194.png', '/content/drive/MyDrive/masks/263.png', '/content/drive/MyDrive/masks/121.png', '/content/drive/MyDrive/masks/076.png', '/content/drive/MyDrive/masks/112.png', '/content/drive/MyDrive/masks/154.png', '/content/drive/MyDrive/masks/012.png', '/content/drive/MyDrive/masks/333.png', '/content/drive/MyDrive/masks/162.png', '/content/drive/MyDrive/masks/335.png', '/content/drive/MyDrive/masks/125.png', '/content/drive/MyDrive/masks/289.png', '/content/drive/MyDrive/masks/266.png', '/content/drive/MyDrive/masks/273.png', '/content/drive/MyDrive/masks/020.png', '/content/drive/MyDrive/masks/298.png', '/content/drive/MyDrive/masks/184.png', '/content/drive/MyDrive/masks/286.png', '/content/drive/MyDrive/masks/004.png', '/content/drive/MyDrive/masks/189.png', '/content/drive/MyDrive/masks/234.png', '/content/drive/MyDrive/masks/188.png', '/content/drive/MyDrive/masks/276.png', '/content/drive/MyDrive/masks/139.png', '/content/drive/MyDrive/masks/165.png', '/content/drive/MyDrive/masks/336.png', '/content/drive/MyDrive/masks/060.png', '/content/drive/MyDrive/masks/032.png', '/content/drive/MyDrive/masks/183.png', '/content/drive/MyDrive/masks/051.png', '/content/drive/MyDrive/masks/006.png', '/content/drive/MyDrive/masks/366.png', '/content/drive/MyDrive/masks/253.png', '/content/drive/MyDrive/masks/229.png', '/content/drive/MyDrive/masks/067.png', '/content/drive/MyDrive/masks/352.png', '/content/drive/MyDrive/masks/343.png', '/content/drive/MyDrive/masks/107.png', '/content/drive/MyDrive/masks/318.png', '/content/drive/MyDrive/masks/123.png', '/content/drive/MyDrive/masks/237.png', '/content/drive/MyDrive/masks/056.png', '/content/drive/MyDrive/masks/075.png', '/content/drive/MyDrive/masks/108.png', '/content/drive/MyDrive/masks/014.png', '/content/drive/MyDrive/masks/109.png', '/content/drive/MyDrive/masks/001.png', '/content/drive/MyDrive/masks/327.png', '/content/drive/MyDrive/masks/082.png', '/content/drive/MyDrive/masks/071.png', '/content/drive/MyDrive/masks/087.png', '/content/drive/MyDrive/masks/049.png', '/content/drive/MyDrive/masks/009.png', '/content/drive/MyDrive/masks/045.png', '/content/drive/MyDrive/masks/155.png', '/content/drive/MyDrive/masks/131.png', '/content/drive/MyDrive/masks/098.png', '/content/drive/MyDrive/masks/207.png', '/content/drive/MyDrive/masks/307.png', '/content/drive/MyDrive/masks/167.png', '/content/drive/MyDrive/masks/048.png', '/content/drive/MyDrive/masks/057.png', '/content/drive/MyDrive/masks/272.png', '/content/drive/MyDrive/masks/303.png', '/content/drive/MyDrive/masks/047.png', '/content/drive/MyDrive/masks/127.png', '/content/drive/MyDrive/masks/083.png', '/content/drive/MyDrive/masks/295.png', '/content/drive/MyDrive/masks/346.png', '/content/drive/MyDrive/masks/090.png', '/content/drive/MyDrive/masks/258.png', '/content/drive/MyDrive/masks/089.png', '/content/drive/MyDrive/masks/142.png', '/content/drive/MyDrive/masks/192.png', '/content/drive/MyDrive/masks/077.png', '/content/drive/MyDrive/masks/055.png', '/content/drive/MyDrive/masks/361.png']\n"
          ]
        }
      ]
    },
    {
      "cell_type": "code",
      "metadata": {
        "id": "2V0jWm-svELY"
      },
      "source": [
        "# for y in train_loader:\n",
        "#   print((y[0]).shape)\n",
        "  \n",
        "#   break"
      ],
      "execution_count": null,
      "outputs": []
    },
    {
      "cell_type": "code",
      "metadata": {
        "colab": {
          "base_uri": "https://localhost:8080/"
        },
        "id": "FnFVgphz2vNm",
        "outputId": "f4f9f768-610e-4c97-de26-470fbcd4fd60"
      },
      "source": [
        "train_dataset.__len__(),test_dataset.__len__()"
      ],
      "execution_count": null,
      "outputs": [
        {
          "output_type": "execute_result",
          "data": {
            "text/plain": [
              "(245, 121)"
            ]
          },
          "metadata": {},
          "execution_count": 13
        }
      ]
    },
    {
      "cell_type": "code",
      "metadata": {
        "id": "Wj_j8NzeSIgt"
      },
      "source": [
        "import segmentation_models_pytorch as smp"
      ],
      "execution_count": null,
      "outputs": []
    },
    {
      "cell_type": "code",
      "metadata": {
        "id": "9IxWjyvPmp5S",
        "colab": {
          "base_uri": "https://localhost:8080/",
          "height": 66,
          "referenced_widgets": [
            "2007b310b4dd421a9cc458238fb34959",
            "1c342c5874554f1aafb7a5547bfb06a6",
            "d59e5d5c9e094a1286001c5f982f90cb",
            "2e6b8e0228e04b25994cd5ba6fcbb088",
            "6983912670e64c69bae6e8bcfc844e94",
            "073ef03eb93d483f97379bd2398920ea",
            "8695d2cf49264bde8033df3bf6742638",
            "b8691782e87d403f880ec8adec4d41f0",
            "8133a131dfc6410692ddca795b76672c",
            "c148e71ef55f46eaa0ed1b20d043f0af",
            "18be0e03101741cdb86b508ff0ef36d7"
          ]
        },
        "outputId": "cc5158fb-db5c-4e9a-fcae-8ab24c5fbb57"
      },
      "source": [
        "# resnet = models.resnet18(pretrained=True)\n",
        "# fcn = models.segmentation.fcn_resnet101(pretrained=True).eval()\n",
        "ENCODER = 'resnet34'\n",
        "ENCODER_WEIGHTS = 'imagenet'\n",
        "ACTIVATION = None\n",
        "CLASSES = 3\n",
        "ENCODER_DEPTH = 5\n",
        "DECODER_CHANNELS = [256, 128, 64, 32, 16]\n",
        "\n",
        "manet_resnet34 = smp.MAnet(\n",
        "    encoder_name = ENCODER,\n",
        "    encoder_weights = ENCODER_WEIGHTS,\n",
        "    classes = CLASSES, \n",
        "    activation = ACTIVATION, \n",
        "    encoder_depth = ENCODER_DEPTH, \n",
        "    decoder_channels = DECODER_CHANNELS)"
      ],
      "execution_count": null,
      "outputs": [
        {
          "output_type": "stream",
          "name": "stderr",
          "text": [
            "Downloading: \"https://download.pytorch.org/models/resnet34-333f7ec4.pth\" to /root/.cache/torch/hub/checkpoints/resnet34-333f7ec4.pth\n"
          ]
        },
        {
          "output_type": "display_data",
          "data": {
            "application/vnd.jupyter.widget-view+json": {
              "model_id": "2007b310b4dd421a9cc458238fb34959",
              "version_minor": 0,
              "version_major": 2
            },
            "text/plain": [
              "  0%|          | 0.00/83.3M [00:00<?, ?B/s]"
            ]
          },
          "metadata": {}
        }
      ]
    },
    {
      "cell_type": "code",
      "metadata": {
        "id": "-eibWdyw9jqI"
      },
      "source": [
        "\n",
        "# import functools\n",
        "# res = functools.reduce(lambda sub, ele: sub * 1+ ele, train_dataset)\n",
        "train_loader = DataLoader(train_dataset, batch_size=8)"
      ],
      "execution_count": null,
      "outputs": []
    },
    {
      "cell_type": "code",
      "metadata": {
        "id": "GA8UTy6tHE_q"
      },
      "source": [
        "test_loader = DataLoader(test_dataset, batch_size=1)"
      ],
      "execution_count": null,
      "outputs": []
    },
    {
      "cell_type": "code",
      "metadata": {
        "colab": {
          "base_uri": "https://localhost:8080/"
        },
        "id": "idhQPhYwHOgs",
        "outputId": "d33f2205-1c69-4ace-ff3c-0293763bebd3"
      },
      "source": [
        "for j in test_loader:\n",
        "  print(j[0].shape, j[1].shape)\n",
        "  break"
      ],
      "execution_count": null,
      "outputs": [
        {
          "output_type": "stream",
          "name": "stdout",
          "text": [
            "torch.Size([1, 3, 512, 512]) torch.Size([1, 3, 512, 512])\n"
          ]
        }
      ]
    },
    {
      "cell_type": "code",
      "metadata": {
        "id": "JTW9s65gmv3J"
      },
      "source": [
        "import torch \n",
        "import numpy as np\n",
        "# model = resnet.cuda()\n",
        "if torch.cuda.is_available():\n",
        "    model = manet_resnet34.cuda()\n",
        "criteria = torch.nn.MSELoss()\n",
        "optimizer = torch.optim.Adam(model.parameters(), lr=0.001)"
      ],
      "execution_count": null,
      "outputs": []
    },
    {
      "cell_type": "code",
      "metadata": {
        "colab": {
          "base_uri": "https://localhost:8080/",
          "height": 1000
        },
        "id": "9vAWa1SXy0_A",
        "outputId": "fd8c92d6-e1e2-4c70-f885-177bd6d6e791"
      },
      "source": [
        "\n",
        "from matplotlib import pyplot as plt\n",
        "EPOCHS = 10\n",
        "model = model.cuda()\n",
        "model.train()\n",
        "losses = []\n",
        "for epoch in range(EPOCHS):\n",
        "  l = []\n",
        "  for i,(x,y) in enumerate(train_loader):\n",
        "    # x = x.float()\n",
        "    # y = y.float()\n",
        "    # x = x.transpose(2, 1)\n",
        "    \n",
        "    print(x.shape)\n",
        "    x = x.cuda().float()\n",
        "    # x=x.transpose(2,1,0)\n",
        "    # x = x.float()\n",
        "    y = y.cuda().float()\n",
        "    # y = y.float()\n",
        "    \n",
        "    # y.unsqueeze_(0)\n",
        "    # model(x.permute(0, 3, 1, 2))\n",
        "    # model(y.permute(0, 3, 1, 2))\n",
        "\n",
        "    y_pred = model(x)\n",
        "\n",
        "\n",
        "    optimizer.zero_grad()\n",
        "    loss = criteria(y,y_pred)\n",
        "    loss.backward()\n",
        "    optimizer.step()\n",
        "    \n",
        "    l.append(loss.item())\n",
        "    del x,y,y_pred\n",
        "    print('Epoch:',epoch,' Batch:',i,'Batch_Loss',l[-1])\n",
        "    # plt.plot(l)\n",
        "  plt.plot(l)\n",
        "\n",
        "  # plt.plot(l)\n",
        "  av = np.mean(l)\n",
        "  print('Epoch:',epoch,'-'*8,'Epoch_Loss:',av)\n",
        "  losses.append(av)"
      ],
      "execution_count": null,
      "outputs": [
        {
          "output_type": "stream",
          "name": "stdout",
          "text": [
            "torch.Size([8, 3, 512, 512])\n",
            "Epoch: 0  Batch: 0 Batch_Loss 0.741756796836853\n",
            "torch.Size([8, 3, 512, 512])\n",
            "Epoch: 0  Batch: 1 Batch_Loss 0.5490288734436035\n",
            "torch.Size([8, 3, 512, 512])\n",
            "Epoch: 0  Batch: 2 Batch_Loss 0.49152684211730957\n",
            "torch.Size([8, 3, 512, 512])\n",
            "Epoch: 0  Batch: 3 Batch_Loss 0.3935468792915344\n",
            "torch.Size([8, 3, 512, 512])\n",
            "Epoch: 0  Batch: 4 Batch_Loss 0.2705020010471344\n",
            "torch.Size([8, 3, 512, 512])\n",
            "Epoch: 0  Batch: 5 Batch_Loss 0.20133814215660095\n",
            "torch.Size([8, 3, 512, 512])\n",
            "Epoch: 0  Batch: 6 Batch_Loss 0.16470776498317719\n",
            "torch.Size([8, 3, 512, 512])\n",
            "Epoch: 0  Batch: 7 Batch_Loss 0.21028849482536316\n",
            "torch.Size([8, 3, 512, 512])\n",
            "Epoch: 0  Batch: 8 Batch_Loss 0.1597156822681427\n",
            "torch.Size([8, 3, 512, 512])\n",
            "Epoch: 0  Batch: 9 Batch_Loss 0.17804810404777527\n",
            "torch.Size([8, 3, 512, 512])\n",
            "Epoch: 0  Batch: 10 Batch_Loss 0.20235268771648407\n",
            "torch.Size([8, 3, 512, 512])\n",
            "Epoch: 0  Batch: 11 Batch_Loss 0.1947607696056366\n",
            "torch.Size([8, 3, 512, 512])\n",
            "Epoch: 0  Batch: 12 Batch_Loss 0.14660142362117767\n",
            "torch.Size([8, 3, 512, 512])\n",
            "Epoch: 0  Batch: 13 Batch_Loss 0.1923927366733551\n",
            "torch.Size([8, 3, 512, 512])\n",
            "Epoch: 0  Batch: 14 Batch_Loss 0.16025489568710327\n",
            "torch.Size([8, 3, 512, 512])\n",
            "Epoch: 0  Batch: 15 Batch_Loss 0.15563230216503143\n",
            "torch.Size([8, 3, 512, 512])\n",
            "Epoch: 0  Batch: 16 Batch_Loss 0.1461150199174881\n",
            "torch.Size([8, 3, 512, 512])\n",
            "Epoch: 0  Batch: 17 Batch_Loss 0.17070069909095764\n",
            "torch.Size([8, 3, 512, 512])\n",
            "Epoch: 0  Batch: 18 Batch_Loss 0.17415164411067963\n",
            "torch.Size([8, 3, 512, 512])\n",
            "Epoch: 0  Batch: 19 Batch_Loss 0.20001277327537537\n",
            "torch.Size([8, 3, 512, 512])\n",
            "Epoch: 0  Batch: 20 Batch_Loss 0.17118105292320251\n",
            "torch.Size([8, 3, 512, 512])\n",
            "Epoch: 0  Batch: 21 Batch_Loss 0.16480174660682678\n",
            "torch.Size([8, 3, 512, 512])\n",
            "Epoch: 0  Batch: 22 Batch_Loss 0.17258009314537048\n",
            "torch.Size([8, 3, 512, 512])\n",
            "Epoch: 0  Batch: 23 Batch_Loss 0.149339959025383\n",
            "torch.Size([8, 3, 512, 512])\n",
            "Epoch: 0  Batch: 24 Batch_Loss 0.1498662829399109\n",
            "torch.Size([8, 3, 512, 512])\n",
            "Epoch: 0  Batch: 25 Batch_Loss 0.20082902908325195\n",
            "torch.Size([8, 3, 512, 512])\n",
            "Epoch: 0  Batch: 26 Batch_Loss 0.16841375827789307\n",
            "torch.Size([8, 3, 512, 512])\n",
            "Epoch: 0  Batch: 27 Batch_Loss 0.13373801112174988\n",
            "torch.Size([8, 3, 512, 512])\n",
            "Epoch: 0  Batch: 28 Batch_Loss 0.14671507477760315\n",
            "torch.Size([8, 3, 512, 512])\n",
            "Epoch: 0  Batch: 29 Batch_Loss 0.1975787729024887\n",
            "torch.Size([5, 3, 512, 512])\n",
            "Epoch: 0  Batch: 30 Batch_Loss 0.15570245683193207\n",
            "Epoch: 0 -------- Epoch_Loss: 0.22303808937149663\n",
            "torch.Size([8, 3, 512, 512])\n",
            "Epoch: 1  Batch: 0 Batch_Loss 0.1800234317779541\n",
            "torch.Size([8, 3, 512, 512])\n",
            "Epoch: 1  Batch: 1 Batch_Loss 0.15241074562072754\n",
            "torch.Size([8, 3, 512, 512])\n",
            "Epoch: 1  Batch: 2 Batch_Loss 0.2250983566045761\n",
            "torch.Size([8, 3, 512, 512])\n",
            "Epoch: 1  Batch: 3 Batch_Loss 0.20890969038009644\n",
            "torch.Size([8, 3, 512, 512])\n",
            "Epoch: 1  Batch: 4 Batch_Loss 0.16598454117774963\n",
            "torch.Size([8, 3, 512, 512])\n",
            "Epoch: 1  Batch: 5 Batch_Loss 0.13699764013290405\n",
            "torch.Size([8, 3, 512, 512])\n",
            "Epoch: 1  Batch: 6 Batch_Loss 0.12876448035240173\n",
            "torch.Size([8, 3, 512, 512])\n",
            "Epoch: 1  Batch: 7 Batch_Loss 0.17608961462974548\n",
            "torch.Size([8, 3, 512, 512])\n",
            "Epoch: 1  Batch: 8 Batch_Loss 0.13799069821834564\n",
            "torch.Size([8, 3, 512, 512])\n",
            "Epoch: 1  Batch: 9 Batch_Loss 0.16100439429283142\n",
            "torch.Size([8, 3, 512, 512])\n",
            "Epoch: 1  Batch: 10 Batch_Loss 0.18437854945659637\n",
            "torch.Size([8, 3, 512, 512])\n",
            "Epoch: 1  Batch: 11 Batch_Loss 0.183686763048172\n",
            "torch.Size([8, 3, 512, 512])\n",
            "Epoch: 1  Batch: 12 Batch_Loss 0.13332109153270721\n",
            "torch.Size([8, 3, 512, 512])\n",
            "Epoch: 1  Batch: 13 Batch_Loss 0.18495357036590576\n",
            "torch.Size([8, 3, 512, 512])\n",
            "Epoch: 1  Batch: 14 Batch_Loss 0.15284571051597595\n",
            "torch.Size([8, 3, 512, 512])\n",
            "Epoch: 1  Batch: 15 Batch_Loss 0.14477737247943878\n",
            "torch.Size([8, 3, 512, 512])\n",
            "Epoch: 1  Batch: 16 Batch_Loss 0.13964872062206268\n",
            "torch.Size([8, 3, 512, 512])\n",
            "Epoch: 1  Batch: 17 Batch_Loss 0.1641407310962677\n",
            "torch.Size([8, 3, 512, 512])\n",
            "Epoch: 1  Batch: 18 Batch_Loss 0.16908928751945496\n",
            "torch.Size([8, 3, 512, 512])\n",
            "Epoch: 1  Batch: 19 Batch_Loss 0.19704589247703552\n",
            "torch.Size([8, 3, 512, 512])\n",
            "Epoch: 1  Batch: 20 Batch_Loss 0.16689655184745789\n",
            "torch.Size([8, 3, 512, 512])\n",
            "Epoch: 1  Batch: 21 Batch_Loss 0.16259627044200897\n",
            "torch.Size([8, 3, 512, 512])\n",
            "Epoch: 1  Batch: 22 Batch_Loss 0.1702500879764557\n",
            "torch.Size([8, 3, 512, 512])\n",
            "Epoch: 1  Batch: 23 Batch_Loss 0.14645855128765106\n",
            "torch.Size([8, 3, 512, 512])\n",
            "Epoch: 1  Batch: 24 Batch_Loss 0.14826105535030365\n",
            "torch.Size([8, 3, 512, 512])\n",
            "Epoch: 1  Batch: 25 Batch_Loss 0.1982753723859787\n",
            "torch.Size([8, 3, 512, 512])\n",
            "Epoch: 1  Batch: 26 Batch_Loss 0.16699373722076416\n",
            "torch.Size([8, 3, 512, 512])\n",
            "Epoch: 1  Batch: 27 Batch_Loss 0.13099543750286102\n",
            "torch.Size([8, 3, 512, 512])\n",
            "Epoch: 1  Batch: 28 Batch_Loss 0.14491958916187286\n",
            "torch.Size([8, 3, 512, 512])\n",
            "Epoch: 1  Batch: 29 Batch_Loss 0.19326935708522797\n",
            "torch.Size([5, 3, 512, 512])\n",
            "Epoch: 1  Batch: 30 Batch_Loss 0.15551210939884186\n",
            "Epoch: 1 -------- Epoch_Loss: 0.16488998070839914\n",
            "torch.Size([8, 3, 512, 512])\n",
            "Epoch: 2  Batch: 0 Batch_Loss 0.17734190821647644\n",
            "torch.Size([8, 3, 512, 512])\n",
            "Epoch: 2  Batch: 1 Batch_Loss 0.15296387672424316\n",
            "torch.Size([8, 3, 512, 512])\n",
            "Epoch: 2  Batch: 2 Batch_Loss 0.2220708578824997\n",
            "torch.Size([8, 3, 512, 512])\n",
            "Epoch: 2  Batch: 3 Batch_Loss 0.20705676078796387\n",
            "torch.Size([8, 3, 512, 512])\n",
            "Epoch: 2  Batch: 4 Batch_Loss 0.16563111543655396\n",
            "torch.Size([8, 3, 512, 512])\n",
            "Epoch: 2  Batch: 5 Batch_Loss 0.13615183532238007\n",
            "torch.Size([8, 3, 512, 512])\n",
            "Epoch: 2  Batch: 6 Batch_Loss 0.12671926617622375\n",
            "torch.Size([8, 3, 512, 512])\n",
            "Epoch: 2  Batch: 7 Batch_Loss 0.17393258213996887\n",
            "torch.Size([8, 3, 512, 512])\n",
            "Epoch: 2  Batch: 8 Batch_Loss 0.13803213834762573\n",
            "torch.Size([8, 3, 512, 512])\n",
            "Epoch: 2  Batch: 9 Batch_Loss 0.16086922585964203\n",
            "torch.Size([8, 3, 512, 512])\n",
            "Epoch: 2  Batch: 10 Batch_Loss 0.18594619631767273\n",
            "torch.Size([8, 3, 512, 512])\n",
            "Epoch: 2  Batch: 11 Batch_Loss 0.18303683400154114\n",
            "torch.Size([8, 3, 512, 512])\n",
            "Epoch: 2  Batch: 12 Batch_Loss 0.13416461646556854\n",
            "torch.Size([8, 3, 512, 512])\n",
            "Epoch: 2  Batch: 13 Batch_Loss 0.18270836770534515\n",
            "torch.Size([8, 3, 512, 512])\n",
            "Epoch: 2  Batch: 14 Batch_Loss 0.153005450963974\n",
            "torch.Size([8, 3, 512, 512])\n",
            "Epoch: 2  Batch: 15 Batch_Loss 0.14416423439979553\n",
            "torch.Size([8, 3, 512, 512])\n",
            "Epoch: 2  Batch: 16 Batch_Loss 0.13863010704517365\n",
            "torch.Size([8, 3, 512, 512])\n",
            "Epoch: 2  Batch: 17 Batch_Loss 0.16299980878829956\n",
            "torch.Size([8, 3, 512, 512])\n",
            "Epoch: 2  Batch: 18 Batch_Loss 0.16882476210594177\n",
            "torch.Size([8, 3, 512, 512])\n",
            "Epoch: 2  Batch: 19 Batch_Loss 0.1974601447582245\n",
            "torch.Size([8, 3, 512, 512])\n",
            "Epoch: 2  Batch: 20 Batch_Loss 0.16690008342266083\n",
            "torch.Size([8, 3, 512, 512])\n",
            "Epoch: 2  Batch: 21 Batch_Loss 0.1625465452671051\n",
            "torch.Size([8, 3, 512, 512])\n",
            "Epoch: 2  Batch: 22 Batch_Loss 0.17023317515850067\n",
            "torch.Size([8, 3, 512, 512])\n",
            "Epoch: 2  Batch: 23 Batch_Loss 0.14497807621955872\n",
            "torch.Size([8, 3, 512, 512])\n",
            "Epoch: 2  Batch: 24 Batch_Loss 0.1475715935230255\n",
            "torch.Size([8, 3, 512, 512])\n",
            "Epoch: 2  Batch: 25 Batch_Loss 0.19750778377056122\n",
            "torch.Size([8, 3, 512, 512])\n",
            "Epoch: 2  Batch: 26 Batch_Loss 0.16623008251190186\n",
            "torch.Size([8, 3, 512, 512])\n",
            "Epoch: 2  Batch: 27 Batch_Loss 0.13057249784469604\n",
            "torch.Size([8, 3, 512, 512])\n",
            "Epoch: 2  Batch: 28 Batch_Loss 0.14529184997081757\n",
            "torch.Size([8, 3, 512, 512])\n",
            "Epoch: 2  Batch: 29 Batch_Loss 0.1929101198911667\n",
            "torch.Size([5, 3, 512, 512])\n",
            "Epoch: 2  Batch: 30 Batch_Loss 0.15538322925567627\n",
            "Epoch: 2 -------- Epoch_Loss: 0.16425274600905757\n",
            "torch.Size([8, 3, 512, 512])\n",
            "Epoch: 3  Batch: 0 Batch_Loss 0.17677679657936096\n",
            "torch.Size([8, 3, 512, 512])\n",
            "Epoch: 3  Batch: 1 Batch_Loss 0.15059643983840942\n",
            "torch.Size([8, 3, 512, 512])\n",
            "Epoch: 3  Batch: 2 Batch_Loss 0.2224719226360321\n",
            "torch.Size([8, 3, 512, 512])\n",
            "Epoch: 3  Batch: 3 Batch_Loss 0.20644715428352356\n",
            "torch.Size([8, 3, 512, 512])\n",
            "Epoch: 3  Batch: 4 Batch_Loss 0.1650678664445877\n",
            "torch.Size([8, 3, 512, 512])\n",
            "Epoch: 3  Batch: 5 Batch_Loss 0.13563649356365204\n",
            "torch.Size([8, 3, 512, 512])\n",
            "Epoch: 3  Batch: 6 Batch_Loss 0.12686526775360107\n",
            "torch.Size([8, 3, 512, 512])\n",
            "Epoch: 3  Batch: 7 Batch_Loss 0.17443493008613586\n",
            "torch.Size([8, 3, 512, 512])\n",
            "Epoch: 3  Batch: 8 Batch_Loss 0.13783535361289978\n",
            "torch.Size([8, 3, 512, 512])\n",
            "Epoch: 3  Batch: 9 Batch_Loss 0.1598479151725769\n",
            "torch.Size([8, 3, 512, 512])\n",
            "Epoch: 3  Batch: 10 Batch_Loss 0.1841050088405609\n",
            "torch.Size([8, 3, 512, 512])\n",
            "Epoch: 3  Batch: 11 Batch_Loss 0.1826060265302658\n",
            "torch.Size([8, 3, 512, 512])\n",
            "Epoch: 3  Batch: 12 Batch_Loss 0.13448140025138855\n",
            "torch.Size([8, 3, 512, 512])\n",
            "Epoch: 3  Batch: 13 Batch_Loss 0.18344968557357788\n",
            "torch.Size([8, 3, 512, 512])\n",
            "Epoch: 3  Batch: 14 Batch_Loss 0.15355679392814636\n",
            "torch.Size([8, 3, 512, 512])\n",
            "Epoch: 3  Batch: 15 Batch_Loss 0.14539463818073273\n",
            "torch.Size([8, 3, 512, 512])\n",
            "Epoch: 3  Batch: 16 Batch_Loss 0.13720780611038208\n",
            "torch.Size([8, 3, 512, 512])\n",
            "Epoch: 3  Batch: 17 Batch_Loss 0.16371475160121918\n",
            "torch.Size([8, 3, 512, 512])\n",
            "Epoch: 3  Batch: 18 Batch_Loss 0.16787175834178925\n",
            "torch.Size([8, 3, 512, 512])\n",
            "Epoch: 3  Batch: 19 Batch_Loss 0.19668130576610565\n",
            "torch.Size([8, 3, 512, 512])\n",
            "Epoch: 3  Batch: 20 Batch_Loss 0.16689395904541016\n",
            "torch.Size([8, 3, 512, 512])\n",
            "Epoch: 3  Batch: 21 Batch_Loss 0.16147571802139282\n",
            "torch.Size([8, 3, 512, 512])\n",
            "Epoch: 3  Batch: 22 Batch_Loss 0.16846981644630432\n",
            "torch.Size([8, 3, 512, 512])\n",
            "Epoch: 3  Batch: 23 Batch_Loss 0.14435046911239624\n",
            "torch.Size([8, 3, 512, 512])\n",
            "Epoch: 3  Batch: 24 Batch_Loss 0.14893552660942078\n",
            "torch.Size([8, 3, 512, 512])\n",
            "Epoch: 3  Batch: 25 Batch_Loss 0.19901588559150696\n",
            "torch.Size([8, 3, 512, 512])\n",
            "Epoch: 3  Batch: 26 Batch_Loss 0.16656887531280518\n",
            "torch.Size([8, 3, 512, 512])\n",
            "Epoch: 3  Batch: 27 Batch_Loss 0.13158096373081207\n",
            "torch.Size([8, 3, 512, 512])\n",
            "Epoch: 3  Batch: 28 Batch_Loss 0.14461851119995117\n",
            "torch.Size([8, 3, 512, 512])\n",
            "Epoch: 3  Batch: 29 Batch_Loss 0.19182229042053223\n",
            "torch.Size([5, 3, 512, 512])\n",
            "Epoch: 3  Batch: 30 Batch_Loss 0.15504872798919678\n",
            "Epoch: 3 -------- Epoch_Loss: 0.16399451801853795\n",
            "torch.Size([8, 3, 512, 512])\n",
            "Epoch: 4  Batch: 0 Batch_Loss 0.17846080660820007\n",
            "torch.Size([8, 3, 512, 512])\n",
            "Epoch: 4  Batch: 1 Batch_Loss 0.15081529319286346\n",
            "torch.Size([8, 3, 512, 512])\n",
            "Epoch: 4  Batch: 2 Batch_Loss 0.22361642122268677\n",
            "torch.Size([8, 3, 512, 512])\n",
            "Epoch: 4  Batch: 3 Batch_Loss 0.20672206580638885\n",
            "torch.Size([8, 3, 512, 512])\n",
            "Epoch: 4  Batch: 4 Batch_Loss 0.16504834592342377\n",
            "torch.Size([8, 3, 512, 512])\n",
            "Epoch: 4  Batch: 5 Batch_Loss 0.13678093254566193\n",
            "torch.Size([8, 3, 512, 512])\n",
            "Epoch: 4  Batch: 6 Batch_Loss 0.12696585059165955\n",
            "torch.Size([8, 3, 512, 512])\n",
            "Epoch: 4  Batch: 7 Batch_Loss 0.17491739988327026\n",
            "torch.Size([8, 3, 512, 512])\n",
            "Epoch: 4  Batch: 8 Batch_Loss 0.13741275668144226\n",
            "torch.Size([8, 3, 512, 512])\n",
            "Epoch: 4  Batch: 9 Batch_Loss 0.16034214198589325\n",
            "torch.Size([8, 3, 512, 512])\n",
            "Epoch: 4  Batch: 10 Batch_Loss 0.18426379561424255\n",
            "torch.Size([8, 3, 512, 512])\n",
            "Epoch: 4  Batch: 11 Batch_Loss 0.1828674077987671\n",
            "torch.Size([8, 3, 512, 512])\n",
            "Epoch: 4  Batch: 12 Batch_Loss 0.1337384581565857\n",
            "torch.Size([8, 3, 512, 512])\n",
            "Epoch: 4  Batch: 13 Batch_Loss 0.18232285976409912\n",
            "torch.Size([8, 3, 512, 512])\n",
            "Epoch: 4  Batch: 14 Batch_Loss 0.15344011783599854\n",
            "torch.Size([8, 3, 512, 512])\n",
            "Epoch: 4  Batch: 15 Batch_Loss 0.14472746849060059\n",
            "torch.Size([8, 3, 512, 512])\n",
            "Epoch: 4  Batch: 16 Batch_Loss 0.13679243624210358\n",
            "torch.Size([8, 3, 512, 512])\n",
            "Epoch: 4  Batch: 17 Batch_Loss 0.16305558383464813\n",
            "torch.Size([8, 3, 512, 512])\n",
            "Epoch: 4  Batch: 18 Batch_Loss 0.16841590404510498\n",
            "torch.Size([8, 3, 512, 512])\n",
            "Epoch: 4  Batch: 19 Batch_Loss 0.19622570276260376\n",
            "torch.Size([8, 3, 512, 512])\n",
            "Epoch: 4  Batch: 20 Batch_Loss 0.16640882194042206\n",
            "torch.Size([8, 3, 512, 512])\n",
            "Epoch: 4  Batch: 21 Batch_Loss 0.1612265408039093\n",
            "torch.Size([8, 3, 512, 512])\n",
            "Epoch: 4  Batch: 22 Batch_Loss 0.16866135597229004\n",
            "torch.Size([8, 3, 512, 512])\n",
            "Epoch: 4  Batch: 23 Batch_Loss 0.1447758674621582\n",
            "torch.Size([8, 3, 512, 512])\n",
            "Epoch: 4  Batch: 24 Batch_Loss 0.148178368806839\n",
            "torch.Size([8, 3, 512, 512])\n",
            "Epoch: 4  Batch: 25 Batch_Loss 0.19478200376033783\n",
            "torch.Size([8, 3, 512, 512])\n",
            "Epoch: 4  Batch: 26 Batch_Loss 0.16348576545715332\n",
            "torch.Size([8, 3, 512, 512])\n",
            "Epoch: 4  Batch: 27 Batch_Loss 0.13264575600624084\n",
            "torch.Size([8, 3, 512, 512])\n",
            "Epoch: 4  Batch: 28 Batch_Loss 0.14590518176555634\n",
            "torch.Size([8, 3, 512, 512])\n",
            "Epoch: 4  Batch: 29 Batch_Loss 0.192681223154068\n",
            "torch.Size([5, 3, 512, 512])\n",
            "Epoch: 4  Batch: 30 Batch_Loss 0.15601079165935516\n",
            "Epoch: 4 -------- Epoch_Loss: 0.16392559437982498\n",
            "torch.Size([8, 3, 512, 512])\n",
            "Epoch: 5  Batch: 0 Batch_Loss 0.17758437991142273\n",
            "torch.Size([8, 3, 512, 512])\n",
            "Epoch: 5  Batch: 1 Batch_Loss 0.15065360069274902\n",
            "torch.Size([8, 3, 512, 512])\n",
            "Epoch: 5  Batch: 2 Batch_Loss 0.22386924922466278\n",
            "torch.Size([8, 3, 512, 512])\n",
            "Epoch: 5  Batch: 3 Batch_Loss 0.207087442278862\n",
            "torch.Size([8, 3, 512, 512])\n",
            "Epoch: 5  Batch: 4 Batch_Loss 0.16467663645744324\n",
            "torch.Size([8, 3, 512, 512])\n",
            "Epoch: 5  Batch: 5 Batch_Loss 0.13505199551582336\n",
            "torch.Size([8, 3, 512, 512])\n",
            "Epoch: 5  Batch: 6 Batch_Loss 0.125016987323761\n",
            "torch.Size([8, 3, 512, 512])\n",
            "Epoch: 5  Batch: 7 Batch_Loss 0.17460481822490692\n",
            "torch.Size([8, 3, 512, 512])\n",
            "Epoch: 5  Batch: 8 Batch_Loss 0.13627424836158752\n",
            "torch.Size([8, 3, 512, 512])\n",
            "Epoch: 5  Batch: 9 Batch_Loss 0.16222351789474487\n",
            "torch.Size([8, 3, 512, 512])\n",
            "Epoch: 5  Batch: 10 Batch_Loss 0.18319861590862274\n",
            "torch.Size([8, 3, 512, 512])\n",
            "Epoch: 5  Batch: 11 Batch_Loss 0.18359172344207764\n",
            "torch.Size([8, 3, 512, 512])\n",
            "Epoch: 5  Batch: 12 Batch_Loss 0.1340191811323166\n",
            "torch.Size([8, 3, 512, 512])\n",
            "Epoch: 5  Batch: 13 Batch_Loss 0.18449309468269348\n",
            "torch.Size([8, 3, 512, 512])\n",
            "Epoch: 5  Batch: 14 Batch_Loss 0.15327756106853485\n",
            "torch.Size([8, 3, 512, 512])\n",
            "Epoch: 5  Batch: 15 Batch_Loss 0.1459420919418335\n",
            "torch.Size([8, 3, 512, 512])\n",
            "Epoch: 5  Batch: 16 Batch_Loss 0.13705137372016907\n",
            "torch.Size([8, 3, 512, 512])\n",
            "Epoch: 5  Batch: 17 Batch_Loss 0.16333547234535217\n",
            "torch.Size([8, 3, 512, 512])\n",
            "Epoch: 5  Batch: 18 Batch_Loss 0.16728293895721436\n",
            "torch.Size([8, 3, 512, 512])\n",
            "Epoch: 5  Batch: 19 Batch_Loss 0.1973392367362976\n",
            "torch.Size([8, 3, 512, 512])\n",
            "Epoch: 5  Batch: 20 Batch_Loss 0.16886703670024872\n",
            "torch.Size([8, 3, 512, 512])\n",
            "Epoch: 5  Batch: 21 Batch_Loss 0.1633196771144867\n",
            "torch.Size([8, 3, 512, 512])\n",
            "Epoch: 5  Batch: 22 Batch_Loss 0.16814222931861877\n",
            "torch.Size([8, 3, 512, 512])\n",
            "Epoch: 5  Batch: 23 Batch_Loss 0.14534655213356018\n",
            "torch.Size([8, 3, 512, 512])\n",
            "Epoch: 5  Batch: 24 Batch_Loss 0.14732152223587036\n",
            "torch.Size([8, 3, 512, 512])\n",
            "Epoch: 5  Batch: 25 Batch_Loss 0.19533781707286835\n",
            "torch.Size([8, 3, 512, 512])\n",
            "Epoch: 5  Batch: 26 Batch_Loss 0.16556189954280853\n",
            "torch.Size([8, 3, 512, 512])\n",
            "Epoch: 5  Batch: 27 Batch_Loss 0.13217252492904663\n",
            "torch.Size([8, 3, 512, 512])\n",
            "Epoch: 5  Batch: 28 Batch_Loss 0.14553913474082947\n",
            "torch.Size([8, 3, 512, 512])\n",
            "Epoch: 5  Batch: 29 Batch_Loss 0.19228708744049072\n",
            "torch.Size([5, 3, 512, 512])\n",
            "Epoch: 5  Batch: 30 Batch_Loss 0.1538415402173996\n",
            "Epoch: 5 -------- Epoch_Loss: 0.16401003829894528\n",
            "torch.Size([8, 3, 512, 512])\n",
            "Epoch: 6  Batch: 0 Batch_Loss 0.17688749730587006\n",
            "torch.Size([8, 3, 512, 512])\n",
            "Epoch: 6  Batch: 1 Batch_Loss 0.14986133575439453\n",
            "torch.Size([8, 3, 512, 512])\n",
            "Epoch: 6  Batch: 2 Batch_Loss 0.22076106071472168\n",
            "torch.Size([8, 3, 512, 512])\n",
            "Epoch: 6  Batch: 3 Batch_Loss 0.20697090029716492\n",
            "torch.Size([8, 3, 512, 512])\n",
            "Epoch: 6  Batch: 4 Batch_Loss 0.16450618207454681\n",
            "torch.Size([8, 3, 512, 512])\n",
            "Epoch: 6  Batch: 5 Batch_Loss 0.13584372401237488\n",
            "torch.Size([8, 3, 512, 512])\n",
            "Epoch: 6  Batch: 6 Batch_Loss 0.12637583911418915\n",
            "torch.Size([8, 3, 512, 512])\n",
            "Epoch: 6  Batch: 7 Batch_Loss 0.17375867068767548\n",
            "torch.Size([8, 3, 512, 512])\n",
            "Epoch: 6  Batch: 8 Batch_Loss 0.13725589215755463\n",
            "torch.Size([8, 3, 512, 512])\n",
            "Epoch: 6  Batch: 9 Batch_Loss 0.1590348482131958\n",
            "torch.Size([8, 3, 512, 512])\n",
            "Epoch: 6  Batch: 10 Batch_Loss 0.18270671367645264\n",
            "torch.Size([8, 3, 512, 512])\n",
            "Epoch: 6  Batch: 11 Batch_Loss 0.18439821898937225\n",
            "torch.Size([8, 3, 512, 512])\n",
            "Epoch: 6  Batch: 12 Batch_Loss 0.1335025131702423\n",
            "torch.Size([8, 3, 512, 512])\n",
            "Epoch: 6  Batch: 13 Batch_Loss 0.18109481036663055\n",
            "torch.Size([8, 3, 512, 512])\n",
            "Epoch: 6  Batch: 14 Batch_Loss 0.15153560042381287\n",
            "torch.Size([8, 3, 512, 512])\n",
            "Epoch: 6  Batch: 15 Batch_Loss 0.14481711387634277\n",
            "torch.Size([8, 3, 512, 512])\n",
            "Epoch: 6  Batch: 16 Batch_Loss 0.1373850703239441\n",
            "torch.Size([8, 3, 512, 512])\n",
            "Epoch: 6  Batch: 17 Batch_Loss 0.16248634457588196\n",
            "torch.Size([8, 3, 512, 512])\n",
            "Epoch: 6  Batch: 18 Batch_Loss 0.16611149907112122\n",
            "torch.Size([8, 3, 512, 512])\n",
            "Epoch: 6  Batch: 19 Batch_Loss 0.19585537910461426\n",
            "torch.Size([8, 3, 512, 512])\n",
            "Epoch: 6  Batch: 20 Batch_Loss 0.1687888503074646\n",
            "torch.Size([8, 3, 512, 512])\n",
            "Epoch: 6  Batch: 21 Batch_Loss 0.16013182699680328\n",
            "torch.Size([8, 3, 512, 512])\n",
            "Epoch: 6  Batch: 22 Batch_Loss 0.1703348606824875\n",
            "torch.Size([8, 3, 512, 512])\n",
            "Epoch: 6  Batch: 23 Batch_Loss 0.14544987678527832\n",
            "torch.Size([8, 3, 512, 512])\n",
            "Epoch: 6  Batch: 24 Batch_Loss 0.1471337378025055\n",
            "torch.Size([8, 3, 512, 512])\n",
            "Epoch: 6  Batch: 25 Batch_Loss 0.19504015147686005\n",
            "torch.Size([8, 3, 512, 512])\n",
            "Epoch: 6  Batch: 26 Batch_Loss 0.16608914732933044\n",
            "torch.Size([8, 3, 512, 512])\n",
            "Epoch: 6  Batch: 27 Batch_Loss 0.1325300633907318\n",
            "torch.Size([8, 3, 512, 512])\n",
            "Epoch: 6  Batch: 28 Batch_Loss 0.14421221613883972\n",
            "torch.Size([8, 3, 512, 512])\n",
            "Epoch: 6  Batch: 29 Batch_Loss 0.19382771849632263\n",
            "torch.Size([5, 3, 512, 512])\n",
            "Epoch: 6  Batch: 30 Batch_Loss 0.15461359918117523\n",
            "Epoch: 6 -------- Epoch_Loss: 0.16352584717735166\n",
            "torch.Size([8, 3, 512, 512])\n",
            "Epoch: 7  Batch: 0 Batch_Loss 0.1761380434036255\n",
            "torch.Size([8, 3, 512, 512])\n",
            "Epoch: 7  Batch: 1 Batch_Loss 0.14961950480937958\n",
            "torch.Size([8, 3, 512, 512])\n",
            "Epoch: 7  Batch: 2 Batch_Loss 0.22043725848197937\n",
            "torch.Size([8, 3, 512, 512])\n",
            "Epoch: 7  Batch: 3 Batch_Loss 0.20624510943889618\n",
            "torch.Size([8, 3, 512, 512])\n",
            "Epoch: 7  Batch: 4 Batch_Loss 0.16407299041748047\n",
            "torch.Size([8, 3, 512, 512])\n",
            "Epoch: 7  Batch: 5 Batch_Loss 0.13497036695480347\n",
            "torch.Size([8, 3, 512, 512])\n",
            "Epoch: 7  Batch: 6 Batch_Loss 0.12589725852012634\n",
            "torch.Size([8, 3, 512, 512])\n",
            "Epoch: 7  Batch: 7 Batch_Loss 0.17359387874603271\n",
            "torch.Size([8, 3, 512, 512])\n",
            "Epoch: 7  Batch: 8 Batch_Loss 0.1371002346277237\n",
            "torch.Size([8, 3, 512, 512])\n",
            "Epoch: 7  Batch: 9 Batch_Loss 0.15812481939792633\n",
            "torch.Size([8, 3, 512, 512])\n",
            "Epoch: 7  Batch: 10 Batch_Loss 0.1844257116317749\n",
            "torch.Size([8, 3, 512, 512])\n",
            "Epoch: 7  Batch: 11 Batch_Loss 0.18178805708885193\n",
            "torch.Size([8, 3, 512, 512])\n",
            "Epoch: 7  Batch: 12 Batch_Loss 0.1317366659641266\n",
            "torch.Size([8, 3, 512, 512])\n",
            "Epoch: 7  Batch: 13 Batch_Loss 0.1824154108762741\n",
            "torch.Size([8, 3, 512, 512])\n",
            "Epoch: 7  Batch: 14 Batch_Loss 0.15152902901172638\n",
            "torch.Size([8, 3, 512, 512])\n",
            "Epoch: 7  Batch: 15 Batch_Loss 0.14734061062335968\n",
            "torch.Size([8, 3, 512, 512])\n",
            "Epoch: 7  Batch: 16 Batch_Loss 0.13707959651947021\n",
            "torch.Size([8, 3, 512, 512])\n",
            "Epoch: 7  Batch: 17 Batch_Loss 0.16292405128479004\n",
            "torch.Size([8, 3, 512, 512])\n",
            "Epoch: 7  Batch: 18 Batch_Loss 0.16848108172416687\n",
            "torch.Size([8, 3, 512, 512])\n",
            "Epoch: 7  Batch: 19 Batch_Loss 0.19745516777038574\n",
            "torch.Size([8, 3, 512, 512])\n",
            "Epoch: 7  Batch: 20 Batch_Loss 0.16887050867080688\n",
            "torch.Size([8, 3, 512, 512])\n",
            "Epoch: 7  Batch: 21 Batch_Loss 0.1617451012134552\n",
            "torch.Size([8, 3, 512, 512])\n",
            "Epoch: 7  Batch: 22 Batch_Loss 0.17122188210487366\n",
            "torch.Size([8, 3, 512, 512])\n",
            "Epoch: 7  Batch: 23 Batch_Loss 0.1456453949213028\n",
            "torch.Size([8, 3, 512, 512])\n",
            "Epoch: 7  Batch: 24 Batch_Loss 0.14713916182518005\n",
            "torch.Size([8, 3, 512, 512])\n",
            "Epoch: 7  Batch: 25 Batch_Loss 0.19993826746940613\n",
            "torch.Size([8, 3, 512, 512])\n",
            "Epoch: 7  Batch: 26 Batch_Loss 0.16791647672653198\n",
            "torch.Size([8, 3, 512, 512])\n",
            "Epoch: 7  Batch: 27 Batch_Loss 0.13017642498016357\n",
            "torch.Size([8, 3, 512, 512])\n",
            "Epoch: 7  Batch: 28 Batch_Loss 0.14474064111709595\n",
            "torch.Size([8, 3, 512, 512])\n",
            "Epoch: 7  Batch: 29 Batch_Loss 0.1912165880203247\n",
            "torch.Size([5, 3, 512, 512])\n",
            "Epoch: 7  Batch: 30 Batch_Loss 0.1549197882413864\n",
            "Epoch: 7 -------- Epoch_Loss: 0.16370661556720734\n",
            "torch.Size([8, 3, 512, 512])\n",
            "Epoch: 8  Batch: 0 Batch_Loss 0.1755436658859253\n",
            "torch.Size([8, 3, 512, 512])\n",
            "Epoch: 8  Batch: 1 Batch_Loss 0.15225371718406677\n",
            "torch.Size([8, 3, 512, 512])\n",
            "Epoch: 8  Batch: 2 Batch_Loss 0.22195260226726532\n",
            "torch.Size([8, 3, 512, 512])\n",
            "Epoch: 8  Batch: 3 Batch_Loss 0.20559349656105042\n",
            "torch.Size([8, 3, 512, 512])\n",
            "Epoch: 8  Batch: 4 Batch_Loss 0.16615641117095947\n",
            "torch.Size([8, 3, 512, 512])\n",
            "Epoch: 8  Batch: 5 Batch_Loss 0.13647659122943878\n",
            "torch.Size([8, 3, 512, 512])\n",
            "Epoch: 8  Batch: 6 Batch_Loss 0.12664839625358582\n",
            "torch.Size([8, 3, 512, 512])\n",
            "Epoch: 8  Batch: 7 Batch_Loss 0.17366158962249756\n",
            "torch.Size([8, 3, 512, 512])\n",
            "Epoch: 8  Batch: 8 Batch_Loss 0.13688747584819794\n",
            "torch.Size([8, 3, 512, 512])\n",
            "Epoch: 8  Batch: 9 Batch_Loss 0.15913841128349304\n",
            "torch.Size([8, 3, 512, 512])\n",
            "Epoch: 8  Batch: 10 Batch_Loss 0.1877031773328781\n",
            "torch.Size([8, 3, 512, 512])\n",
            "Epoch: 8  Batch: 11 Batch_Loss 0.1820419728755951\n",
            "torch.Size([8, 3, 512, 512])\n",
            "Epoch: 8  Batch: 12 Batch_Loss 0.1337941437959671\n",
            "torch.Size([8, 3, 512, 512])\n",
            "Epoch: 8  Batch: 13 Batch_Loss 0.18350595235824585\n",
            "torch.Size([8, 3, 512, 512])\n",
            "Epoch: 8  Batch: 14 Batch_Loss 0.15227577090263367\n",
            "torch.Size([8, 3, 512, 512])\n",
            "Epoch: 8  Batch: 15 Batch_Loss 0.1443055272102356\n",
            "torch.Size([8, 3, 512, 512])\n",
            "Epoch: 8  Batch: 16 Batch_Loss 0.13570886850357056\n",
            "torch.Size([8, 3, 512, 512])\n",
            "Epoch: 8  Batch: 17 Batch_Loss 0.1616506576538086\n",
            "torch.Size([8, 3, 512, 512])\n",
            "Epoch: 8  Batch: 18 Batch_Loss 0.16930197179317474\n",
            "torch.Size([8, 3, 512, 512])\n",
            "Epoch: 8  Batch: 19 Batch_Loss 0.19524800777435303\n",
            "torch.Size([8, 3, 512, 512])\n",
            "Epoch: 8  Batch: 20 Batch_Loss 0.16871194541454315\n",
            "torch.Size([8, 3, 512, 512])\n",
            "Epoch: 8  Batch: 21 Batch_Loss 0.160703644156456\n",
            "torch.Size([8, 3, 512, 512])\n",
            "Epoch: 8  Batch: 22 Batch_Loss 0.16918107867240906\n",
            "torch.Size([8, 3, 512, 512])\n",
            "Epoch: 8  Batch: 23 Batch_Loss 0.1446169763803482\n",
            "torch.Size([8, 3, 512, 512])\n",
            "Epoch: 8  Batch: 24 Batch_Loss 0.14763107895851135\n",
            "torch.Size([8, 3, 512, 512])\n",
            "Epoch: 8  Batch: 25 Batch_Loss 0.19794544577598572\n",
            "torch.Size([8, 3, 512, 512])\n",
            "Epoch: 8  Batch: 26 Batch_Loss 0.1673157662153244\n",
            "torch.Size([8, 3, 512, 512])\n",
            "Epoch: 8  Batch: 27 Batch_Loss 0.13056634366512299\n",
            "torch.Size([8, 3, 512, 512])\n",
            "Epoch: 8  Batch: 28 Batch_Loss 0.14559035003185272\n",
            "torch.Size([8, 3, 512, 512])\n",
            "Epoch: 8  Batch: 29 Batch_Loss 0.1924632489681244\n",
            "torch.Size([5, 3, 512, 512])\n",
            "Epoch: 8  Batch: 30 Batch_Loss 0.15430837869644165\n",
            "Epoch: 8 -------- Epoch_Loss: 0.16383492465942137\n",
            "torch.Size([8, 3, 512, 512])\n",
            "Epoch: 9  Batch: 0 Batch_Loss 0.1750669777393341\n",
            "torch.Size([8, 3, 512, 512])\n",
            "Epoch: 9  Batch: 1 Batch_Loss 0.1503230333328247\n",
            "torch.Size([8, 3, 512, 512])\n",
            "Epoch: 9  Batch: 2 Batch_Loss 0.21872326731681824\n",
            "torch.Size([8, 3, 512, 512])\n",
            "Epoch: 9  Batch: 3 Batch_Loss 0.20577606558799744\n",
            "torch.Size([8, 3, 512, 512])\n",
            "Epoch: 9  Batch: 4 Batch_Loss 0.1646052449941635\n",
            "torch.Size([8, 3, 512, 512])\n",
            "Epoch: 9  Batch: 5 Batch_Loss 0.137965589761734\n",
            "torch.Size([8, 3, 512, 512])\n",
            "Epoch: 9  Batch: 6 Batch_Loss 0.13030624389648438\n",
            "torch.Size([8, 3, 512, 512])\n",
            "Epoch: 9  Batch: 7 Batch_Loss 0.17447760701179504\n",
            "torch.Size([8, 3, 512, 512])\n",
            "Epoch: 9  Batch: 8 Batch_Loss 0.13666507601737976\n",
            "torch.Size([8, 3, 512, 512])\n",
            "Epoch: 9  Batch: 9 Batch_Loss 0.15946725010871887\n",
            "torch.Size([8, 3, 512, 512])\n",
            "Epoch: 9  Batch: 10 Batch_Loss 0.18650364875793457\n",
            "torch.Size([8, 3, 512, 512])\n",
            "Epoch: 9  Batch: 11 Batch_Loss 0.18214568495750427\n",
            "torch.Size([8, 3, 512, 512])\n",
            "Epoch: 9  Batch: 12 Batch_Loss 0.13320055603981018\n",
            "torch.Size([8, 3, 512, 512])\n",
            "Epoch: 9  Batch: 13 Batch_Loss 0.183888778090477\n",
            "torch.Size([8, 3, 512, 512])\n",
            "Epoch: 9  Batch: 14 Batch_Loss 0.15293368697166443\n",
            "torch.Size([8, 3, 512, 512])\n",
            "Epoch: 9  Batch: 15 Batch_Loss 0.1461239606142044\n",
            "torch.Size([8, 3, 512, 512])\n",
            "Epoch: 9  Batch: 16 Batch_Loss 0.13715653121471405\n",
            "torch.Size([8, 3, 512, 512])\n",
            "Epoch: 9  Batch: 17 Batch_Loss 0.16277794539928436\n",
            "torch.Size([8, 3, 512, 512])\n",
            "Epoch: 9  Batch: 18 Batch_Loss 0.16714978218078613\n",
            "torch.Size([8, 3, 512, 512])\n",
            "Epoch: 9  Batch: 19 Batch_Loss 0.19597646594047546\n",
            "torch.Size([8, 3, 512, 512])\n",
            "Epoch: 9  Batch: 20 Batch_Loss 0.16827362775802612\n",
            "torch.Size([8, 3, 512, 512])\n",
            "Epoch: 9  Batch: 21 Batch_Loss 0.1596422791481018\n",
            "torch.Size([8, 3, 512, 512])\n",
            "Epoch: 9  Batch: 22 Batch_Loss 0.16971105337142944\n",
            "torch.Size([8, 3, 512, 512])\n",
            "Epoch: 9  Batch: 23 Batch_Loss 0.1478247046470642\n",
            "torch.Size([8, 3, 512, 512])\n",
            "Epoch: 9  Batch: 24 Batch_Loss 0.14800167083740234\n",
            "torch.Size([8, 3, 512, 512])\n",
            "Epoch: 9  Batch: 25 Batch_Loss 0.19676850736141205\n",
            "torch.Size([8, 3, 512, 512])\n",
            "Epoch: 9  Batch: 26 Batch_Loss 0.16551996767520905\n",
            "torch.Size([8, 3, 512, 512])\n",
            "Epoch: 9  Batch: 27 Batch_Loss 0.13025541603565216\n",
            "torch.Size([8, 3, 512, 512])\n",
            "Epoch: 9  Batch: 28 Batch_Loss 0.14472362399101257\n",
            "torch.Size([8, 3, 512, 512])\n",
            "Epoch: 9  Batch: 29 Batch_Loss 0.1950228214263916\n",
            "torch.Size([5, 3, 512, 512])\n",
            "Epoch: 9  Batch: 30 Batch_Loss 0.15409691631793976\n",
            "Epoch: 9 -------- Epoch_Loss: 0.16390561240334664\n"
          ]
        },
        {
          "output_type": "display_data",
          "data": {
            "image/png": "[encoded data removed]",
            "text/plain": [
              "<Figure size 432x288 with 1 Axes>"
            ]
          },
          "metadata": {
            "needs_background": "light"
          }
        }
      ]
    },
    {
      "cell_type": "code",
      "metadata": {
        "id": "VUHMJQ0wCAiD"
      },
      "source": [
        "torch.save(model.state_dict(), './model.pth')"
      ],
      "execution_count": null,
      "outputs": []
    },
    {
      "cell_type": "code",
      "metadata": {
        "id": "8i93l3TDC1uN"
      },
      "source": [
        "for f in test_loader:\n",
        "  data=f[0].cuda().float()\n",
        "  ll = f[1].squeeze().detach().cpu().numpy()\n",
        "  predictions = model.predict(data)\n",
        "  pred=predictions.squeeze().detach().cpu().numpy()\n",
        "  break"
      ],
      "execution_count": null,
      "outputs": []
    },
    {
      "cell_type": "code",
      "metadata": {
        "colab": {
          "base_uri": "https://localhost:8080/"
        },
        "id": "3msD8ouOIHxs",
        "outputId": "a2e6ee91-0b05-4aa5-f8b2-6e98ebceda1a"
      },
      "source": [
        "pred.shape, predictions.shape, ll.shape"
      ],
      "execution_count": null,
      "outputs": [
        {
          "output_type": "execute_result",
          "data": {
            "text/plain": [
              "((3, 512, 512), torch.Size([1, 3, 512, 512]), (3, 512, 512))"
            ]
          },
          "metadata": {},
          "execution_count": 23
        }
      ]
    },
    {
      "cell_type": "code",
      "metadata": {
        "id": "Ci7cayjMJHUl"
      },
      "source": [
        "from google.colab.patches import cv2_imshow"
      ],
      "execution_count": null,
      "outputs": []
    },
    {
      "cell_type": "code",
      "metadata": {
        "colab": {
          "base_uri": "https://localhost:8080/"
        },
        "id": "P-g3np8bLBga",
        "outputId": "66468655-aee8-4a39-b900-6dfe8dbbb8ea"
      },
      "source": [
        "data_arr=data.detach().squeeze().cpu().numpy()\n",
        "data_arr.shape\n",
        "data_arr=data_arr.transpose(1,2,0)\n",
        "data_arr.shape"
      ],
      "execution_count": null,
      "outputs": [
        {
          "output_type": "execute_result",
          "data": {
            "text/plain": [
              "(512, 512, 3)"
            ]
          },
          "metadata": {},
          "execution_count": 25
        }
      ]
    },
    {
      "cell_type": "code",
      "metadata": {
        "id": "Up5FmwmqL-dv"
      },
      "source": [
        "np.max(data_arr), np.min(data_arr)\n",
        "data_arr= np.where(data_arr<1,255,0)"
      ],
      "execution_count": null,
      "outputs": []
    },
    {
      "cell_type": "code",
      "metadata": {
        "colab": {
          "base_uri": "https://localhost:8080/",
          "height": 529
        },
        "id": "IpHKzxUpL61-",
        "outputId": "03eae43b-2709-427d-d4da-159ef67bd08c"
      },
      "source": [
        "cv2_imshow(data_arr)"
      ],
      "execution_count": null,
      "outputs": [
        {
          "output_type": "display_data",
          "data": {
            "image/png": "[encoded data removed]",
            "text/plain": [
              "<PIL.Image.Image image mode=RGB size=512x512 at 0x7FE8F2647710>"
            ]
          },
          "metadata": {}
        }
      ]
    },
    {
      "cell_type": "code",
      "metadata": {
        "colab": {
          "base_uri": "https://localhost:8080/"
        },
        "id": "v1eKg9nSJmQb",
        "outputId": "f7e44f30-18a2-48ff-f741-884c736a6bda"
      },
      "source": [
        "np.max(pred), np.min(pred)"
      ],
      "execution_count": null,
      "outputs": [
        {
          "output_type": "execute_result",
          "data": {
            "text/plain": [
              "(0.3160704, -0.09218275)"
            ]
          },
          "metadata": {},
          "execution_count": 28
        }
      ]
    },
    {
      "cell_type": "code",
      "metadata": {
        "id": "vhqTREHgJgsi"
      },
      "source": [
        "pred1=np.where(pred<0.2,255,0)"
      ],
      "execution_count": null,
      "outputs": []
    },
    {
      "cell_type": "code",
      "metadata": {
        "colab": {
          "base_uri": "https://localhost:8080/",
          "height": 529
        },
        "id": "xgavlLTXJuUO",
        "outputId": "c56c938d-448d-4e04-f034-bf58dad575bf"
      },
      "source": [
        "cv2_imshow(pred1.transpose(1,2,0))"
      ],
      "execution_count": null,
      "outputs": [
        {
          "output_type": "display_data",
          "data": {
            "image/png": "[encoded data removed]",
            "text/plain": [
              "<PIL.Image.Image image mode=RGB size=512x512 at 0x7FE8F26BDB50>"
            ]
          },
          "metadata": {}
        }
      ]
    },
    {
      "cell_type": "code",
      "metadata": {
        "colab": {
          "base_uri": "https://localhost:8080/"
        },
        "id": "8GkC0nFoKDPF",
        "outputId": "18c88195-9e92-4973-c430-45b70e850a8e"
      },
      "source": [
        "np.max(ll), np.min(ll)"
      ],
      "execution_count": null,
      "outputs": [
        {
          "output_type": "execute_result",
          "data": {
            "text/plain": [
              "(2, 0)"
            ]
          },
          "metadata": {},
          "execution_count": 31
        }
      ]
    },
    {
      "cell_type": "code",
      "metadata": {
        "id": "zcFL71cbKYY9"
      },
      "source": [
        "ll=np.where(ll<2,255,0)"
      ],
      "execution_count": null,
      "outputs": []
    },
    {
      "cell_type": "code",
      "metadata": {
        "colab": {
          "base_uri": "https://localhost:8080/",
          "height": 529
        },
        "id": "PkryGaroIn0E",
        "outputId": "2af145ac-c01e-4269-b6d2-8e08604470f7"
      },
      "source": [
        "cv2_imshow(ll.transpose(1,2,0))"
      ],
      "execution_count": null,
      "outputs": [
        {
          "output_type": "display_data",
          "data": {
            "image/png": "[encoded data removed]",
            "text/plain": [
              "<PIL.Image.Image image mode=RGB size=512x512 at 0x7FE8F2112A10>"
            ]
          },
          "metadata": {}
        }
      ]
    },
    {
      "cell_type": "code",
      "metadata": {
        "id": "cLxA3ITbqye8"
      },
      "source": [
        "import gc\n",
        "gc.collect()\n",
        "torch.cuda.empty_cache()"
      ],
      "execution_count": null,
      "outputs": []
    },
    {
      "cell_type": "code",
      "metadata": {
        "id": "Ym9qgYe02e3W"
      },
      "source": [
        "import torch\n",
        "torch.cuda.empty_cache()"
      ],
      "execution_count": null,
      "outputs": []
    },
    {
      "cell_type": "code",
      "metadata": {
        "id": "0PU4KZ_Yz4NP",
        "colab": {
          "base_uri": "https://localhost:8080/"
        },
        "outputId": "67e0b793-543c-433a-86b7-e5cf3cc5482d"
      },
      "source": [
        "y.shape"
      ],
      "execution_count": null,
      "outputs": [
        {
          "output_type": "execute_result",
          "data": {
            "text/plain": [
              "torch.Size([8, 3, 512, 512])"
            ]
          },
          "metadata": {},
          "execution_count": 61
        }
      ]
    },
    {
      "cell_type": "code",
      "metadata": {
        "id": "k2zY6xFb0Gcc",
        "colab": {
          "base_uri": "https://localhost:8080/"
        },
        "outputId": "b259f318-b275-46be-aac3-bd12ac10e4f4"
      },
      "source": [
        "x.shape"
      ],
      "execution_count": null,
      "outputs": [
        {
          "output_type": "execute_result",
          "data": {
            "text/plain": [
              "torch.Size([8, 3, 512, 512])"
            ]
          },
          "metadata": {},
          "execution_count": 62
        }
      ]
    },
    {
      "cell_type": "code",
      "metadata": {
        "colab": {
          "base_uri": "https://localhost:8080/"
        },
        "id": "geAFK5TkyxRs",
        "outputId": "4631b8e2-31ef-4e17-a846-bb5c8e230b6b"
      },
      "source": [
        "torch.cuda.reset_max_memory_cached()"
      ],
      "execution_count": null,
      "outputs": [
        {
          "output_type": "stream",
          "name": "stderr",
          "text": [
            "/usr/local/lib/python3.7/dist-packages/torch/cuda/memory.py:300: FutureWarning: torch.cuda.reset_max_memory_cached now calls torch.cuda.reset_peak_memory_stats, which resets /all/ peak memory stats.\n",
            "  FutureWarning)\n"
          ]
        }
      ]
    },
    {
      "cell_type": "code",
      "metadata": {
        "id": "c_MQTDnlyEFL"
      },
      "source": [
        ""
      ],
      "execution_count": null,
      "outputs": []
    }
  ]
}