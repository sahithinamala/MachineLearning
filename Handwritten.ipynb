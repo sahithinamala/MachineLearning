{
  "nbformat": 4,
  "nbformat_minor": 0,
  "metadata": {
    "colab": {
      "name": "Handwritten.ipynb",
      "provenance": [],
      "include_colab_link": true
    },
    "kernelspec": {
      "name": "python3",
      "display_name": "Python 3"
    },
    "language_info": {
      "name": "python"
    }
  },
  "cells": [
    {
      "cell_type": "markdown",
      "metadata": {
        "id": "view-in-github",
        "colab_type": "text"
      },
      "source": [
        "<a href=\"https://colab.research.google.com/github/sahithinamala/MachineLearning/blob/main/Handwritten.ipynb\" target=\"_parent\"><img src=\"https://colab.research.google.com/assets/colab-badge.svg\" alt=\"Open In Colab\"/></a>"
      ]
    },
    {
      "cell_type": "code",
      "metadata": {
        "id": "wq145BENw8Vg"
      },
      "source": [
        "import torch\n",
        "import torchvision"
      ],
      "execution_count": null,
      "outputs": []
    },
    {
      "cell_type": "code",
      "metadata": {
        "colab": {
          "base_uri": "https://localhost:8080/"
        },
        "id": "iLnHr_-qIY1O",
        "outputId": "46ea18e4-3bc7-4eed-dfff-41e01ff39be2"
      },
      "source": [
        "n_epochs = 3\n",
        "batch_size_train = 64\n",
        "batch_size_test = 1000\n",
        "learning_rate = 0.01\n",
        "momentum = 0.5\n",
        "log_interval = 10\n",
        "\n",
        "random_seed = 1\n",
        "torch.backends.cudnn.enabled = False\n",
        "torch.manual_seed(random_seed)"
      ],
      "execution_count": null,
      "outputs": [
        {
          "output_type": "execute_result",
          "data": {
            "text/plain": [
              "<torch._C.Generator at 0x7f0b4aebe790>"
            ]
          },
          "metadata": {},
          "execution_count": 2
        }
      ]
    },
    {
      "cell_type": "code",
      "metadata": {
        "id": "tpOjBV57Igyl"
      },
      "source": [
        "train_loader = torch.utils.data.DataLoader(\n",
        "  torchvision.datasets.MNIST('/content/sample_data', train=True, download=True,\n",
        "                             transform=torchvision.transforms.Compose([\n",
        "                               torchvision.transforms.ToTensor(),\n",
        "                               torchvision.transforms.Normalize(\n",
        "                                 (0.1307,), (0.3081,))\n",
        "                             ])),\n",
        "  batch_size=batch_size_train, shuffle=True)\n",
        "\n",
        "test_loader = torch.utils.data.DataLoader(\n",
        "  torchvision.datasets.MNIST('/content/sample_data', train=False, download=True,\n",
        "                             transform=torchvision.transforms.Compose([\n",
        "                               torchvision.transforms.ToTensor(),\n",
        "                               torchvision.transforms.Normalize(\n",
        "                                 (0.1307,), (0.3081,))\n",
        "                             ])),\n",
        "  batch_size=batch_size_test, shuffle=True)"
      ],
      "execution_count": null,
      "outputs": []
    },
    {
      "cell_type": "code",
      "metadata": {
        "id": "wN3W58FbKa-4"
      },
      "source": [
        "examples = enumerate(test_loader)\n",
        "batch_idx, (example_data, example_targets) = next(examples)"
      ],
      "execution_count": null,
      "outputs": []
    },
    {
      "cell_type": "code",
      "metadata": {
        "colab": {
          "base_uri": "https://localhost:8080/"
        },
        "id": "zt8HTy2bP3Iq",
        "outputId": "19892945-b809-4d51-858a-d30efbebb574"
      },
      "source": [
        "example_data.shape"
      ],
      "execution_count": null,
      "outputs": [
        {
          "output_type": "execute_result",
          "data": {
            "text/plain": [
              "torch.Size([1000, 1, 28, 28])"
            ]
          },
          "metadata": {},
          "execution_count": 5
        }
      ]
    },
    {
      "cell_type": "code",
      "metadata": {
        "colab": {
          "base_uri": "https://localhost:8080/"
        },
        "id": "zQxSMF-mP6ce",
        "outputId": "4c84d1b3-b0ba-4aec-a546-8adfb1a8903d"
      },
      "source": [
        "example_targets.shape"
      ],
      "execution_count": null,
      "outputs": [
        {
          "output_type": "execute_result",
          "data": {
            "text/plain": [
              "torch.Size([1000])"
            ]
          },
          "metadata": {},
          "execution_count": 6
        }
      ]
    },
    {
      "cell_type": "code",
      "metadata": {
        "colab": {
          "base_uri": "https://localhost:8080/",
          "height": 303
        },
        "id": "31Ga08IWQvOD",
        "outputId": "1fe56aca-43f1-4eb3-fac1-242e53c65b4a"
      },
      "source": [
        "import matplotlib.pyplot as plt\n",
        "fig = plt.figure()\n",
        "for i in range(8):\n",
        "\n",
        "  plt.subplot(4,4,i+1)\n",
        "  plt.imshow(example_data[i][0], cmap='gray')\n",
        "  plt.tight_layout()\n",
        "  plt.title(\"Value:{}\".format(example_targets[i]))\n",
        "  plt.xticks([])\n",
        "  plt.yticks([])\n",
        "fig\n"
      ],
      "execution_count": null,
      "outputs": [
        {
          "output_type": "execute_result",
          "data": {
            "image/png": "[encoded data removed]",
            "text/plain": [
              "<Figure size 432x288 with 8 Axes>"
            ]
          },
          "metadata": {},
          "execution_count": 7
        },
        {
          "output_type": "display_data",
          "data": {
            "image/png": "[encoded data removed]",
            "text/plain": [
              "<Figure size 432x288 with 8 Axes>"
            ]
          },
          "metadata": {}
        }
      ]
    },
    {
      "cell_type": "code",
      "metadata": {
        "id": "VKpjFHoCQ1CV"
      },
      "source": [
        "import torch.nn as nn\n",
        "import torch.nn.functional as F\n",
        "import torch.optim as optim"
      ],
      "execution_count": null,
      "outputs": []
    },
    {
      "cell_type": "code",
      "metadata": {
        "id": "-Qbb3ggHUcQl"
      },
      "source": [
        "class Net(nn.Module):\n",
        "    def __init__(self):\n",
        "        super(Net, self).__init__()\n",
        "        self.conv1 = nn.Conv2d(1, 10, kernel_size=5)\n",
        "        self.conv2 = nn.Conv2d(10, 20, kernel_size=5)\n",
        "        self.conv2_drop = nn.Dropout2d()\n",
        "        self.fc1 = nn.Linear(320, 50)\n",
        "        self.fc2 = nn.Linear(50, 10)\n",
        "\n",
        "    def forward(self, x):\n",
        "        x = F.relu(F.max_pool2d(self.conv1(x), 2))\n",
        "        x = F.relu(F.max_pool2d(self.conv2_drop(self.conv2(x)), 2))\n",
        "        x = x.view(-1, 320)\n",
        "        x = F.relu(self.fc1(x))\n",
        "        x = F.dropout(x, training=self.training)\n",
        "        x = self.fc2(x)\n",
        "        return F.log_softmax(x)"
      ],
      "execution_count": null,
      "outputs": []
    },
    {
      "cell_type": "code",
      "metadata": {
        "id": "PNxOlJU3Vh5-"
      },
      "source": [
        "train_losses = []\n",
        "train_counter = []\n",
        "test_losses = []\n",
        "test_counter = [i*len(train_loader.dataset) for i in range(n_epochs + 1)]"
      ],
      "execution_count": null,
      "outputs": []
    },
    {
      "cell_type": "code",
      "metadata": {
        "id": "obEwd1aSYMrs"
      },
      "source": [
        "network = Net()\n",
        "optimizer = optim.SGD(network.parameters(), lr=learning_rate,momentum=momentum)"
      ],
      "execution_count": null,
      "outputs": []
    },
    {
      "cell_type": "code",
      "metadata": {
        "colab": {
          "base_uri": "https://localhost:8080/"
        },
        "id": "1l6ZXzicYQ3L",
        "outputId": "3e8cd44a-056a-4c2c-fa50-c99030180c0f"
      },
      "source": [
        "network.train()"
      ],
      "execution_count": null,
      "outputs": [
        {
          "output_type": "execute_result",
          "data": {
            "text/plain": [
              "Net(\n",
              "  (conv1): Conv2d(1, 10, kernel_size=(5, 5), stride=(1, 1))\n",
              "  (conv2): Conv2d(10, 20, kernel_size=(5, 5), stride=(1, 1))\n",
              "  (conv2_drop): Dropout2d(p=0.5, inplace=False)\n",
              "  (fc1): Linear(in_features=320, out_features=50, bias=True)\n",
              "  (fc2): Linear(in_features=50, out_features=10, bias=True)\n",
              ")"
            ]
          },
          "metadata": {},
          "execution_count": 12
        }
      ]
    },
    {
      "cell_type": "code",
      "metadata": {
        "id": "ikkMy1nIYbXZ"
      },
      "source": [
        "train_losses = []\n",
        "train_counter = []\n",
        "test_losses = []\n",
        "test_counter = [i*len(train_loader.dataset) for i in range(n_epochs + 1)]"
      ],
      "execution_count": null,
      "outputs": []
    },
    {
      "cell_type": "code",
      "metadata": {
        "colab": {
          "base_uri": "https://localhost:8080/"
        },
        "id": "n6XbNwNvg0XP",
        "outputId": "1f48e03e-6687-4d32-a290-3edfd6811412"
      },
      "source": [
        "i*len(train_loader.dataset)"
      ],
      "execution_count": null,
      "outputs": [
        {
          "output_type": "execute_result",
          "data": {
            "text/plain": [
              "420000"
            ]
          },
          "metadata": {},
          "execution_count": 14
        }
      ]
    },
    {
      "cell_type": "code",
      "metadata": {
        "id": "y1uXGJNchIyJ"
      },
      "source": [
        "def train(epoch):\n",
        "  network.train()\n",
        "  for batch_idx, (data, target) in enumerate(train_loader):\n",
        "    optimizer.zero_grad()\n",
        "    output = network(data)\n",
        "    loss = F.nll_loss(output, target)\n",
        "    loss.backward()\n",
        "    optimizer.step()\n",
        "    if batch_idx % log_interval == 0:\n",
        "      print('Train Epoch: {} [{}/{} ({:.0f}%)]\\tLoss: {:.6f}'.format(\n",
        "        epoch, batch_idx * len(data), len(train_loader.dataset),\n",
        "        100. * batch_idx / len(train_loader), loss.item()))\n",
        "      train_losses.append(loss.item())\n",
        "      train_counter.append(\n",
        "        (batch_idx*64) + ((epoch-1)*len(train_loader.dataset)))\n",
        "      torch.save(network.state_dict(), '/content/drive/MyDrive/model.pth')\n",
        "      torch.save(optimizer.state_dict(), '/content/drive/MyDrive/optimizer.pth')"
      ],
      "execution_count": null,
      "outputs": []
    },
    {
      "cell_type": "code",
      "metadata": {
        "id": "hpO5vUychKro"
      },
      "source": [
        "def test():\n",
        "  network.eval()\n",
        "  test_loss = 0\n",
        "  correct = 0\n",
        "  with torch.no_grad():\n",
        "    for data, target in test_loader:\n",
        "      output = network(data)\n",
        "      test_loss += F.nll_loss(output, target, size_average=False).item()\n",
        "      pred = output.data.max(1, keepdim=True)[1]\n",
        "      correct += pred.eq(target.data.view_as(pred)).sum()\n",
        "  test_loss /= len(test_loader.dataset)\n",
        "  test_losses.append(test_loss)\n",
        "  print('\\nTest set: Avg. loss: {:.4f}, Accuracy: {}/{} ({:.0f}%)\\n'.format(\n",
        "    test_loss, correct, len(test_loader.dataset),\n",
        "    100. * correct / len(test_loader.dataset)))"
      ],
      "execution_count": null,
      "outputs": []
    },
    {
      "cell_type": "code",
      "metadata": {
        "colab": {
          "base_uri": "https://localhost:8080/"
        },
        "id": "D5fFhdbdiLmO",
        "outputId": "ef123280-6a09-4534-8bdf-d461609af535"
      },
      "source": [
        "test()\n",
        "for epoch in range(1, n_epochs + 1):\n",
        "  train(epoch)\n",
        "  test()"
      ],
      "execution_count": null,
      "outputs": [
        {
          "output_type": "stream",
          "name": "stderr",
          "text": [
            "/usr/local/lib/python3.7/dist-packages/ipykernel_launcher.py:17: UserWarning: Implicit dimension choice for log_softmax has been deprecated. Change the call to include dim=X as an argument.\n",
            "/usr/local/lib/python3.7/dist-packages/torch/nn/_reduction.py:42: UserWarning: size_average and reduce args will be deprecated, please use reduction='sum' instead.\n",
            "  warnings.warn(warning.format(ret))\n"
          ]
        },
        {
          "output_type": "stream",
          "name": "stdout",
          "text": [
            "\n",
            "Test set: Avg. loss: 2.3096, Accuracy: 924/10000 (9%)\n",
            "\n",
            "Train Epoch: 1 [0/60000 (0%)]\tLoss: 2.313179\n",
            "Train Epoch: 1 [640/60000 (1%)]\tLoss: 2.300776\n",
            "Train Epoch: 1 [1280/60000 (2%)]\tLoss: 2.298872\n",
            "Train Epoch: 1 [1920/60000 (3%)]\tLoss: 2.276723\n",
            "Train Epoch: 1 [2560/60000 (4%)]\tLoss: 2.241102\n",
            "Train Epoch: 1 [3200/60000 (5%)]\tLoss: 2.248662\n",
            "Train Epoch: 1 [3840/60000 (6%)]\tLoss: 2.189547\n",
            "Train Epoch: 1 [4480/60000 (7%)]\tLoss: 2.146399\n",
            "Train Epoch: 1 [5120/60000 (9%)]\tLoss: 2.107701\n",
            "Train Epoch: 1 [5760/60000 (10%)]\tLoss: 2.011356\n",
            "Train Epoch: 1 [6400/60000 (11%)]\tLoss: 1.843857\n",
            "Train Epoch: 1 [7040/60000 (12%)]\tLoss: 1.758839\n",
            "Train Epoch: 1 [7680/60000 (13%)]\tLoss: 1.672644\n",
            "Train Epoch: 1 [8320/60000 (14%)]\tLoss: 1.687645\n",
            "Train Epoch: 1 [8960/60000 (15%)]\tLoss: 1.426628\n",
            "Train Epoch: 1 [9600/60000 (16%)]\tLoss: 1.284204\n",
            "Train Epoch: 1 [10240/60000 (17%)]\tLoss: 1.318824\n",
            "Train Epoch: 1 [10880/60000 (18%)]\tLoss: 1.445287\n",
            "Train Epoch: 1 [11520/60000 (19%)]\tLoss: 1.140686\n",
            "Train Epoch: 1 [12160/60000 (20%)]\tLoss: 1.152914\n",
            "Train Epoch: 1 [12800/60000 (21%)]\tLoss: 1.054201\n",
            "Train Epoch: 1 [13440/60000 (22%)]\tLoss: 0.900051\n",
            "Train Epoch: 1 [14080/60000 (23%)]\tLoss: 1.192117\n",
            "Train Epoch: 1 [14720/60000 (25%)]\tLoss: 0.944672\n",
            "Train Epoch: 1 [15360/60000 (26%)]\tLoss: 0.883143\n",
            "Train Epoch: 1 [16000/60000 (27%)]\tLoss: 0.846327\n",
            "Train Epoch: 1 [16640/60000 (28%)]\tLoss: 0.773429\n",
            "Train Epoch: 1 [17280/60000 (29%)]\tLoss: 0.760332\n",
            "Train Epoch: 1 [17920/60000 (30%)]\tLoss: 0.813500\n",
            "Train Epoch: 1 [18560/60000 (31%)]\tLoss: 0.890023\n",
            "Train Epoch: 1 [19200/60000 (32%)]\tLoss: 0.797666\n",
            "Train Epoch: 1 [19840/60000 (33%)]\tLoss: 0.903690\n",
            "Train Epoch: 1 [20480/60000 (34%)]\tLoss: 0.582573\n",
            "Train Epoch: 1 [21120/60000 (35%)]\tLoss: 0.689915\n",
            "Train Epoch: 1 [21760/60000 (36%)]\tLoss: 0.625810\n",
            "Train Epoch: 1 [22400/60000 (37%)]\tLoss: 0.770786\n",
            "Train Epoch: 1 [23040/60000 (38%)]\tLoss: 0.730335\n",
            "Train Epoch: 1 [23680/60000 (39%)]\tLoss: 0.636302\n",
            "Train Epoch: 1 [24320/60000 (41%)]\tLoss: 0.662824\n",
            "Train Epoch: 1 [24960/60000 (42%)]\tLoss: 0.831556\n",
            "Train Epoch: 1 [25600/60000 (43%)]\tLoss: 0.855463\n",
            "Train Epoch: 1 [26240/60000 (44%)]\tLoss: 0.622609\n",
            "Train Epoch: 1 [26880/60000 (45%)]\tLoss: 0.622195\n",
            "Train Epoch: 1 [27520/60000 (46%)]\tLoss: 0.684112\n",
            "Train Epoch: 1 [28160/60000 (47%)]\tLoss: 0.591477\n",
            "Train Epoch: 1 [28800/60000 (48%)]\tLoss: 0.548008\n",
            "Train Epoch: 1 [29440/60000 (49%)]\tLoss: 0.817349\n",
            "Train Epoch: 1 [30080/60000 (50%)]\tLoss: 0.740777\n",
            "Train Epoch: 1 [30720/60000 (51%)]\tLoss: 0.629410\n",
            "Train Epoch: 1 [31360/60000 (52%)]\tLoss: 0.647893\n",
            "Train Epoch: 1 [32000/60000 (53%)]\tLoss: 0.718166\n",
            "Train Epoch: 1 [32640/60000 (54%)]\tLoss: 0.442519\n",
            "Train Epoch: 1 [33280/60000 (55%)]\tLoss: 0.588815\n",
            "Train Epoch: 1 [33920/60000 (57%)]\tLoss: 0.574275\n",
            "Train Epoch: 1 [34560/60000 (58%)]\tLoss: 0.662193\n",
            "Train Epoch: 1 [35200/60000 (59%)]\tLoss: 0.581378\n",
            "Train Epoch: 1 [35840/60000 (60%)]\tLoss: 0.552965\n",
            "Train Epoch: 1 [36480/60000 (61%)]\tLoss: 0.629548\n",
            "Train Epoch: 1 [37120/60000 (62%)]\tLoss: 0.806323\n",
            "Train Epoch: 1 [37760/60000 (63%)]\tLoss: 0.570483\n",
            "Train Epoch: 1 [38400/60000 (64%)]\tLoss: 0.630249\n",
            "Train Epoch: 1 [39040/60000 (65%)]\tLoss: 0.533901\n",
            "Train Epoch: 1 [39680/60000 (66%)]\tLoss: 0.606014\n",
            "Train Epoch: 1 [40320/60000 (67%)]\tLoss: 0.313529\n",
            "Train Epoch: 1 [40960/60000 (68%)]\tLoss: 0.341635\n",
            "Train Epoch: 1 [41600/60000 (69%)]\tLoss: 0.372991\n",
            "Train Epoch: 1 [42240/60000 (70%)]\tLoss: 0.304391\n",
            "Train Epoch: 1 [42880/60000 (71%)]\tLoss: 0.410402\n",
            "Train Epoch: 1 [43520/60000 (72%)]\tLoss: 0.433411\n",
            "Train Epoch: 1 [44160/60000 (74%)]\tLoss: 0.463309\n",
            "Train Epoch: 1 [44800/60000 (75%)]\tLoss: 0.622023\n",
            "Train Epoch: 1 [45440/60000 (76%)]\tLoss: 0.532741\n",
            "Train Epoch: 1 [46080/60000 (77%)]\tLoss: 0.513102\n",
            "Train Epoch: 1 [46720/60000 (78%)]\tLoss: 0.379147\n",
            "Train Epoch: 1 [47360/60000 (79%)]\tLoss: 0.494450\n",
            "Train Epoch: 1 [48000/60000 (80%)]\tLoss: 0.552965\n",
            "Train Epoch: 1 [48640/60000 (81%)]\tLoss: 0.411835\n",
            "Train Epoch: 1 [49280/60000 (82%)]\tLoss: 0.386074\n",
            "Train Epoch: 1 [49920/60000 (83%)]\tLoss: 0.529180\n",
            "Train Epoch: 1 [50560/60000 (84%)]\tLoss: 0.429499\n",
            "Train Epoch: 1 [51200/60000 (85%)]\tLoss: 0.698326\n",
            "Train Epoch: 1 [51840/60000 (86%)]\tLoss: 0.501268\n",
            "Train Epoch: 1 [52480/60000 (87%)]\tLoss: 0.687830\n",
            "Train Epoch: 1 [53120/60000 (88%)]\tLoss: 0.542044\n",
            "Train Epoch: 1 [53760/60000 (90%)]\tLoss: 0.554924\n",
            "Train Epoch: 1 [54400/60000 (91%)]\tLoss: 0.627658\n",
            "Train Epoch: 1 [55040/60000 (92%)]\tLoss: 0.448396\n",
            "Train Epoch: 1 [55680/60000 (93%)]\tLoss: 0.552543\n",
            "Train Epoch: 1 [56320/60000 (94%)]\tLoss: 0.539645\n",
            "Train Epoch: 1 [56960/60000 (95%)]\tLoss: 0.358408\n",
            "Train Epoch: 1 [57600/60000 (96%)]\tLoss: 0.315748\n",
            "Train Epoch: 1 [58240/60000 (97%)]\tLoss: 0.295583\n",
            "Train Epoch: 1 [58880/60000 (98%)]\tLoss: 0.714280\n",
            "Train Epoch: 1 [59520/60000 (99%)]\tLoss: 0.385003\n",
            "\n",
            "Test set: Avg. loss: 0.1857, Accuracy: 9442/10000 (94%)\n",
            "\n",
            "Train Epoch: 2 [0/60000 (0%)]\tLoss: 0.445344\n",
            "Train Epoch: 2 [640/60000 (1%)]\tLoss: 0.455124\n",
            "Train Epoch: 2 [1280/60000 (2%)]\tLoss: 0.508557\n",
            "Train Epoch: 2 [1920/60000 (3%)]\tLoss: 0.514944\n",
            "Train Epoch: 2 [2560/60000 (4%)]\tLoss: 0.307130\n",
            "Train Epoch: 2 [3200/60000 (5%)]\tLoss: 0.166827\n",
            "Train Epoch: 2 [3840/60000 (6%)]\tLoss: 0.481948\n",
            "Train Epoch: 2 [4480/60000 (7%)]\tLoss: 0.411174\n",
            "Train Epoch: 2 [5120/60000 (9%)]\tLoss: 0.386628\n",
            "Train Epoch: 2 [5760/60000 (10%)]\tLoss: 0.654901\n",
            "Train Epoch: 2 [6400/60000 (11%)]\tLoss: 0.567060\n",
            "Train Epoch: 2 [7040/60000 (12%)]\tLoss: 0.302395\n",
            "Train Epoch: 2 [7680/60000 (13%)]\tLoss: 0.435403\n",
            "Train Epoch: 2 [8320/60000 (14%)]\tLoss: 0.637166\n",
            "Train Epoch: 2 [8960/60000 (15%)]\tLoss: 0.480222\n",
            "Train Epoch: 2 [9600/60000 (16%)]\tLoss: 0.443356\n",
            "Train Epoch: 2 [10240/60000 (17%)]\tLoss: 0.309409\n",
            "Train Epoch: 2 [10880/60000 (18%)]\tLoss: 0.513726\n",
            "Train Epoch: 2 [11520/60000 (19%)]\tLoss: 0.335656\n",
            "Train Epoch: 2 [12160/60000 (20%)]\tLoss: 0.318909\n",
            "Train Epoch: 2 [12800/60000 (21%)]\tLoss: 0.482202\n",
            "Train Epoch: 2 [13440/60000 (22%)]\tLoss: 0.452299\n",
            "Train Epoch: 2 [14080/60000 (23%)]\tLoss: 0.488675\n",
            "Train Epoch: 2 [14720/60000 (25%)]\tLoss: 0.357645\n",
            "Train Epoch: 2 [15360/60000 (26%)]\tLoss: 0.203631\n",
            "Train Epoch: 2 [16000/60000 (27%)]\tLoss: 0.245364\n",
            "Train Epoch: 2 [16640/60000 (28%)]\tLoss: 0.370612\n",
            "Train Epoch: 2 [17280/60000 (29%)]\tLoss: 0.422542\n",
            "Train Epoch: 2 [17920/60000 (30%)]\tLoss: 0.330127\n",
            "Train Epoch: 2 [18560/60000 (31%)]\tLoss: 0.338271\n",
            "Train Epoch: 2 [19200/60000 (32%)]\tLoss: 0.490632\n",
            "Train Epoch: 2 [19840/60000 (33%)]\tLoss: 0.343428\n",
            "Train Epoch: 2 [20480/60000 (34%)]\tLoss: 0.365342\n",
            "Train Epoch: 2 [21120/60000 (35%)]\tLoss: 0.354085\n",
            "Train Epoch: 2 [21760/60000 (36%)]\tLoss: 0.495023\n",
            "Train Epoch: 2 [22400/60000 (37%)]\tLoss: 0.615366\n",
            "Train Epoch: 2 [23040/60000 (38%)]\tLoss: 0.502250\n",
            "Train Epoch: 2 [23680/60000 (39%)]\tLoss: 0.346734\n",
            "Train Epoch: 2 [24320/60000 (41%)]\tLoss: 0.402678\n",
            "Train Epoch: 2 [24960/60000 (42%)]\tLoss: 0.214695\n",
            "Train Epoch: 2 [25600/60000 (43%)]\tLoss: 0.202890\n",
            "Train Epoch: 2 [26240/60000 (44%)]\tLoss: 0.382362\n",
            "Train Epoch: 2 [26880/60000 (45%)]\tLoss: 0.289023\n",
            "Train Epoch: 2 [27520/60000 (46%)]\tLoss: 0.220916\n",
            "Train Epoch: 2 [28160/60000 (47%)]\tLoss: 0.170391\n",
            "Train Epoch: 2 [28800/60000 (48%)]\tLoss: 0.256910\n",
            "Train Epoch: 2 [29440/60000 (49%)]\tLoss: 0.534618\n",
            "Train Epoch: 2 [30080/60000 (50%)]\tLoss: 0.300058\n",
            "Train Epoch: 2 [30720/60000 (51%)]\tLoss: 0.315085\n",
            "Train Epoch: 2 [31360/60000 (52%)]\tLoss: 0.440820\n",
            "Train Epoch: 2 [32000/60000 (53%)]\tLoss: 0.675981\n",
            "Train Epoch: 2 [32640/60000 (54%)]\tLoss: 0.297427\n",
            "Train Epoch: 2 [33280/60000 (55%)]\tLoss: 0.274006\n",
            "Train Epoch: 2 [33920/60000 (57%)]\tLoss: 0.438711\n",
            "Train Epoch: 2 [34560/60000 (58%)]\tLoss: 0.401921\n",
            "Train Epoch: 2 [35200/60000 (59%)]\tLoss: 0.444080\n",
            "Train Epoch: 2 [35840/60000 (60%)]\tLoss: 0.458008\n",
            "Train Epoch: 2 [36480/60000 (61%)]\tLoss: 0.346627\n",
            "Train Epoch: 2 [37120/60000 (62%)]\tLoss: 0.484574\n",
            "Train Epoch: 2 [37760/60000 (63%)]\tLoss: 0.433633\n",
            "Train Epoch: 2 [38400/60000 (64%)]\tLoss: 0.282992\n",
            "Train Epoch: 2 [39040/60000 (65%)]\tLoss: 0.200426\n",
            "Train Epoch: 2 [39680/60000 (66%)]\tLoss: 0.424679\n",
            "Train Epoch: 2 [40320/60000 (67%)]\tLoss: 0.190963\n",
            "Train Epoch: 2 [40960/60000 (68%)]\tLoss: 0.494524\n",
            "Train Epoch: 2 [41600/60000 (69%)]\tLoss: 0.148114\n",
            "Train Epoch: 2 [42240/60000 (70%)]\tLoss: 0.344336\n",
            "Train Epoch: 2 [42880/60000 (71%)]\tLoss: 0.471291\n",
            "Train Epoch: 2 [43520/60000 (72%)]\tLoss: 0.278837\n",
            "Train Epoch: 2 [44160/60000 (74%)]\tLoss: 0.382210\n",
            "Train Epoch: 2 [44800/60000 (75%)]\tLoss: 0.236313\n",
            "Train Epoch: 2 [45440/60000 (76%)]\tLoss: 0.504887\n",
            "Train Epoch: 2 [46080/60000 (77%)]\tLoss: 0.286785\n",
            "Train Epoch: 2 [46720/60000 (78%)]\tLoss: 0.283889\n",
            "Train Epoch: 2 [47360/60000 (79%)]\tLoss: 0.203719\n",
            "Train Epoch: 2 [48000/60000 (80%)]\tLoss: 0.258618\n",
            "Train Epoch: 2 [48640/60000 (81%)]\tLoss: 0.358589\n",
            "Train Epoch: 2 [49280/60000 (82%)]\tLoss: 0.450872\n",
            "Train Epoch: 2 [49920/60000 (83%)]\tLoss: 0.272140\n",
            "Train Epoch: 2 [50560/60000 (84%)]\tLoss: 0.321347\n",
            "Train Epoch: 2 [51200/60000 (85%)]\tLoss: 0.453915\n",
            "Train Epoch: 2 [51840/60000 (86%)]\tLoss: 0.309002\n",
            "Train Epoch: 2 [52480/60000 (87%)]\tLoss: 0.339482\n",
            "Train Epoch: 2 [53120/60000 (88%)]\tLoss: 0.252962\n",
            "Train Epoch: 2 [53760/60000 (90%)]\tLoss: 0.242382\n",
            "Train Epoch: 2 [54400/60000 (91%)]\tLoss: 0.198718\n",
            "Train Epoch: 2 [55040/60000 (92%)]\tLoss: 0.478653\n",
            "Train Epoch: 2 [55680/60000 (93%)]\tLoss: 0.199949\n",
            "Train Epoch: 2 [56320/60000 (94%)]\tLoss: 0.368458\n",
            "Train Epoch: 2 [56960/60000 (95%)]\tLoss: 0.211159\n",
            "Train Epoch: 2 [57600/60000 (96%)]\tLoss: 0.559213\n",
            "Train Epoch: 2 [58240/60000 (97%)]\tLoss: 0.488294\n",
            "Train Epoch: 2 [58880/60000 (98%)]\tLoss: 0.265739\n",
            "Train Epoch: 2 [59520/60000 (99%)]\tLoss: 0.284357\n",
            "\n",
            "Test set: Avg. loss: 0.1157, Accuracy: 9632/10000 (96%)\n",
            "\n",
            "Train Epoch: 3 [0/60000 (0%)]\tLoss: 0.205960\n",
            "Train Epoch: 3 [640/60000 (1%)]\tLoss: 0.244732\n",
            "Train Epoch: 3 [1280/60000 (2%)]\tLoss: 0.371951\n",
            "Train Epoch: 3 [1920/60000 (3%)]\tLoss: 0.253303\n",
            "Train Epoch: 3 [2560/60000 (4%)]\tLoss: 0.264647\n",
            "Train Epoch: 3 [3200/60000 (5%)]\tLoss: 0.322023\n",
            "Train Epoch: 3 [3840/60000 (6%)]\tLoss: 0.286778\n",
            "Train Epoch: 3 [4480/60000 (7%)]\tLoss: 0.468658\n",
            "Train Epoch: 3 [5120/60000 (9%)]\tLoss: 0.496530\n",
            "Train Epoch: 3 [5760/60000 (10%)]\tLoss: 0.404284\n",
            "Train Epoch: 3 [6400/60000 (11%)]\tLoss: 0.309139\n",
            "Train Epoch: 3 [7040/60000 (12%)]\tLoss: 0.339248\n",
            "Train Epoch: 3 [7680/60000 (13%)]\tLoss: 0.246931\n",
            "Train Epoch: 3 [8320/60000 (14%)]\tLoss: 0.165825\n",
            "Train Epoch: 3 [8960/60000 (15%)]\tLoss: 0.260806\n",
            "Train Epoch: 3 [9600/60000 (16%)]\tLoss: 0.241020\n",
            "Train Epoch: 3 [10240/60000 (17%)]\tLoss: 0.277869\n",
            "Train Epoch: 3 [10880/60000 (18%)]\tLoss: 0.308188\n",
            "Train Epoch: 3 [11520/60000 (19%)]\tLoss: 0.452685\n",
            "Train Epoch: 3 [12160/60000 (20%)]\tLoss: 0.217459\n",
            "Train Epoch: 3 [12800/60000 (21%)]\tLoss: 0.437751\n",
            "Train Epoch: 3 [13440/60000 (22%)]\tLoss: 0.324587\n",
            "Train Epoch: 3 [14080/60000 (23%)]\tLoss: 0.363604\n",
            "Train Epoch: 3 [14720/60000 (25%)]\tLoss: 0.321697\n",
            "Train Epoch: 3 [15360/60000 (26%)]\tLoss: 0.313999\n",
            "Train Epoch: 3 [16000/60000 (27%)]\tLoss: 0.793556\n",
            "Train Epoch: 3 [16640/60000 (28%)]\tLoss: 0.541063\n",
            "Train Epoch: 3 [17280/60000 (29%)]\tLoss: 0.452134\n",
            "Train Epoch: 3 [17920/60000 (30%)]\tLoss: 0.313926\n",
            "Train Epoch: 3 [18560/60000 (31%)]\tLoss: 0.294718\n",
            "Train Epoch: 3 [19200/60000 (32%)]\tLoss: 0.348768\n",
            "Train Epoch: 3 [19840/60000 (33%)]\tLoss: 0.376377\n",
            "Train Epoch: 3 [20480/60000 (34%)]\tLoss: 0.193123\n",
            "Train Epoch: 3 [21120/60000 (35%)]\tLoss: 0.178910\n",
            "Train Epoch: 3 [21760/60000 (36%)]\tLoss: 0.350775\n",
            "Train Epoch: 3 [22400/60000 (37%)]\tLoss: 0.230362\n",
            "Train Epoch: 3 [23040/60000 (38%)]\tLoss: 0.450118\n",
            "Train Epoch: 3 [23680/60000 (39%)]\tLoss: 0.230771\n",
            "Train Epoch: 3 [24320/60000 (41%)]\tLoss: 0.256819\n",
            "Train Epoch: 3 [24960/60000 (42%)]\tLoss: 0.167242\n",
            "Train Epoch: 3 [25600/60000 (43%)]\tLoss: 0.422827\n",
            "Train Epoch: 3 [26240/60000 (44%)]\tLoss: 0.202544\n",
            "Train Epoch: 3 [26880/60000 (45%)]\tLoss: 0.207036\n",
            "Train Epoch: 3 [27520/60000 (46%)]\tLoss: 0.202865\n",
            "Train Epoch: 3 [28160/60000 (47%)]\tLoss: 0.327835\n",
            "Train Epoch: 3 [28800/60000 (48%)]\tLoss: 0.493131\n",
            "Train Epoch: 3 [29440/60000 (49%)]\tLoss: 0.167332\n",
            "Train Epoch: 3 [30080/60000 (50%)]\tLoss: 0.275360\n",
            "Train Epoch: 3 [30720/60000 (51%)]\tLoss: 0.237743\n",
            "Train Epoch: 3 [31360/60000 (52%)]\tLoss: 0.218859\n",
            "Train Epoch: 3 [32000/60000 (53%)]\tLoss: 0.451771\n",
            "Train Epoch: 3 [32640/60000 (54%)]\tLoss: 0.342987\n",
            "Train Epoch: 3 [33280/60000 (55%)]\tLoss: 0.167801\n",
            "Train Epoch: 3 [33920/60000 (57%)]\tLoss: 0.464847\n",
            "Train Epoch: 3 [34560/60000 (58%)]\tLoss: 0.254893\n",
            "Train Epoch: 3 [35200/60000 (59%)]\tLoss: 0.334374\n",
            "Train Epoch: 3 [35840/60000 (60%)]\tLoss: 0.475630\n",
            "Train Epoch: 3 [36480/60000 (61%)]\tLoss: 0.188253\n",
            "Train Epoch: 3 [37120/60000 (62%)]\tLoss: 0.218118\n",
            "Train Epoch: 3 [37760/60000 (63%)]\tLoss: 0.318144\n",
            "Train Epoch: 3 [38400/60000 (64%)]\tLoss: 0.448853\n",
            "Train Epoch: 3 [39040/60000 (65%)]\tLoss: 0.380965\n",
            "Train Epoch: 3 [39680/60000 (66%)]\tLoss: 0.202557\n",
            "Train Epoch: 3 [40320/60000 (67%)]\tLoss: 0.236374\n",
            "Train Epoch: 3 [40960/60000 (68%)]\tLoss: 0.439942\n",
            "Train Epoch: 3 [41600/60000 (69%)]\tLoss: 0.330638\n",
            "Train Epoch: 3 [42240/60000 (70%)]\tLoss: 0.390288\n",
            "Train Epoch: 3 [42880/60000 (71%)]\tLoss: 0.176645\n",
            "Train Epoch: 3 [43520/60000 (72%)]\tLoss: 0.240420\n",
            "Train Epoch: 3 [44160/60000 (74%)]\tLoss: 0.306952\n",
            "Train Epoch: 3 [44800/60000 (75%)]\tLoss: 0.174513\n",
            "Train Epoch: 3 [45440/60000 (76%)]\tLoss: 0.244105\n",
            "Train Epoch: 3 [46080/60000 (77%)]\tLoss: 0.352610\n",
            "Train Epoch: 3 [46720/60000 (78%)]\tLoss: 0.199201\n",
            "Train Epoch: 3 [47360/60000 (79%)]\tLoss: 0.374064\n",
            "Train Epoch: 3 [48000/60000 (80%)]\tLoss: 0.339176\n",
            "Train Epoch: 3 [48640/60000 (81%)]\tLoss: 0.216112\n",
            "Train Epoch: 3 [49280/60000 (82%)]\tLoss: 0.218680\n",
            "Train Epoch: 3 [49920/60000 (83%)]\tLoss: 0.498825\n",
            "Train Epoch: 3 [50560/60000 (84%)]\tLoss: 0.423273\n",
            "Train Epoch: 3 [51200/60000 (85%)]\tLoss: 0.423997\n",
            "Train Epoch: 3 [51840/60000 (86%)]\tLoss: 0.241895\n",
            "Train Epoch: 3 [52480/60000 (87%)]\tLoss: 0.481473\n",
            "Train Epoch: 3 [53120/60000 (88%)]\tLoss: 0.221739\n",
            "Train Epoch: 3 [53760/60000 (90%)]\tLoss: 0.182102\n",
            "Train Epoch: 3 [54400/60000 (91%)]\tLoss: 0.393156\n",
            "Train Epoch: 3 [55040/60000 (92%)]\tLoss: 0.289855\n",
            "Train Epoch: 3 [55680/60000 (93%)]\tLoss: 0.180332\n",
            "Train Epoch: 3 [56320/60000 (94%)]\tLoss: 0.292162\n",
            "Train Epoch: 3 [56960/60000 (95%)]\tLoss: 0.344608\n",
            "Train Epoch: 3 [57600/60000 (96%)]\tLoss: 0.538004\n",
            "Train Epoch: 3 [58240/60000 (97%)]\tLoss: 0.371207\n",
            "Train Epoch: 3 [58880/60000 (98%)]\tLoss: 0.113231\n",
            "Train Epoch: 3 [59520/60000 (99%)]\tLoss: 0.318176\n",
            "\n",
            "Test set: Avg. loss: 0.1001, Accuracy: 9684/10000 (97%)\n",
            "\n"
          ]
        }
      ]
    },
    {
      "cell_type": "code",
      "metadata": {
        "colab": {
          "base_uri": "https://localhost:8080/",
          "height": 541
        },
        "id": "K8t_LKfniOXw",
        "outputId": "d81b76b4-b71c-4fd6-8102-90c80b80e820"
      },
      "source": [
        "fig = plt.figure()\n",
        "plt.plot(train_counter, train_losses, color='blue')\n",
        "plt.scatter(test_counter, test_losses, color='red')\n",
        "plt.legend(['Train Loss', 'Test Loss'], loc='upper right')\n",
        "plt.xlabel('number of training examples seen')\n",
        "plt.ylabel('negative log likelihood loss')\n",
        "fig"
      ],
      "execution_count": null,
      "outputs": [
        {
          "output_type": "execute_result",
          "data": {
            "image/png": "[encoded data removed]",
            "text/plain": [
              "<Figure size 432x288 with 1 Axes>"
            ]
          },
          "metadata": {},
          "execution_count": 18
        },
        {
          "output_type": "display_data",
          "data": {
            "image/png": "[encoded data removed]",
            "text/plain": [
              "<Figure size 432x288 with 1 Axes>"
            ]
          },
          "metadata": {
            "needs_background": "light"
          }
        }
      ]
    },
    {
      "cell_type": "code",
      "metadata": {
        "colab": {
          "base_uri": "https://localhost:8080/"
        },
        "id": "kcchKsySi2A6",
        "outputId": "d26c1a5c-81af-4093-bb27-a2c36615db32"
      },
      "source": [
        "with torch.no_grad():\n",
        "  output = network(example_data)"
      ],
      "execution_count": null,
      "outputs": [
        {
          "output_type": "stream",
          "name": "stderr",
          "text": [
            "/usr/local/lib/python3.7/dist-packages/ipykernel_launcher.py:17: UserWarning: Implicit dimension choice for log_softmax has been deprecated. Change the call to include dim=X as an argument.\n"
          ]
        }
      ]
    },
    {
      "cell_type": "code",
      "metadata": {
        "colab": {
          "base_uri": "https://localhost:8080/",
          "height": 303
        },
        "id": "cDjDmWCGj3BP",
        "outputId": "3075e673-9c68-4ae5-9c91-56ed7963775d"
      },
      "source": [
        "fig = plt.figure()\n",
        "for i in range(6):\n",
        "  plt.subplot(4,4,i+1)\n",
        "  plt.tight_layout()\n",
        "  plt.imshow(example_data[i][0], cmap='gray', interpolation='none')\n",
        "  plt.title(\"Prediction: {}\".format(\n",
        "    output.data.max(1, keepdim=True)[1][i].item()))\n",
        "  plt.xticks([])\n",
        "  plt.yticks([])\n",
        "fig"
      ],
      "execution_count": null,
      "outputs": [
        {
          "output_type": "execute_result",
          "data": {
            "image/png": "[encoded data removed]",
            "text/plain": [
              "<Figure size 432x288 with 6 Axes>"
            ]
          },
          "metadata": {},
          "execution_count": 22
        },
        {
          "output_type": "display_data",
          "data": {
            "image/png": "[encoded data removed]",
            "text/plain": [
              "<Figure size 432x288 with 6 Axes>"
            ]
          },
          "metadata": {}
        }
      ]
    },
    {
      "cell_type": "code",
      "metadata": {
        "id": "ZpeWPRtPkCie"
      },
      "source": [
        "continued_network = Net()\n",
        "continued_optimizer = optim.SGD(network.parameters(), lr=learning_rate,\n",
        "                                momentum=momentum)"
      ],
      "execution_count": null,
      "outputs": []
    },
    {
      "cell_type": "code",
      "metadata": {
        "id": "2fdyXMimkRBh"
      },
      "source": [
        "network_state_dict = torch.load(\"/content/drive/MyDrive/model.pth\")\n",
        "continued_network.load_state_dict(network_state_dict)\n",
        "\n",
        "optimizer_state_dict = torch.load(\"/content/drive/MyDrive/optimizer.pth\")\n",
        "continued_optimizer.load_state_dict(optimizer_state_dict)"
      ],
      "execution_count": null,
      "outputs": []
    },
    {
      "cell_type": "code",
      "metadata": {
        "colab": {
          "base_uri": "https://localhost:8080/"
        },
        "id": "S0Xa4j9YkTx7",
        "outputId": "c26edfed-b401-46fa-82a8-f71ab56b54e4"
      },
      "source": [
        "for i in range(4,9):\n",
        "  test_counter.append(i*len(train_loader.dataset))\n",
        "  train(i)\n",
        "  test()"
      ],
      "execution_count": null,
      "outputs": [
        {
          "output_type": "stream",
          "name": "stderr",
          "text": [
            "/usr/local/lib/python3.7/dist-packages/ipykernel_launcher.py:17: UserWarning: Implicit dimension choice for log_softmax has been deprecated. Change the call to include dim=X as an argument.\n"
          ]
        },
        {
          "output_type": "stream",
          "name": "stdout",
          "text": [
            "Train Epoch: 4 [0/60000 (0%)]\tLoss: 0.193870\n",
            "Train Epoch: 4 [640/60000 (1%)]\tLoss: 0.350293\n",
            "Train Epoch: 4 [1280/60000 (2%)]\tLoss: 0.345463\n",
            "Train Epoch: 4 [1920/60000 (3%)]\tLoss: 0.382270\n",
            "Train Epoch: 4 [2560/60000 (4%)]\tLoss: 0.484871\n",
            "Train Epoch: 4 [3200/60000 (5%)]\tLoss: 0.130094\n",
            "Train Epoch: 4 [3840/60000 (6%)]\tLoss: 0.284531\n",
            "Train Epoch: 4 [4480/60000 (7%)]\tLoss: 0.345563\n",
            "Train Epoch: 4 [5120/60000 (9%)]\tLoss: 0.156488\n",
            "Train Epoch: 4 [5760/60000 (10%)]\tLoss: 0.210286\n",
            "Train Epoch: 4 [6400/60000 (11%)]\tLoss: 0.162580\n",
            "Train Epoch: 4 [7040/60000 (12%)]\tLoss: 0.146145\n",
            "Train Epoch: 4 [7680/60000 (13%)]\tLoss: 0.227633\n",
            "Train Epoch: 4 [8320/60000 (14%)]\tLoss: 0.398662\n",
            "Train Epoch: 4 [8960/60000 (15%)]\tLoss: 0.426623\n",
            "Train Epoch: 4 [9600/60000 (16%)]\tLoss: 0.159059\n",
            "Train Epoch: 4 [10240/60000 (17%)]\tLoss: 0.143804\n",
            "Train Epoch: 4 [10880/60000 (18%)]\tLoss: 0.455427\n",
            "Train Epoch: 4 [11520/60000 (19%)]\tLoss: 0.139590\n",
            "Train Epoch: 4 [12160/60000 (20%)]\tLoss: 0.228756\n",
            "Train Epoch: 4 [12800/60000 (21%)]\tLoss: 0.317130\n",
            "Train Epoch: 4 [13440/60000 (22%)]\tLoss: 0.269524\n",
            "Train Epoch: 4 [14080/60000 (23%)]\tLoss: 0.310885\n",
            "Train Epoch: 4 [14720/60000 (25%)]\tLoss: 0.311818\n",
            "Train Epoch: 4 [15360/60000 (26%)]\tLoss: 0.144470\n",
            "Train Epoch: 4 [16000/60000 (27%)]\tLoss: 0.144274\n",
            "Train Epoch: 4 [16640/60000 (28%)]\tLoss: 0.192895\n",
            "Train Epoch: 4 [17280/60000 (29%)]\tLoss: 0.225910\n",
            "Train Epoch: 4 [17920/60000 (30%)]\tLoss: 0.382660\n",
            "Train Epoch: 4 [18560/60000 (31%)]\tLoss: 0.289267\n",
            "Train Epoch: 4 [19200/60000 (32%)]\tLoss: 0.328587\n",
            "Train Epoch: 4 [19840/60000 (33%)]\tLoss: 0.418652\n",
            "Train Epoch: 4 [20480/60000 (34%)]\tLoss: 0.200604\n",
            "Train Epoch: 4 [21120/60000 (35%)]\tLoss: 0.339594\n",
            "Train Epoch: 4 [21760/60000 (36%)]\tLoss: 0.053458\n",
            "Train Epoch: 4 [22400/60000 (37%)]\tLoss: 0.233413\n",
            "Train Epoch: 4 [23040/60000 (38%)]\tLoss: 0.319669\n",
            "Train Epoch: 4 [23680/60000 (39%)]\tLoss: 0.292870\n",
            "Train Epoch: 4 [24320/60000 (41%)]\tLoss: 0.170349\n",
            "Train Epoch: 4 [24960/60000 (42%)]\tLoss: 0.156746\n",
            "Train Epoch: 4 [25600/60000 (43%)]\tLoss: 0.395526\n",
            "Train Epoch: 4 [26240/60000 (44%)]\tLoss: 0.207120\n",
            "Train Epoch: 4 [26880/60000 (45%)]\tLoss: 0.370816\n",
            "Train Epoch: 4 [27520/60000 (46%)]\tLoss: 0.150127\n",
            "Train Epoch: 4 [28160/60000 (47%)]\tLoss: 0.331426\n",
            "Train Epoch: 4 [28800/60000 (48%)]\tLoss: 0.241148\n",
            "Train Epoch: 4 [29440/60000 (49%)]\tLoss: 0.207313\n",
            "Train Epoch: 4 [30080/60000 (50%)]\tLoss: 0.153248\n",
            "Train Epoch: 4 [30720/60000 (51%)]\tLoss: 0.207708\n",
            "Train Epoch: 4 [31360/60000 (52%)]\tLoss: 0.123241\n",
            "Train Epoch: 4 [32000/60000 (53%)]\tLoss: 0.234628\n",
            "Train Epoch: 4 [32640/60000 (54%)]\tLoss: 0.292953\n",
            "Train Epoch: 4 [33280/60000 (55%)]\tLoss: 0.216840\n",
            "Train Epoch: 4 [33920/60000 (57%)]\tLoss: 0.397720\n",
            "Train Epoch: 4 [34560/60000 (58%)]\tLoss: 0.237660\n",
            "Train Epoch: 4 [35200/60000 (59%)]\tLoss: 0.124300\n",
            "Train Epoch: 4 [35840/60000 (60%)]\tLoss: 0.271399\n",
            "Train Epoch: 4 [36480/60000 (61%)]\tLoss: 0.160687\n",
            "Train Epoch: 4 [37120/60000 (62%)]\tLoss: 0.193987\n",
            "Train Epoch: 4 [37760/60000 (63%)]\tLoss: 0.294066\n",
            "Train Epoch: 4 [38400/60000 (64%)]\tLoss: 0.172259\n",
            "Train Epoch: 4 [39040/60000 (65%)]\tLoss: 0.121870\n",
            "Train Epoch: 4 [39680/60000 (66%)]\tLoss: 0.187706\n",
            "Train Epoch: 4 [40320/60000 (67%)]\tLoss: 0.331187\n",
            "Train Epoch: 4 [40960/60000 (68%)]\tLoss: 0.231493\n",
            "Train Epoch: 4 [41600/60000 (69%)]\tLoss: 0.138124\n",
            "Train Epoch: 4 [42240/60000 (70%)]\tLoss: 0.291790\n",
            "Train Epoch: 4 [42880/60000 (71%)]\tLoss: 0.265963\n",
            "Train Epoch: 4 [43520/60000 (72%)]\tLoss: 0.273789\n",
            "Train Epoch: 4 [44160/60000 (74%)]\tLoss: 0.320373\n",
            "Train Epoch: 4 [44800/60000 (75%)]\tLoss: 0.278898\n",
            "Train Epoch: 4 [45440/60000 (76%)]\tLoss: 0.238819\n",
            "Train Epoch: 4 [46080/60000 (77%)]\tLoss: 0.187186\n",
            "Train Epoch: 4 [46720/60000 (78%)]\tLoss: 0.315646\n",
            "Train Epoch: 4 [47360/60000 (79%)]\tLoss: 0.137182\n",
            "Train Epoch: 4 [48000/60000 (80%)]\tLoss: 0.274992\n",
            "Train Epoch: 4 [48640/60000 (81%)]\tLoss: 0.385406\n",
            "Train Epoch: 4 [49280/60000 (82%)]\tLoss: 0.159738\n",
            "Train Epoch: 4 [49920/60000 (83%)]\tLoss: 0.324776\n",
            "Train Epoch: 4 [50560/60000 (84%)]\tLoss: 0.202142\n",
            "Train Epoch: 4 [51200/60000 (85%)]\tLoss: 0.378409\n",
            "Train Epoch: 4 [51840/60000 (86%)]\tLoss: 0.253627\n",
            "Train Epoch: 4 [52480/60000 (87%)]\tLoss: 0.167753\n",
            "Train Epoch: 4 [53120/60000 (88%)]\tLoss: 0.278438\n",
            "Train Epoch: 4 [53760/60000 (90%)]\tLoss: 0.288777\n",
            "Train Epoch: 4 [54400/60000 (91%)]\tLoss: 0.304461\n",
            "Train Epoch: 4 [55040/60000 (92%)]\tLoss: 0.336566\n",
            "Train Epoch: 4 [55680/60000 (93%)]\tLoss: 0.306955\n",
            "Train Epoch: 4 [56320/60000 (94%)]\tLoss: 0.235180\n",
            "Train Epoch: 4 [56960/60000 (95%)]\tLoss: 0.230419\n",
            "Train Epoch: 4 [57600/60000 (96%)]\tLoss: 0.223417\n",
            "Train Epoch: 4 [58240/60000 (97%)]\tLoss: 0.193412\n",
            "Train Epoch: 4 [58880/60000 (98%)]\tLoss: 0.278537\n",
            "Train Epoch: 4 [59520/60000 (99%)]\tLoss: 0.249322\n"
          ]
        },
        {
          "output_type": "stream",
          "name": "stderr",
          "text": [
            "/usr/local/lib/python3.7/dist-packages/torch/nn/_reduction.py:42: UserWarning: size_average and reduce args will be deprecated, please use reduction='sum' instead.\n",
            "  warnings.warn(warning.format(ret))\n"
          ]
        },
        {
          "output_type": "stream",
          "name": "stdout",
          "text": [
            "\n",
            "Test set: Avg. loss: 0.0805, Accuracy: 9743/10000 (97%)\n",
            "\n",
            "Train Epoch: 5 [0/60000 (0%)]\tLoss: 0.709255\n",
            "Train Epoch: 5 [640/60000 (1%)]\tLoss: 0.251142\n",
            "Train Epoch: 5 [1280/60000 (2%)]\tLoss: 0.423863\n",
            "Train Epoch: 5 [1920/60000 (3%)]\tLoss: 0.286563\n",
            "Train Epoch: 5 [2560/60000 (4%)]\tLoss: 0.106160\n",
            "Train Epoch: 5 [3200/60000 (5%)]\tLoss: 0.246190\n",
            "Train Epoch: 5 [3840/60000 (6%)]\tLoss: 0.194533\n",
            "Train Epoch: 5 [4480/60000 (7%)]\tLoss: 0.195916\n",
            "Train Epoch: 5 [5120/60000 (9%)]\tLoss: 0.168419\n",
            "Train Epoch: 5 [5760/60000 (10%)]\tLoss: 0.274615\n",
            "Train Epoch: 5 [6400/60000 (11%)]\tLoss: 0.202643\n",
            "Train Epoch: 5 [7040/60000 (12%)]\tLoss: 0.215181\n",
            "Train Epoch: 5 [7680/60000 (13%)]\tLoss: 0.161385\n",
            "Train Epoch: 5 [8320/60000 (14%)]\tLoss: 0.217304\n",
            "Train Epoch: 5 [8960/60000 (15%)]\tLoss: 0.209645\n",
            "Train Epoch: 5 [9600/60000 (16%)]\tLoss: 0.379260\n",
            "Train Epoch: 5 [10240/60000 (17%)]\tLoss: 0.384919\n",
            "Train Epoch: 5 [10880/60000 (18%)]\tLoss: 0.391416\n",
            "Train Epoch: 5 [11520/60000 (19%)]\tLoss: 0.229624\n",
            "Train Epoch: 5 [12160/60000 (20%)]\tLoss: 0.104263\n",
            "Train Epoch: 5 [12800/60000 (21%)]\tLoss: 0.272526\n",
            "Train Epoch: 5 [13440/60000 (22%)]\tLoss: 0.300070\n",
            "Train Epoch: 5 [14080/60000 (23%)]\tLoss: 0.215545\n",
            "Train Epoch: 5 [14720/60000 (25%)]\tLoss: 0.231532\n",
            "Train Epoch: 5 [15360/60000 (26%)]\tLoss: 0.104764\n",
            "Train Epoch: 5 [16000/60000 (27%)]\tLoss: 0.172922\n",
            "Train Epoch: 5 [16640/60000 (28%)]\tLoss: 0.320020\n",
            "Train Epoch: 5 [17280/60000 (29%)]\tLoss: 0.156079\n",
            "Train Epoch: 5 [17920/60000 (30%)]\tLoss: 0.200182\n",
            "Train Epoch: 5 [18560/60000 (31%)]\tLoss: 0.086606\n",
            "Train Epoch: 5 [19200/60000 (32%)]\tLoss: 0.219931\n",
            "Train Epoch: 5 [19840/60000 (33%)]\tLoss: 0.263300\n",
            "Train Epoch: 5 [20480/60000 (34%)]\tLoss: 0.140147\n",
            "Train Epoch: 5 [21120/60000 (35%)]\tLoss: 0.310475\n",
            "Train Epoch: 5 [21760/60000 (36%)]\tLoss: 0.263217\n",
            "Train Epoch: 5 [22400/60000 (37%)]\tLoss: 0.105626\n",
            "Train Epoch: 5 [23040/60000 (38%)]\tLoss: 0.265254\n",
            "Train Epoch: 5 [23680/60000 (39%)]\tLoss: 0.154219\n",
            "Train Epoch: 5 [24320/60000 (41%)]\tLoss: 0.114828\n",
            "Train Epoch: 5 [24960/60000 (42%)]\tLoss: 0.290098\n",
            "Train Epoch: 5 [25600/60000 (43%)]\tLoss: 0.107901\n",
            "Train Epoch: 5 [26240/60000 (44%)]\tLoss: 0.195530\n",
            "Train Epoch: 5 [26880/60000 (45%)]\tLoss: 0.336897\n",
            "Train Epoch: 5 [27520/60000 (46%)]\tLoss: 0.190147\n",
            "Train Epoch: 5 [28160/60000 (47%)]\tLoss: 0.119166\n",
            "Train Epoch: 5 [28800/60000 (48%)]\tLoss: 0.151961\n",
            "Train Epoch: 5 [29440/60000 (49%)]\tLoss: 0.304454\n",
            "Train Epoch: 5 [30080/60000 (50%)]\tLoss: 0.163852\n",
            "Train Epoch: 5 [30720/60000 (51%)]\tLoss: 0.170971\n",
            "Train Epoch: 5 [31360/60000 (52%)]\tLoss: 0.399120\n",
            "Train Epoch: 5 [32000/60000 (53%)]\tLoss: 0.276383\n",
            "Train Epoch: 5 [32640/60000 (54%)]\tLoss: 0.267365\n",
            "Train Epoch: 5 [33280/60000 (55%)]\tLoss: 0.189425\n",
            "Train Epoch: 5 [33920/60000 (57%)]\tLoss: 0.230674\n",
            "Train Epoch: 5 [34560/60000 (58%)]\tLoss: 0.143357\n",
            "Train Epoch: 5 [35200/60000 (59%)]\tLoss: 0.161453\n",
            "Train Epoch: 5 [35840/60000 (60%)]\tLoss: 0.234612\n",
            "Train Epoch: 5 [36480/60000 (61%)]\tLoss: 0.078636\n",
            "Train Epoch: 5 [37120/60000 (62%)]\tLoss: 0.124889\n",
            "Train Epoch: 5 [37760/60000 (63%)]\tLoss: 0.139410\n",
            "Train Epoch: 5 [38400/60000 (64%)]\tLoss: 0.187630\n",
            "Train Epoch: 5 [39040/60000 (65%)]\tLoss: 0.607827\n",
            "Train Epoch: 5 [39680/60000 (66%)]\tLoss: 0.250815\n",
            "Train Epoch: 5 [40320/60000 (67%)]\tLoss: 0.130116\n",
            "Train Epoch: 5 [40960/60000 (68%)]\tLoss: 0.154545\n",
            "Train Epoch: 5 [41600/60000 (69%)]\tLoss: 0.214082\n",
            "Train Epoch: 5 [42240/60000 (70%)]\tLoss: 0.223104\n",
            "Train Epoch: 5 [42880/60000 (71%)]\tLoss: 0.238425\n",
            "Train Epoch: 5 [43520/60000 (72%)]\tLoss: 0.303529\n",
            "Train Epoch: 5 [44160/60000 (74%)]\tLoss: 0.118726\n",
            "Train Epoch: 5 [44800/60000 (75%)]\tLoss: 0.429243\n",
            "Train Epoch: 5 [45440/60000 (76%)]\tLoss: 0.264712\n",
            "Train Epoch: 5 [46080/60000 (77%)]\tLoss: 0.210919\n",
            "Train Epoch: 5 [46720/60000 (78%)]\tLoss: 0.247410\n",
            "Train Epoch: 5 [47360/60000 (79%)]\tLoss: 0.204730\n",
            "Train Epoch: 5 [48000/60000 (80%)]\tLoss: 0.340719\n",
            "Train Epoch: 5 [48640/60000 (81%)]\tLoss: 0.259861\n",
            "Train Epoch: 5 [49280/60000 (82%)]\tLoss: 0.206136\n",
            "Train Epoch: 5 [49920/60000 (83%)]\tLoss: 0.376568\n",
            "Train Epoch: 5 [50560/60000 (84%)]\tLoss: 0.100538\n",
            "Train Epoch: 5 [51200/60000 (85%)]\tLoss: 0.324382\n",
            "Train Epoch: 5 [51840/60000 (86%)]\tLoss: 0.171884\n",
            "Train Epoch: 5 [52480/60000 (87%)]\tLoss: 0.301816\n",
            "Train Epoch: 5 [53120/60000 (88%)]\tLoss: 0.115254\n",
            "Train Epoch: 5 [53760/60000 (90%)]\tLoss: 0.128619\n",
            "Train Epoch: 5 [54400/60000 (91%)]\tLoss: 0.108570\n",
            "Train Epoch: 5 [55040/60000 (92%)]\tLoss: 0.294047\n",
            "Train Epoch: 5 [55680/60000 (93%)]\tLoss: 0.154670\n",
            "Train Epoch: 5 [56320/60000 (94%)]\tLoss: 0.181823\n",
            "Train Epoch: 5 [56960/60000 (95%)]\tLoss: 0.359027\n",
            "Train Epoch: 5 [57600/60000 (96%)]\tLoss: 0.318976\n",
            "Train Epoch: 5 [58240/60000 (97%)]\tLoss: 0.201895\n",
            "Train Epoch: 5 [58880/60000 (98%)]\tLoss: 0.133300\n",
            "Train Epoch: 5 [59520/60000 (99%)]\tLoss: 0.103642\n",
            "\n",
            "Test set: Avg. loss: 0.0726, Accuracy: 9771/10000 (98%)\n",
            "\n",
            "Train Epoch: 6 [0/60000 (0%)]\tLoss: 0.341698\n",
            "Train Epoch: 6 [640/60000 (1%)]\tLoss: 0.406740\n",
            "Train Epoch: 6 [1280/60000 (2%)]\tLoss: 0.332848\n",
            "Train Epoch: 6 [1920/60000 (3%)]\tLoss: 0.129717\n",
            "Train Epoch: 6 [2560/60000 (4%)]\tLoss: 0.172097\n",
            "Train Epoch: 6 [3200/60000 (5%)]\tLoss: 0.283871\n",
            "Train Epoch: 6 [3840/60000 (6%)]\tLoss: 0.284617\n",
            "Train Epoch: 6 [4480/60000 (7%)]\tLoss: 0.291414\n",
            "Train Epoch: 6 [5120/60000 (9%)]\tLoss: 0.151156\n",
            "Train Epoch: 6 [5760/60000 (10%)]\tLoss: 0.217348\n",
            "Train Epoch: 6 [6400/60000 (11%)]\tLoss: 0.215260\n",
            "Train Epoch: 6 [7040/60000 (12%)]\tLoss: 0.284638\n",
            "Train Epoch: 6 [7680/60000 (13%)]\tLoss: 0.245171\n",
            "Train Epoch: 6 [8320/60000 (14%)]\tLoss: 0.169621\n",
            "Train Epoch: 6 [8960/60000 (15%)]\tLoss: 0.191797\n",
            "Train Epoch: 6 [9600/60000 (16%)]\tLoss: 0.294663\n",
            "Train Epoch: 6 [10240/60000 (17%)]\tLoss: 0.258718\n",
            "Train Epoch: 6 [10880/60000 (18%)]\tLoss: 0.197052\n",
            "Train Epoch: 6 [11520/60000 (19%)]\tLoss: 0.246421\n",
            "Train Epoch: 6 [12160/60000 (20%)]\tLoss: 0.180690\n",
            "Train Epoch: 6 [12800/60000 (21%)]\tLoss: 0.272643\n",
            "Train Epoch: 6 [13440/60000 (22%)]\tLoss: 0.177912\n",
            "Train Epoch: 6 [14080/60000 (23%)]\tLoss: 0.119705\n",
            "Train Epoch: 6 [14720/60000 (25%)]\tLoss: 0.225891\n",
            "Train Epoch: 6 [15360/60000 (26%)]\tLoss: 0.113941\n",
            "Train Epoch: 6 [16000/60000 (27%)]\tLoss: 0.233107\n",
            "Train Epoch: 6 [16640/60000 (28%)]\tLoss: 0.263741\n",
            "Train Epoch: 6 [17280/60000 (29%)]\tLoss: 0.369615\n",
            "Train Epoch: 6 [17920/60000 (30%)]\tLoss: 0.109343\n",
            "Train Epoch: 6 [18560/60000 (31%)]\tLoss: 0.476459\n",
            "Train Epoch: 6 [19200/60000 (32%)]\tLoss: 0.465040\n",
            "Train Epoch: 6 [19840/60000 (33%)]\tLoss: 0.224953\n",
            "Train Epoch: 6 [20480/60000 (34%)]\tLoss: 0.185112\n",
            "Train Epoch: 6 [21120/60000 (35%)]\tLoss: 0.177865\n",
            "Train Epoch: 6 [21760/60000 (36%)]\tLoss: 0.312740\n",
            "Train Epoch: 6 [22400/60000 (37%)]\tLoss: 0.326235\n",
            "Train Epoch: 6 [23040/60000 (38%)]\tLoss: 0.286104\n",
            "Train Epoch: 6 [23680/60000 (39%)]\tLoss: 0.048245\n",
            "Train Epoch: 6 [24320/60000 (41%)]\tLoss: 0.260775\n",
            "Train Epoch: 6 [24960/60000 (42%)]\tLoss: 0.137616\n",
            "Train Epoch: 6 [25600/60000 (43%)]\tLoss: 0.441208\n",
            "Train Epoch: 6 [26240/60000 (44%)]\tLoss: 0.215190\n",
            "Train Epoch: 6 [26880/60000 (45%)]\tLoss: 0.461925\n",
            "Train Epoch: 6 [27520/60000 (46%)]\tLoss: 0.173025\n",
            "Train Epoch: 6 [28160/60000 (47%)]\tLoss: 0.199781\n",
            "Train Epoch: 6 [28800/60000 (48%)]\tLoss: 0.339857\n",
            "Train Epoch: 6 [29440/60000 (49%)]\tLoss: 0.248406\n",
            "Train Epoch: 6 [30080/60000 (50%)]\tLoss: 0.275948\n",
            "Train Epoch: 6 [30720/60000 (51%)]\tLoss: 0.095770\n",
            "Train Epoch: 6 [31360/60000 (52%)]\tLoss: 0.370407\n",
            "Train Epoch: 6 [32000/60000 (53%)]\tLoss: 0.170836\n",
            "Train Epoch: 6 [32640/60000 (54%)]\tLoss: 0.271531\n",
            "Train Epoch: 6 [33280/60000 (55%)]\tLoss: 0.170641\n",
            "Train Epoch: 6 [33920/60000 (57%)]\tLoss: 0.187937\n",
            "Train Epoch: 6 [34560/60000 (58%)]\tLoss: 0.313661\n",
            "Train Epoch: 6 [35200/60000 (59%)]\tLoss: 0.178133\n",
            "Train Epoch: 6 [35840/60000 (60%)]\tLoss: 0.204578\n",
            "Train Epoch: 6 [36480/60000 (61%)]\tLoss: 0.143513\n",
            "Train Epoch: 6 [37120/60000 (62%)]\tLoss: 0.140633\n",
            "Train Epoch: 6 [37760/60000 (63%)]\tLoss: 0.321475\n",
            "Train Epoch: 6 [38400/60000 (64%)]\tLoss: 0.117946\n",
            "Train Epoch: 6 [39040/60000 (65%)]\tLoss: 0.107470\n",
            "Train Epoch: 6 [39680/60000 (66%)]\tLoss: 0.232409\n",
            "Train Epoch: 6 [40320/60000 (67%)]\tLoss: 0.143348\n",
            "Train Epoch: 6 [40960/60000 (68%)]\tLoss: 0.218504\n",
            "Train Epoch: 6 [41600/60000 (69%)]\tLoss: 0.148401\n",
            "Train Epoch: 6 [42240/60000 (70%)]\tLoss: 0.401096\n",
            "Train Epoch: 6 [42880/60000 (71%)]\tLoss: 0.261811\n",
            "Train Epoch: 6 [43520/60000 (72%)]\tLoss: 0.155922\n",
            "Train Epoch: 6 [44160/60000 (74%)]\tLoss: 0.107845\n",
            "Train Epoch: 6 [44800/60000 (75%)]\tLoss: 0.178227\n",
            "Train Epoch: 6 [45440/60000 (76%)]\tLoss: 0.267690\n",
            "Train Epoch: 6 [46080/60000 (77%)]\tLoss: 0.221334\n",
            "Train Epoch: 6 [46720/60000 (78%)]\tLoss: 0.219211\n",
            "Train Epoch: 6 [47360/60000 (79%)]\tLoss: 0.160239\n",
            "Train Epoch: 6 [48000/60000 (80%)]\tLoss: 0.181059\n",
            "Train Epoch: 6 [48640/60000 (81%)]\tLoss: 0.153165\n",
            "Train Epoch: 6 [49280/60000 (82%)]\tLoss: 0.062538\n",
            "Train Epoch: 6 [49920/60000 (83%)]\tLoss: 0.163834\n",
            "Train Epoch: 6 [50560/60000 (84%)]\tLoss: 0.216369\n",
            "Train Epoch: 6 [51200/60000 (85%)]\tLoss: 0.101941\n",
            "Train Epoch: 6 [51840/60000 (86%)]\tLoss: 0.142184\n",
            "Train Epoch: 6 [52480/60000 (87%)]\tLoss: 0.296391\n",
            "Train Epoch: 6 [53120/60000 (88%)]\tLoss: 0.205789\n",
            "Train Epoch: 6 [53760/60000 (90%)]\tLoss: 0.276399\n",
            "Train Epoch: 6 [54400/60000 (91%)]\tLoss: 0.170142\n",
            "Train Epoch: 6 [55040/60000 (92%)]\tLoss: 0.302094\n",
            "Train Epoch: 6 [55680/60000 (93%)]\tLoss: 0.154732\n",
            "Train Epoch: 6 [56320/60000 (94%)]\tLoss: 0.336862\n",
            "Train Epoch: 6 [56960/60000 (95%)]\tLoss: 0.398268\n",
            "Train Epoch: 6 [57600/60000 (96%)]\tLoss: 0.218870\n",
            "Train Epoch: 6 [58240/60000 (97%)]\tLoss: 0.118912\n",
            "Train Epoch: 6 [58880/60000 (98%)]\tLoss: 0.154665\n",
            "Train Epoch: 6 [59520/60000 (99%)]\tLoss: 0.145815\n",
            "\n",
            "Test set: Avg. loss: 0.0691, Accuracy: 9769/10000 (98%)\n",
            "\n",
            "Train Epoch: 7 [0/60000 (0%)]\tLoss: 0.333929\n",
            "Train Epoch: 7 [640/60000 (1%)]\tLoss: 0.241238\n",
            "Train Epoch: 7 [1280/60000 (2%)]\tLoss: 0.476416\n",
            "Train Epoch: 7 [1920/60000 (3%)]\tLoss: 0.201384\n",
            "Train Epoch: 7 [2560/60000 (4%)]\tLoss: 0.083723\n",
            "Train Epoch: 7 [3200/60000 (5%)]\tLoss: 0.146249\n",
            "Train Epoch: 7 [3840/60000 (6%)]\tLoss: 0.147649\n",
            "Train Epoch: 7 [4480/60000 (7%)]\tLoss: 0.109004\n",
            "Train Epoch: 7 [5120/60000 (9%)]\tLoss: 0.191627\n",
            "Train Epoch: 7 [5760/60000 (10%)]\tLoss: 0.256240\n",
            "Train Epoch: 7 [6400/60000 (11%)]\tLoss: 0.250513\n",
            "Train Epoch: 7 [7040/60000 (12%)]\tLoss: 0.230389\n",
            "Train Epoch: 7 [7680/60000 (13%)]\tLoss: 0.128733\n",
            "Train Epoch: 7 [8320/60000 (14%)]\tLoss: 0.277139\n",
            "Train Epoch: 7 [8960/60000 (15%)]\tLoss: 0.182621\n",
            "Train Epoch: 7 [9600/60000 (16%)]\tLoss: 0.311209\n",
            "Train Epoch: 7 [10240/60000 (17%)]\tLoss: 0.230229\n",
            "Train Epoch: 7 [10880/60000 (18%)]\tLoss: 0.453635\n",
            "Train Epoch: 7 [11520/60000 (19%)]\tLoss: 0.342980\n",
            "Train Epoch: 7 [12160/60000 (20%)]\tLoss: 0.116539\n",
            "Train Epoch: 7 [12800/60000 (21%)]\tLoss: 0.161721\n",
            "Train Epoch: 7 [13440/60000 (22%)]\tLoss: 0.099665\n",
            "Train Epoch: 7 [14080/60000 (23%)]\tLoss: 0.093025\n",
            "Train Epoch: 7 [14720/60000 (25%)]\tLoss: 0.281174\n",
            "Train Epoch: 7 [15360/60000 (26%)]\tLoss: 0.131711\n",
            "Train Epoch: 7 [16000/60000 (27%)]\tLoss: 0.107211\n",
            "Train Epoch: 7 [16640/60000 (28%)]\tLoss: 0.090094\n",
            "Train Epoch: 7 [17280/60000 (29%)]\tLoss: 0.099580\n",
            "Train Epoch: 7 [17920/60000 (30%)]\tLoss: 0.143348\n",
            "Train Epoch: 7 [18560/60000 (31%)]\tLoss: 0.141851\n",
            "Train Epoch: 7 [19200/60000 (32%)]\tLoss: 0.181618\n",
            "Train Epoch: 7 [19840/60000 (33%)]\tLoss: 0.220111\n",
            "Train Epoch: 7 [20480/60000 (34%)]\tLoss: 0.155659\n",
            "Train Epoch: 7 [21120/60000 (35%)]\tLoss: 0.282353\n",
            "Train Epoch: 7 [21760/60000 (36%)]\tLoss: 0.112314\n",
            "Train Epoch: 7 [22400/60000 (37%)]\tLoss: 0.108938\n",
            "Train Epoch: 7 [23040/60000 (38%)]\tLoss: 0.260115\n",
            "Train Epoch: 7 [23680/60000 (39%)]\tLoss: 0.423052\n",
            "Train Epoch: 7 [24320/60000 (41%)]\tLoss: 0.248930\n",
            "Train Epoch: 7 [24960/60000 (42%)]\tLoss: 0.363257\n",
            "Train Epoch: 7 [25600/60000 (43%)]\tLoss: 0.205668\n",
            "Train Epoch: 7 [26240/60000 (44%)]\tLoss: 0.116260\n",
            "Train Epoch: 7 [26880/60000 (45%)]\tLoss: 0.223158\n",
            "Train Epoch: 7 [27520/60000 (46%)]\tLoss: 0.180761\n",
            "Train Epoch: 7 [28160/60000 (47%)]\tLoss: 0.329110\n",
            "Train Epoch: 7 [28800/60000 (48%)]\tLoss: 0.267895\n",
            "Train Epoch: 7 [29440/60000 (49%)]\tLoss: 0.138161\n",
            "Train Epoch: 7 [30080/60000 (50%)]\tLoss: 0.045614\n",
            "Train Epoch: 7 [30720/60000 (51%)]\tLoss: 0.133936\n",
            "Train Epoch: 7 [31360/60000 (52%)]\tLoss: 0.181036\n",
            "Train Epoch: 7 [32000/60000 (53%)]\tLoss: 0.265981\n",
            "Train Epoch: 7 [32640/60000 (54%)]\tLoss: 0.165156\n",
            "Train Epoch: 7 [33280/60000 (55%)]\tLoss: 0.134606\n",
            "Train Epoch: 7 [33920/60000 (57%)]\tLoss: 0.230201\n",
            "Train Epoch: 7 [34560/60000 (58%)]\tLoss: 0.186549\n",
            "Train Epoch: 7 [35200/60000 (59%)]\tLoss: 0.157931\n",
            "Train Epoch: 7 [35840/60000 (60%)]\tLoss: 0.264535\n",
            "Train Epoch: 7 [36480/60000 (61%)]\tLoss: 0.137185\n",
            "Train Epoch: 7 [37120/60000 (62%)]\tLoss: 0.135908\n",
            "Train Epoch: 7 [37760/60000 (63%)]\tLoss: 0.138578\n",
            "Train Epoch: 7 [38400/60000 (64%)]\tLoss: 0.242786\n",
            "Train Epoch: 7 [39040/60000 (65%)]\tLoss: 0.235543\n",
            "Train Epoch: 7 [39680/60000 (66%)]\tLoss: 0.234761\n",
            "Train Epoch: 7 [40320/60000 (67%)]\tLoss: 0.304720\n",
            "Train Epoch: 7 [40960/60000 (68%)]\tLoss: 0.343033\n",
            "Train Epoch: 7 [41600/60000 (69%)]\tLoss: 0.203620\n",
            "Train Epoch: 7 [42240/60000 (70%)]\tLoss: 0.209455\n",
            "Train Epoch: 7 [42880/60000 (71%)]\tLoss: 0.192507\n",
            "Train Epoch: 7 [43520/60000 (72%)]\tLoss: 0.176962\n",
            "Train Epoch: 7 [44160/60000 (74%)]\tLoss: 0.355296\n",
            "Train Epoch: 7 [44800/60000 (75%)]\tLoss: 0.183430\n",
            "Train Epoch: 7 [45440/60000 (76%)]\tLoss: 0.236624\n",
            "Train Epoch: 7 [46080/60000 (77%)]\tLoss: 0.173474\n",
            "Train Epoch: 7 [46720/60000 (78%)]\tLoss: 0.177928\n",
            "Train Epoch: 7 [47360/60000 (79%)]\tLoss: 0.216656\n",
            "Train Epoch: 7 [48000/60000 (80%)]\tLoss: 0.158157\n",
            "Train Epoch: 7 [48640/60000 (81%)]\tLoss: 0.233725\n",
            "Train Epoch: 7 [49280/60000 (82%)]\tLoss: 0.114642\n",
            "Train Epoch: 7 [49920/60000 (83%)]\tLoss: 0.047876\n",
            "Train Epoch: 7 [50560/60000 (84%)]\tLoss: 0.150756\n",
            "Train Epoch: 7 [51200/60000 (85%)]\tLoss: 0.214217\n",
            "Train Epoch: 7 [51840/60000 (86%)]\tLoss: 0.134205\n",
            "Train Epoch: 7 [52480/60000 (87%)]\tLoss: 0.184685\n",
            "Train Epoch: 7 [53120/60000 (88%)]\tLoss: 0.066684\n",
            "Train Epoch: 7 [53760/60000 (90%)]\tLoss: 0.162509\n",
            "Train Epoch: 7 [54400/60000 (91%)]\tLoss: 0.233804\n",
            "Train Epoch: 7 [55040/60000 (92%)]\tLoss: 0.249374\n",
            "Train Epoch: 7 [55680/60000 (93%)]\tLoss: 0.264714\n",
            "Train Epoch: 7 [56320/60000 (94%)]\tLoss: 0.465705\n",
            "Train Epoch: 7 [56960/60000 (95%)]\tLoss: 0.197266\n",
            "Train Epoch: 7 [57600/60000 (96%)]\tLoss: 0.263318\n",
            "Train Epoch: 7 [58240/60000 (97%)]\tLoss: 0.104049\n",
            "Train Epoch: 7 [58880/60000 (98%)]\tLoss: 0.051280\n",
            "Train Epoch: 7 [59520/60000 (99%)]\tLoss: 0.260329\n",
            "\n",
            "Test set: Avg. loss: 0.0622, Accuracy: 9807/10000 (98%)\n",
            "\n",
            "Train Epoch: 8 [0/60000 (0%)]\tLoss: 0.167359\n",
            "Train Epoch: 8 [640/60000 (1%)]\tLoss: 0.192095\n",
            "Train Epoch: 8 [1280/60000 (2%)]\tLoss: 0.196105\n",
            "Train Epoch: 8 [1920/60000 (3%)]\tLoss: 0.159971\n",
            "Train Epoch: 8 [2560/60000 (4%)]\tLoss: 0.246038\n",
            "Train Epoch: 8 [3200/60000 (5%)]\tLoss: 0.097233\n",
            "Train Epoch: 8 [3840/60000 (6%)]\tLoss: 0.086862\n",
            "Train Epoch: 8 [4480/60000 (7%)]\tLoss: 0.122764\n",
            "Train Epoch: 8 [5120/60000 (9%)]\tLoss: 0.257003\n",
            "Train Epoch: 8 [5760/60000 (10%)]\tLoss: 0.168441\n",
            "Train Epoch: 8 [6400/60000 (11%)]\tLoss: 0.140811\n",
            "Train Epoch: 8 [7040/60000 (12%)]\tLoss: 0.414096\n",
            "Train Epoch: 8 [7680/60000 (13%)]\tLoss: 0.269096\n",
            "Train Epoch: 8 [8320/60000 (14%)]\tLoss: 0.358222\n",
            "Train Epoch: 8 [8960/60000 (15%)]\tLoss: 0.272429\n",
            "Train Epoch: 8 [9600/60000 (16%)]\tLoss: 0.110467\n",
            "Train Epoch: 8 [10240/60000 (17%)]\tLoss: 0.117586\n",
            "Train Epoch: 8 [10880/60000 (18%)]\tLoss: 0.265209\n",
            "Train Epoch: 8 [11520/60000 (19%)]\tLoss: 0.220204\n",
            "Train Epoch: 8 [12160/60000 (20%)]\tLoss: 0.195406\n",
            "Train Epoch: 8 [12800/60000 (21%)]\tLoss: 0.175324\n",
            "Train Epoch: 8 [13440/60000 (22%)]\tLoss: 0.139608\n",
            "Train Epoch: 8 [14080/60000 (23%)]\tLoss: 0.384903\n",
            "Train Epoch: 8 [14720/60000 (25%)]\tLoss: 0.577550\n",
            "Train Epoch: 8 [15360/60000 (26%)]\tLoss: 0.178934\n",
            "Train Epoch: 8 [16000/60000 (27%)]\tLoss: 0.283411\n",
            "Train Epoch: 8 [16640/60000 (28%)]\tLoss: 0.096846\n",
            "Train Epoch: 8 [17280/60000 (29%)]\tLoss: 0.135261\n",
            "Train Epoch: 8 [17920/60000 (30%)]\tLoss: 0.134434\n",
            "Train Epoch: 8 [18560/60000 (31%)]\tLoss: 0.211545\n",
            "Train Epoch: 8 [19200/60000 (32%)]\tLoss: 0.166359\n",
            "Train Epoch: 8 [19840/60000 (33%)]\tLoss: 0.163707\n",
            "Train Epoch: 8 [20480/60000 (34%)]\tLoss: 0.138246\n",
            "Train Epoch: 8 [21120/60000 (35%)]\tLoss: 0.245138\n",
            "Train Epoch: 8 [21760/60000 (36%)]\tLoss: 0.184042\n",
            "Train Epoch: 8 [22400/60000 (37%)]\tLoss: 0.150328\n",
            "Train Epoch: 8 [23040/60000 (38%)]\tLoss: 0.111301\n",
            "Train Epoch: 8 [23680/60000 (39%)]\tLoss: 0.170381\n",
            "Train Epoch: 8 [24320/60000 (41%)]\tLoss: 0.070945\n",
            "Train Epoch: 8 [24960/60000 (42%)]\tLoss: 0.281031\n",
            "Train Epoch: 8 [25600/60000 (43%)]\tLoss: 0.237087\n",
            "Train Epoch: 8 [26240/60000 (44%)]\tLoss: 0.171926\n",
            "Train Epoch: 8 [26880/60000 (45%)]\tLoss: 0.263533\n",
            "Train Epoch: 8 [27520/60000 (46%)]\tLoss: 0.266742\n",
            "Train Epoch: 8 [28160/60000 (47%)]\tLoss: 0.129816\n",
            "Train Epoch: 8 [28800/60000 (48%)]\tLoss: 0.110790\n",
            "Train Epoch: 8 [29440/60000 (49%)]\tLoss: 0.107227\n",
            "Train Epoch: 8 [30080/60000 (50%)]\tLoss: 0.130412\n",
            "Train Epoch: 8 [30720/60000 (51%)]\tLoss: 0.043225\n",
            "Train Epoch: 8 [31360/60000 (52%)]\tLoss: 0.286646\n",
            "Train Epoch: 8 [32000/60000 (53%)]\tLoss: 0.165372\n",
            "Train Epoch: 8 [32640/60000 (54%)]\tLoss: 0.107634\n",
            "Train Epoch: 8 [33280/60000 (55%)]\tLoss: 0.270861\n",
            "Train Epoch: 8 [33920/60000 (57%)]\tLoss: 0.189167\n",
            "Train Epoch: 8 [34560/60000 (58%)]\tLoss: 0.234377\n",
            "Train Epoch: 8 [35200/60000 (59%)]\tLoss: 0.184942\n",
            "Train Epoch: 8 [35840/60000 (60%)]\tLoss: 0.328680\n",
            "Train Epoch: 8 [36480/60000 (61%)]\tLoss: 0.112480\n",
            "Train Epoch: 8 [37120/60000 (62%)]\tLoss: 0.202068\n",
            "Train Epoch: 8 [37760/60000 (63%)]\tLoss: 0.233725\n",
            "Train Epoch: 8 [38400/60000 (64%)]\tLoss: 0.183082\n",
            "Train Epoch: 8 [39040/60000 (65%)]\tLoss: 0.258275\n",
            "Train Epoch: 8 [39680/60000 (66%)]\tLoss: 0.118511\n",
            "Train Epoch: 8 [40320/60000 (67%)]\tLoss: 0.227505\n",
            "Train Epoch: 8 [40960/60000 (68%)]\tLoss: 0.167110\n",
            "Train Epoch: 8 [41600/60000 (69%)]\tLoss: 0.231911\n",
            "Train Epoch: 8 [42240/60000 (70%)]\tLoss: 0.279044\n",
            "Train Epoch: 8 [42880/60000 (71%)]\tLoss: 0.232903\n",
            "Train Epoch: 8 [43520/60000 (72%)]\tLoss: 0.212432\n",
            "Train Epoch: 8 [44160/60000 (74%)]\tLoss: 0.176503\n",
            "Train Epoch: 8 [44800/60000 (75%)]\tLoss: 0.351361\n",
            "Train Epoch: 8 [45440/60000 (76%)]\tLoss: 0.115184\n",
            "Train Epoch: 8 [46080/60000 (77%)]\tLoss: 0.135292\n",
            "Train Epoch: 8 [46720/60000 (78%)]\tLoss: 0.112223\n",
            "Train Epoch: 8 [47360/60000 (79%)]\tLoss: 0.131030\n",
            "Train Epoch: 8 [48000/60000 (80%)]\tLoss: 0.134590\n",
            "Train Epoch: 8 [48640/60000 (81%)]\tLoss: 0.124246\n",
            "Train Epoch: 8 [49280/60000 (82%)]\tLoss: 0.177412\n",
            "Train Epoch: 8 [49920/60000 (83%)]\tLoss: 0.356780\n",
            "Train Epoch: 8 [50560/60000 (84%)]\tLoss: 0.154547\n",
            "Train Epoch: 8 [51200/60000 (85%)]\tLoss: 0.089855\n",
            "Train Epoch: 8 [51840/60000 (86%)]\tLoss: 0.309964\n",
            "Train Epoch: 8 [52480/60000 (87%)]\tLoss: 0.124566\n",
            "Train Epoch: 8 [53120/60000 (88%)]\tLoss: 0.102777\n",
            "Train Epoch: 8 [53760/60000 (90%)]\tLoss: 0.259093\n",
            "Train Epoch: 8 [54400/60000 (91%)]\tLoss: 0.445328\n",
            "Train Epoch: 8 [55040/60000 (92%)]\tLoss: 0.069172\n",
            "Train Epoch: 8 [55680/60000 (93%)]\tLoss: 0.125236\n",
            "Train Epoch: 8 [56320/60000 (94%)]\tLoss: 0.099661\n",
            "Train Epoch: 8 [56960/60000 (95%)]\tLoss: 0.163952\n",
            "Train Epoch: 8 [57600/60000 (96%)]\tLoss: 0.224112\n",
            "Train Epoch: 8 [58240/60000 (97%)]\tLoss: 0.309791\n",
            "Train Epoch: 8 [58880/60000 (98%)]\tLoss: 0.072963\n",
            "Train Epoch: 8 [59520/60000 (99%)]\tLoss: 0.392173\n",
            "\n",
            "Test set: Avg. loss: 0.0577, Accuracy: 9814/10000 (98%)\n",
            "\n"
          ]
        }
      ]
    },
    {
      "cell_type": "code",
      "metadata": {
        "colab": {
          "base_uri": "https://localhost:8080/",
          "height": 541
        },
        "id": "Abcugm8ElKFI",
        "outputId": "26b14283-bd4f-4034-b6e5-4dc78f47733b"
      },
      "source": [
        "fig = plt.figure()\n",
        "plt.plot(train_counter, train_losses, color='blue')\n",
        "plt.scatter(test_counter, test_losses, color='red')\n",
        "plt.legend(['Train Loss', 'Test Loss'], loc='upper right')\n",
        "plt.xlabel('number of training examples seen')\n",
        "plt.ylabel('negative log likelihood loss')\n",
        "fig"
      ],
      "execution_count": null,
      "outputs": [
        {
          "output_type": "execute_result",
          "data": {
            "image/png": "[encoded data removed]",
            "text/plain": [
              "<Figure size 432x288 with 1 Axes>"
            ]
          },
          "metadata": {},
          "execution_count": 34
        },
        {
          "output_type": "display_data",
          "data": {
            "image/png": "[encoded data removed]",
            "text/plain": [
              "<Figure size 432x288 with 1 Axes>"
            ]
          },
          "metadata": {
            "needs_background": "light"
          }
        }
      ]
    },
    {
      "cell_type": "code",
      "metadata": {
        "id": "jx2WC-PrlzZ3"
      },
      "source": [
        ""
      ],
      "execution_count": null,
      "outputs": []
    }
  ]
}